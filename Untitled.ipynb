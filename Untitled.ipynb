{
 "cells": [
  {
   "cell_type": "code",
   "execution_count": 26,
   "id": "963b0db5",
   "metadata": {},
   "outputs": [],
   "source": [
    "# Useful imports\n",
    "import pandas as pd\n",
    "import scipy.stats as stats\n",
    "import numpy as np"
   ]
  },
  {
   "cell_type": "markdown",
   "id": "d4bd7d21",
   "metadata": {},
   "source": [
    "# Setup"
   ]
  },
  {
   "cell_type": "code",
   "execution_count": 3,
   "id": "151c80d7",
   "metadata": {},
   "outputs": [],
   "source": [
    "# Load the players data\n",
    "male_players_df = pd.read_csv('data/male_players.csv', usecols=['player_id', 'fifa_version', 'fifa_update', 'short_name', 'overall', 'age', 'club_team_id'])"
   ]
  },
  {
   "cell_type": "code",
   "execution_count": 12,
   "id": "520d512c",
   "metadata": {},
   "outputs": [],
   "source": [
    "# Load the teams data\n",
    "male_teams_df = pd.read_csv('data/male_teams.csv', usecols=['team_id', 'team_name', 'fifa_version', 'fifa_update'])"
   ]
  },
  {
   "cell_type": "code",
   "execution_count": 13,
   "id": "cd2b09de",
   "metadata": {},
   "outputs": [
    {
     "data": {
      "text/html": [
       "<div>\n",
       "<style scoped>\n",
       "    .dataframe tbody tr th:only-of-type {\n",
       "        vertical-align: middle;\n",
       "    }\n",
       "\n",
       "    .dataframe tbody tr th {\n",
       "        vertical-align: top;\n",
       "    }\n",
       "\n",
       "    .dataframe thead th {\n",
       "        text-align: right;\n",
       "    }\n",
       "</style>\n",
       "<table border=\"1\" class=\"dataframe\">\n",
       "  <thead>\n",
       "    <tr style=\"text-align: right;\">\n",
       "      <th></th>\n",
       "      <th>player_id</th>\n",
       "      <th>fifa_version</th>\n",
       "      <th>fifa_update</th>\n",
       "      <th>short_name</th>\n",
       "      <th>overall</th>\n",
       "      <th>age</th>\n",
       "      <th>club_team_id</th>\n",
       "    </tr>\n",
       "  </thead>\n",
       "  <tbody>\n",
       "    <tr>\n",
       "      <th>0</th>\n",
       "      <td>158023</td>\n",
       "      <td>23</td>\n",
       "      <td>9</td>\n",
       "      <td>L. Messi</td>\n",
       "      <td>91</td>\n",
       "      <td>35</td>\n",
       "      <td>73.0</td>\n",
       "    </tr>\n",
       "    <tr>\n",
       "      <th>1</th>\n",
       "      <td>165153</td>\n",
       "      <td>23</td>\n",
       "      <td>9</td>\n",
       "      <td>K. Benzema</td>\n",
       "      <td>91</td>\n",
       "      <td>34</td>\n",
       "      <td>243.0</td>\n",
       "    </tr>\n",
       "    <tr>\n",
       "      <th>2</th>\n",
       "      <td>188545</td>\n",
       "      <td>23</td>\n",
       "      <td>9</td>\n",
       "      <td>R. Lewandowski</td>\n",
       "      <td>91</td>\n",
       "      <td>33</td>\n",
       "      <td>241.0</td>\n",
       "    </tr>\n",
       "    <tr>\n",
       "      <th>3</th>\n",
       "      <td>192985</td>\n",
       "      <td>23</td>\n",
       "      <td>9</td>\n",
       "      <td>K. De Bruyne</td>\n",
       "      <td>91</td>\n",
       "      <td>31</td>\n",
       "      <td>10.0</td>\n",
       "    </tr>\n",
       "    <tr>\n",
       "      <th>4</th>\n",
       "      <td>231747</td>\n",
       "      <td>23</td>\n",
       "      <td>9</td>\n",
       "      <td>K. Mbappé</td>\n",
       "      <td>91</td>\n",
       "      <td>23</td>\n",
       "      <td>73.0</td>\n",
       "    </tr>\n",
       "  </tbody>\n",
       "</table>\n",
       "</div>"
      ],
      "text/plain": [
       "   player_id  fifa_version  fifa_update      short_name  overall  age  \\\n",
       "0     158023            23            9        L. Messi       91   35   \n",
       "1     165153            23            9      K. Benzema       91   34   \n",
       "2     188545            23            9  R. Lewandowski       91   33   \n",
       "3     192985            23            9    K. De Bruyne       91   31   \n",
       "4     231747            23            9       K. Mbappé       91   23   \n",
       "\n",
       "   club_team_id  \n",
       "0          73.0  \n",
       "1         243.0  \n",
       "2         241.0  \n",
       "3          10.0  \n",
       "4          73.0  "
      ]
     },
     "metadata": {},
     "output_type": "display_data"
    },
    {
     "data": {
      "text/html": [
       "<div>\n",
       "<style scoped>\n",
       "    .dataframe tbody tr th:only-of-type {\n",
       "        vertical-align: middle;\n",
       "    }\n",
       "\n",
       "    .dataframe tbody tr th {\n",
       "        vertical-align: top;\n",
       "    }\n",
       "\n",
       "    .dataframe thead th {\n",
       "        text-align: right;\n",
       "    }\n",
       "</style>\n",
       "<table border=\"1\" class=\"dataframe\">\n",
       "  <thead>\n",
       "    <tr style=\"text-align: right;\">\n",
       "      <th></th>\n",
       "      <th>team_id</th>\n",
       "      <th>fifa_version</th>\n",
       "      <th>fifa_update</th>\n",
       "      <th>team_name</th>\n",
       "    </tr>\n",
       "  </thead>\n",
       "  <tbody>\n",
       "    <tr>\n",
       "      <th>0</th>\n",
       "      <td>10</td>\n",
       "      <td>23</td>\n",
       "      <td>9</td>\n",
       "      <td>Manchester City</td>\n",
       "    </tr>\n",
       "    <tr>\n",
       "      <th>1</th>\n",
       "      <td>73</td>\n",
       "      <td>23</td>\n",
       "      <td>9</td>\n",
       "      <td>Paris Saint Germain</td>\n",
       "    </tr>\n",
       "    <tr>\n",
       "      <th>2</th>\n",
       "      <td>243</td>\n",
       "      <td>23</td>\n",
       "      <td>9</td>\n",
       "      <td>Real Madrid</td>\n",
       "    </tr>\n",
       "    <tr>\n",
       "      <th>3</th>\n",
       "      <td>1337</td>\n",
       "      <td>23</td>\n",
       "      <td>9</td>\n",
       "      <td>Germany</td>\n",
       "    </tr>\n",
       "    <tr>\n",
       "      <th>4</th>\n",
       "      <td>5</td>\n",
       "      <td>23</td>\n",
       "      <td>9</td>\n",
       "      <td>Chelsea</td>\n",
       "    </tr>\n",
       "  </tbody>\n",
       "</table>\n",
       "</div>"
      ],
      "text/plain": [
       "   team_id  fifa_version  fifa_update            team_name\n",
       "0       10            23            9      Manchester City\n",
       "1       73            23            9  Paris Saint Germain\n",
       "2      243            23            9          Real Madrid\n",
       "3     1337            23            9              Germany\n",
       "4        5            23            9              Chelsea"
      ]
     },
     "metadata": {},
     "output_type": "display_data"
    },
    {
     "name": "stdout",
     "output_type": "stream",
     "text": [
      "Male players length:  196933\n",
      "Male teams length: 385055\n"
     ]
    }
   ],
   "source": [
    "display(male_players_df.head())\n",
    "display(male_teams_df.head())\n",
    "\n",
    "print(\"Male players length: \", len(male_players_df))\n",
    "print(\"Male teams length:\", len(male_teams_df))"
   ]
  },
  {
   "cell_type": "code",
   "execution_count": 15,
   "id": "fc00b355",
   "metadata": {},
   "outputs": [],
   "source": [
    "# Sanitize the data\n",
    "male_players_df.sort_values(by=['fifa_version','fifa_update'], ascending=False, inplace=True)\n",
    "male_players_df.drop_duplicates(subset=['player_id', 'fifa_version'], inplace=True, keep='first')\n",
    "\n",
    "male_teams_df.sort_values(by=['fifa_version','fifa_update'], ascending=False, inplace=True)\n",
    "male_teams_df.drop_duplicates(subset=['team_id', 'fifa_version'], inplace=True, keep='first')"
   ]
  },
  {
   "cell_type": "code",
   "execution_count": 19,
   "id": "89dbe45f",
   "metadata": {},
   "outputs": [
    {
     "data": {
      "text/html": [
       "<div>\n",
       "<style scoped>\n",
       "    .dataframe tbody tr th:only-of-type {\n",
       "        vertical-align: middle;\n",
       "    }\n",
       "\n",
       "    .dataframe tbody tr th {\n",
       "        vertical-align: top;\n",
       "    }\n",
       "\n",
       "    .dataframe thead th {\n",
       "        text-align: right;\n",
       "    }\n",
       "</style>\n",
       "<table border=\"1\" class=\"dataframe\">\n",
       "  <thead>\n",
       "    <tr style=\"text-align: right;\">\n",
       "      <th></th>\n",
       "      <th>player_id</th>\n",
       "      <th>fifa_version</th>\n",
       "      <th>short_name</th>\n",
       "      <th>overall</th>\n",
       "      <th>age</th>\n",
       "      <th>team_id</th>\n",
       "      <th>team_name</th>\n",
       "    </tr>\n",
       "  </thead>\n",
       "  <tbody>\n",
       "    <tr>\n",
       "      <th>0</th>\n",
       "      <td>158023</td>\n",
       "      <td>23</td>\n",
       "      <td>L. Messi</td>\n",
       "      <td>91</td>\n",
       "      <td>35</td>\n",
       "      <td>73</td>\n",
       "      <td>Paris Saint Germain</td>\n",
       "    </tr>\n",
       "    <tr>\n",
       "      <th>1</th>\n",
       "      <td>231747</td>\n",
       "      <td>23</td>\n",
       "      <td>K. Mbappé</td>\n",
       "      <td>91</td>\n",
       "      <td>23</td>\n",
       "      <td>73</td>\n",
       "      <td>Paris Saint Germain</td>\n",
       "    </tr>\n",
       "    <tr>\n",
       "      <th>2</th>\n",
       "      <td>190871</td>\n",
       "      <td>23</td>\n",
       "      <td>Neymar Jr</td>\n",
       "      <td>89</td>\n",
       "      <td>30</td>\n",
       "      <td>73</td>\n",
       "      <td>Paris Saint Germain</td>\n",
       "    </tr>\n",
       "    <tr>\n",
       "      <th>3</th>\n",
       "      <td>193041</td>\n",
       "      <td>23</td>\n",
       "      <td>K. Navas</td>\n",
       "      <td>88</td>\n",
       "      <td>35</td>\n",
       "      <td>73</td>\n",
       "      <td>Paris Saint Germain</td>\n",
       "    </tr>\n",
       "    <tr>\n",
       "      <th>4</th>\n",
       "      <td>207865</td>\n",
       "      <td>23</td>\n",
       "      <td>Marquinhos</td>\n",
       "      <td>88</td>\n",
       "      <td>28</td>\n",
       "      <td>73</td>\n",
       "      <td>Paris Saint Germain</td>\n",
       "    </tr>\n",
       "  </tbody>\n",
       "</table>\n",
       "</div>"
      ],
      "text/plain": [
       "   player_id  fifa_version  short_name  overall  age  team_id  \\\n",
       "0     158023            23    L. Messi       91   35       73   \n",
       "1     231747            23   K. Mbappé       91   23       73   \n",
       "2     190871            23   Neymar Jr       89   30       73   \n",
       "3     193041            23    K. Navas       88   35       73   \n",
       "4     207865            23  Marquinhos       88   28       73   \n",
       "\n",
       "             team_name  \n",
       "0  Paris Saint Germain  \n",
       "1  Paris Saint Germain  \n",
       "2  Paris Saint Germain  \n",
       "3  Paris Saint Germain  \n",
       "4  Paris Saint Germain  "
      ]
     },
     "metadata": {},
     "output_type": "display_data"
    },
    {
     "name": "stdout",
     "output_type": "stream",
     "text": [
      "Merged dataframe length:  193801\n"
     ]
    }
   ],
   "source": [
    "# Merge the dataframes\n",
    "merged_df = pd.merge(male_players_df, male_teams_df, left_on=['club_team_id', 'fifa_version'], right_on=['team_id', 'fifa_version'])\n",
    "\n",
    "# Keep only the relevant columns\n",
    "merged_df = merged_df.loc[:, [\"player_id\", \"fifa_version\", \"short_name\", \"overall\", \"age\", \"team_id\", \"team_name\"]]\n",
    "\n",
    "# Show the merged dataframe\n",
    "display(merged_df.head())\n",
    "print(\"Merged dataframe length: \", len(merged_df))"
   ]
  },
  {
   "cell_type": "markdown",
   "id": "d444d5d0",
   "metadata": {},
   "source": [
    "# First approach (naive)"
   ]
  },
  {
   "cell_type": "code",
   "execution_count": 20,
   "id": "549fd873",
   "metadata": {},
   "outputs": [],
   "source": [
    "# Identify rising stars, peak players, and falling stars\n",
    "merged_df['rising_star'] = (merged_df['age'] <= 23) & (merged_df['overall'] >= merged_df[merged_df['age'] <= 23]['overall'].quantile(0.90))\n",
    "merged_df['peak_player'] = (merged_df['age'].between(24, 29)) & (merged_df['overall'] >= merged_df[merged_df['age'].between(24, 29)]['overall'].quantile(0.90))\n",
    "merged_df['falling_star'] = (merged_df['age'] >= 30) & (merged_df['overall'] < merged_df[merged_df['age'] >= 30]['overall'].quantile(0.90))\n",
    "\n",
    "# Calculate club rankings based on the count of each type of player\n",
    "club_rising_stars_rank = merged_df.groupby('team_name')['rising_star'].mean().sort_values(ascending=False)\n",
    "club_peak_players_rank = merged_df.groupby('team_name')['peak_player'].mean().sort_values(ascending=False)\n",
    "club_falling_stars_rank = merged_df.groupby('team_name')['falling_star'].mean().sort_values(ascending=False)"
   ]
  },
  {
   "cell_type": "code",
   "execution_count": 23,
   "id": "9779005f",
   "metadata": {},
   "outputs": [
    {
     "data": {
      "text/plain": [
       "team_name\n",
       "Salzburg               0.460177\n",
       "Nice                   0.434783\n",
       "Ajax                   0.390572\n",
       "Avaí                   0.350000\n",
       "PSV                    0.341463\n",
       "Bayer 04 Leverkusen    0.339921\n",
       "Lille                  0.338983\n",
       "Milan                  0.338843\n",
       "CSKA Moskva            0.333333\n",
       "Fortaleza              0.329545\n",
       "Name: rising_star, dtype: float64"
      ]
     },
     "metadata": {},
     "output_type": "display_data"
    },
    {
     "data": {
      "text/plain": [
       "team_name\n",
       "Napoli                     0.449612\n",
       "Sevilla FC                 0.421687\n",
       "Benfica                    0.421488\n",
       "Paris Saint Germain        0.406504\n",
       "Atlético Madrid            0.397163\n",
       "Sevilla                    0.376923\n",
       "Porto                      0.375000\n",
       "FC Bayern München          0.357692\n",
       "Borussia Dortmund          0.337793\n",
       "Athletic Club de Bilbao    0.337662\n",
       "Name: peak_player, dtype: float64"
      ]
     },
     "metadata": {},
     "output_type": "display_data"
    },
    {
     "data": {
      "text/plain": [
       "team_name\n",
       "Paraná                   0.750000\n",
       "Ceará Sporting Club      0.700000\n",
       "12 de Octubre            0.533333\n",
       "Sport Club do Recife     0.524590\n",
       "América Mineiro          0.500000\n",
       "Cienciano                0.488889\n",
       "Qingdao Hainiu           0.475410\n",
       "América Futebol Clube    0.475000\n",
       "Altay                    0.468750\n",
       "Shanghai Shenhua         0.462121\n",
       "Name: falling_star, dtype: float64"
      ]
     },
     "metadata": {},
     "output_type": "display_data"
    }
   ],
   "source": [
    "# Show the rankings\n",
    "display(club_rising_stars_rank.head(10))\n",
    "display(club_peak_players_rank.head(10))\n",
    "display(club_falling_stars_rank.head(10))"
   ]
  },
  {
   "cell_type": "markdown",
   "id": "42a3c235",
   "metadata": {},
   "source": [
    "# Second approach (advanced)"
   ]
  },
  {
   "cell_type": "code",
   "execution_count": 25,
   "id": "f9121b94",
   "metadata": {},
   "outputs": [],
   "source": [
    "def player_classifier(overall_score,mean, std):\n",
    "    tvalue = stats.norm.cdf(overall_score, loc = mean, scale = std)\n",
    "    threadshold_lt = {0.999:\"world-top player\", 0.99:\"top player\", 0.9:\"great player\", \n",
    "                      0.5:\"above-average player\", 0.1:\"below-average player\", 0:\"bad player\"}\n",
    "    threadshold_key = sorted(threadshold_lt.keys())\n",
    "    left = 0 \n",
    "    right = len(threadshold_key) -1\n",
    "    result = None\n",
    "    # binary search\n",
    "    while left <= right:\n",
    "        mid = (left+right)//2\n",
    "        if threadshold_key[mid] <= tvalue:\n",
    "            result = threadshold_key[mid]\n",
    "            left = mid + 1\n",
    "        else:\n",
    "            right = mid - 1\n",
    "    \n",
    "    return threadshold_lt[result]\n",
    "\n",
    "stats_dict = male_players_df.groupby(['fifa_version'])['overall'].agg(['mean','std']).to_dict('index')\n",
    "\n",
    "def map_player_classifier(row):\n",
    "    mean = stats_dict[row['fifa_version']]['mean']\n",
    "    std = stats_dict[row['fifa_version']]['std']\n",
    "    return player_classifier(row['overall'], mean, std)"
   ]
  },
  {
   "cell_type": "code",
   "execution_count": 42,
   "id": "0e821ad9",
   "metadata": {},
   "outputs": [
    {
     "data": {
      "text/html": [
       "<div>\n",
       "<style scoped>\n",
       "    .dataframe tbody tr th:only-of-type {\n",
       "        vertical-align: middle;\n",
       "    }\n",
       "\n",
       "    .dataframe tbody tr th {\n",
       "        vertical-align: top;\n",
       "    }\n",
       "\n",
       "    .dataframe thead th {\n",
       "        text-align: right;\n",
       "    }\n",
       "</style>\n",
       "<table border=\"1\" class=\"dataframe\">\n",
       "  <thead>\n",
       "    <tr style=\"text-align: right;\">\n",
       "      <th></th>\n",
       "      <th>player_id</th>\n",
       "      <th>fifa_version</th>\n",
       "      <th>short_name</th>\n",
       "      <th>overall</th>\n",
       "      <th>age</th>\n",
       "      <th>team_id</th>\n",
       "      <th>team_name</th>\n",
       "      <th>rising_star</th>\n",
       "      <th>peak_player</th>\n",
       "      <th>falling_star</th>\n",
       "      <th>player_class</th>\n",
       "    </tr>\n",
       "  </thead>\n",
       "  <tbody>\n",
       "    <tr>\n",
       "      <th>0</th>\n",
       "      <td>158023</td>\n",
       "      <td>23</td>\n",
       "      <td>L. Messi</td>\n",
       "      <td>91</td>\n",
       "      <td>35</td>\n",
       "      <td>73</td>\n",
       "      <td>Paris Saint Germain</td>\n",
       "      <td>False</td>\n",
       "      <td>False</td>\n",
       "      <td>False</td>\n",
       "      <td>world-top player</td>\n",
       "    </tr>\n",
       "    <tr>\n",
       "      <th>1</th>\n",
       "      <td>231747</td>\n",
       "      <td>23</td>\n",
       "      <td>K. Mbappé</td>\n",
       "      <td>91</td>\n",
       "      <td>23</td>\n",
       "      <td>73</td>\n",
       "      <td>Paris Saint Germain</td>\n",
       "      <td>True</td>\n",
       "      <td>False</td>\n",
       "      <td>False</td>\n",
       "      <td>world-top player</td>\n",
       "    </tr>\n",
       "    <tr>\n",
       "      <th>2</th>\n",
       "      <td>190871</td>\n",
       "      <td>23</td>\n",
       "      <td>Neymar Jr</td>\n",
       "      <td>89</td>\n",
       "      <td>30</td>\n",
       "      <td>73</td>\n",
       "      <td>Paris Saint Germain</td>\n",
       "      <td>False</td>\n",
       "      <td>False</td>\n",
       "      <td>False</td>\n",
       "      <td>world-top player</td>\n",
       "    </tr>\n",
       "    <tr>\n",
       "      <th>3</th>\n",
       "      <td>193041</td>\n",
       "      <td>23</td>\n",
       "      <td>K. Navas</td>\n",
       "      <td>88</td>\n",
       "      <td>35</td>\n",
       "      <td>73</td>\n",
       "      <td>Paris Saint Germain</td>\n",
       "      <td>False</td>\n",
       "      <td>False</td>\n",
       "      <td>False</td>\n",
       "      <td>world-top player</td>\n",
       "    </tr>\n",
       "    <tr>\n",
       "      <th>4</th>\n",
       "      <td>207865</td>\n",
       "      <td>23</td>\n",
       "      <td>Marquinhos</td>\n",
       "      <td>88</td>\n",
       "      <td>28</td>\n",
       "      <td>73</td>\n",
       "      <td>Paris Saint Germain</td>\n",
       "      <td>False</td>\n",
       "      <td>True</td>\n",
       "      <td>False</td>\n",
       "      <td>world-top player</td>\n",
       "    </tr>\n",
       "  </tbody>\n",
       "</table>\n",
       "</div>"
      ],
      "text/plain": [
       "   player_id  fifa_version  short_name  overall  age  team_id  \\\n",
       "0     158023            23    L. Messi       91   35       73   \n",
       "1     231747            23   K. Mbappé       91   23       73   \n",
       "2     190871            23   Neymar Jr       89   30       73   \n",
       "3     193041            23    K. Navas       88   35       73   \n",
       "4     207865            23  Marquinhos       88   28       73   \n",
       "\n",
       "             team_name  rising_star  peak_player  falling_star  \\\n",
       "0  Paris Saint Germain        False        False         False   \n",
       "1  Paris Saint Germain         True        False         False   \n",
       "2  Paris Saint Germain        False        False         False   \n",
       "3  Paris Saint Germain        False        False         False   \n",
       "4  Paris Saint Germain        False         True         False   \n",
       "\n",
       "       player_class  \n",
       "0  world-top player  \n",
       "1  world-top player  \n",
       "2  world-top player  \n",
       "3  world-top player  \n",
       "4  world-top player  "
      ]
     },
     "metadata": {},
     "output_type": "display_data"
    }
   ],
   "source": [
    "# Apply the player classifier\n",
    "classified_player = merged_df.copy(deep=True)\n",
    "classified_player['player_class'] = classified_player.apply(map_player_classifier, axis=1)\n",
    "\n",
    "# Show the classified players\n",
    "display(classified_player.head())"
   ]
  },
  {
   "cell_type": "code",
   "execution_count": 43,
   "id": "0fe42ff0",
   "metadata": {},
   "outputs": [],
   "source": [
    "club_rising_stars_classified = merged_df[merged_df[\"rising_star\"] == True].groupby('team_name')['rising_star'].value_counts().sort_values(ascending=False).head(10)\n",
    "club_peak_players_classified = merged_df[merged_df[\"peak_player\"] == True].groupby('team_name')['peak_player'].value_counts().sort_values(ascending=False).head(10)\n",
    "club_falling_stars_classified = merged_df[merged_df[\"falling_star\"] == True].groupby('team_name')['falling_star'].value_counts().sort_values(ascending=False).head(10)"
   ]
  },
  {
   "cell_type": "code",
   "execution_count": 44,
   "id": "0ca92f4a",
   "metadata": {},
   "outputs": [
    {
     "data": {
      "text/plain": [
       "team_name            rising_star\n",
       "Ajax                 True           116\n",
       "PSV                  True            98\n",
       "Olympique Lyonnais   True            87\n",
       "Sporting CP          True            87\n",
       "Bayer 04 Leverkusen  True            86\n",
       "RB Leipzig           True            80\n",
       "FC Barcelona         True            77\n",
       "Arsenal              True            73\n",
       "Tottenham Hotspur    True            71\n",
       "Feyenoord            True            70\n",
       "Name: rising_star, dtype: int64"
      ]
     },
     "metadata": {},
     "output_type": "display_data"
    },
    {
     "data": {
      "text/plain": [
       "team_name          peak_player\n",
       "Liverpool          True           121\n",
       "Napoli             True           116\n",
       "Chelsea            True           108\n",
       "Manchester United  True           108\n",
       "Tottenham Hotspur  True           106\n",
       "West Ham United    True           105\n",
       "Manchester City    True           103\n",
       "Arsenal            True           103\n",
       "Borussia Dortmund  True           101\n",
       "Everton            True           100\n",
       "Name: peak_player, dtype: int64"
      ]
     },
     "metadata": {},
     "output_type": "display_data"
    },
    {
     "data": {
      "text/plain": [
       "team_name                 falling_star\n",
       "Deportivo Pasto           True            90\n",
       "River Plate               True            90\n",
       "Universidad Católica      True            88\n",
       "Antalyaspor               True            79\n",
       "Perth Glory               True            74\n",
       "Rosario Central           True            73\n",
       "Western Sydney Wanderers  True            72\n",
       "AIK                       True            71\n",
       "Real Salt Lake            True            70\n",
       "Newell's Old Boys         True            66\n",
       "Name: falling_star, dtype: int64"
      ]
     },
     "metadata": {},
     "output_type": "display_data"
    }
   ],
   "source": [
    "# Show the rankings\n",
    "display(club_rising_stars_classified.head(10))\n",
    "display(club_peak_players_classified.head(10))\n",
    "display(club_falling_stars_classified.head(10))"
   ]
  },
  {
   "cell_type": "code",
   "execution_count": null,
   "id": "debf75f5",
   "metadata": {},
   "outputs": [],
   "source": []
  }
 ],
 "metadata": {
  "kernelspec": {
   "display_name": "Python 3 (ipykernel)",
   "language": "python",
   "name": "python3"
  },
  "language_info": {
   "codemirror_mode": {
    "name": "ipython",
    "version": 3
   },
   "file_extension": ".py",
   "mimetype": "text/x-python",
   "name": "python",
   "nbconvert_exporter": "python",
   "pygments_lexer": "ipython3",
   "version": "3.9.18"
  }
 },
 "nbformat": 4,
 "nbformat_minor": 5
}
