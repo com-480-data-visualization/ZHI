{
 "cells": [
  {
   "cell_type": "code",
   "execution_count": 58,
   "metadata": {},
   "outputs": [],
   "source": [
    "import pandas as pd\n",
    "import numpy as np\n",
    "import matplotlib.pyplot as plt"
   ]
  },
  {
   "cell_type": "code",
   "execution_count": 59,
   "metadata": {},
   "outputs": [],
   "source": [
    "full_data = pd.read_csv('data/improved_players_full.csv')\n",
    "fill_value = {'pace':0,'shooting':0,'passing':0,'dribbling':0,'defending':0,'physic':0,\n",
    "              'player_tags':'','player_traits':'','club_position':'','player_positions':''}\n",
    "full_data.fillna(value=fill_value, inplace=True)"
   ]
  },
  {
   "cell_type": "markdown",
   "metadata": {},
   "source": [
    "# 重建json文件"
   ]
  },
  {
   "cell_type": "code",
   "execution_count": 60,
   "metadata": {},
   "outputs": [
    {
     "data": {
      "text/html": [
       "<div>\n",
       "<style scoped>\n",
       "    .dataframe tbody tr th:only-of-type {\n",
       "        vertical-align: middle;\n",
       "    }\n",
       "\n",
       "    .dataframe tbody tr th {\n",
       "        vertical-align: top;\n",
       "    }\n",
       "\n",
       "    .dataframe thead th {\n",
       "        text-align: right;\n",
       "    }\n",
       "</style>\n",
       "<table border=\"1\" class=\"dataframe\">\n",
       "  <thead>\n",
       "    <tr style=\"text-align: right;\">\n",
       "      <th></th>\n",
       "      <th>player_id</th>\n",
       "      <th>player_url</th>\n",
       "      <th>fifa_version</th>\n",
       "      <th>fifa_update</th>\n",
       "      <th>fifa_update_date</th>\n",
       "      <th>short_name</th>\n",
       "      <th>long_name</th>\n",
       "      <th>player_positions</th>\n",
       "      <th>overall</th>\n",
       "      <th>potential</th>\n",
       "      <th>...</th>\n",
       "      <th>rdm</th>\n",
       "      <th>rwb</th>\n",
       "      <th>lb</th>\n",
       "      <th>lcb</th>\n",
       "      <th>cb</th>\n",
       "      <th>rcb</th>\n",
       "      <th>rb</th>\n",
       "      <th>gk</th>\n",
       "      <th>player_face_url</th>\n",
       "      <th>player_class</th>\n",
       "    </tr>\n",
       "  </thead>\n",
       "  <tbody>\n",
       "    <tr>\n",
       "      <th>0</th>\n",
       "      <td>231747</td>\n",
       "      <td>/player/231747/kylian-mbappe/230009</td>\n",
       "      <td>23</td>\n",
       "      <td>9</td>\n",
       "      <td>2023-01-13</td>\n",
       "      <td>K. Mbappé</td>\n",
       "      <td>Kylian Mbappé Lottin</td>\n",
       "      <td>ST, LW</td>\n",
       "      <td>91</td>\n",
       "      <td>95</td>\n",
       "      <td>...</td>\n",
       "      <td>63+3</td>\n",
       "      <td>67+3</td>\n",
       "      <td>63+3</td>\n",
       "      <td>54+3</td>\n",
       "      <td>54+3</td>\n",
       "      <td>54+3</td>\n",
       "      <td>63+3</td>\n",
       "      <td>18+3</td>\n",
       "      <td>https://cdn.sofifa.net/players/231/747/23_120.png</td>\n",
       "      <td>world-top player</td>\n",
       "    </tr>\n",
       "    <tr>\n",
       "      <th>1</th>\n",
       "      <td>212622</td>\n",
       "      <td>/player/212622/joshua-kimmich/230009</td>\n",
       "      <td>23</td>\n",
       "      <td>9</td>\n",
       "      <td>2023-01-13</td>\n",
       "      <td>J. Kimmich</td>\n",
       "      <td>Joshua Walter Kimmich</td>\n",
       "      <td>CDM, RB, CM</td>\n",
       "      <td>89</td>\n",
       "      <td>90</td>\n",
       "      <td>...</td>\n",
       "      <td>86+3</td>\n",
       "      <td>84+3</td>\n",
       "      <td>83+3</td>\n",
       "      <td>81+3</td>\n",
       "      <td>81+3</td>\n",
       "      <td>81+3</td>\n",
       "      <td>83+3</td>\n",
       "      <td>21+3</td>\n",
       "      <td>https://cdn.sofifa.net/players/212/622/23_120.png</td>\n",
       "      <td>world-top player</td>\n",
       "    </tr>\n",
       "    <tr>\n",
       "      <th>2</th>\n",
       "      <td>239085</td>\n",
       "      <td>/player/239085/erling-haaland/230009</td>\n",
       "      <td>23</td>\n",
       "      <td>9</td>\n",
       "      <td>2023-01-13</td>\n",
       "      <td>E. Haaland</td>\n",
       "      <td>Erling Braut Haaland</td>\n",
       "      <td>ST</td>\n",
       "      <td>89</td>\n",
       "      <td>94</td>\n",
       "      <td>...</td>\n",
       "      <td>64+3</td>\n",
       "      <td>63+3</td>\n",
       "      <td>61+3</td>\n",
       "      <td>62+3</td>\n",
       "      <td>62+3</td>\n",
       "      <td>62+3</td>\n",
       "      <td>61+3</td>\n",
       "      <td>19+3</td>\n",
       "      <td>https://cdn.sofifa.net/players/239/085/23_120.png</td>\n",
       "      <td>world-top player</td>\n",
       "    </tr>\n",
       "    <tr>\n",
       "      <th>3</th>\n",
       "      <td>215698</td>\n",
       "      <td>/player/215698/mike-maignan/230009</td>\n",
       "      <td>23</td>\n",
       "      <td>9</td>\n",
       "      <td>2023-01-13</td>\n",
       "      <td>M. Maignan</td>\n",
       "      <td>Mike Maignan</td>\n",
       "      <td>GK</td>\n",
       "      <td>87</td>\n",
       "      <td>90</td>\n",
       "      <td>...</td>\n",
       "      <td>41+2</td>\n",
       "      <td>36+2</td>\n",
       "      <td>34+2</td>\n",
       "      <td>35+2</td>\n",
       "      <td>35+2</td>\n",
       "      <td>35+2</td>\n",
       "      <td>34+2</td>\n",
       "      <td>85+2</td>\n",
       "      <td>https://cdn.sofifa.net/players/215/698/23_120.png</td>\n",
       "      <td>world-top player</td>\n",
       "    </tr>\n",
       "    <tr>\n",
       "      <th>4</th>\n",
       "      <td>228702</td>\n",
       "      <td>/player/228702/frenkie-de-jong/230009</td>\n",
       "      <td>23</td>\n",
       "      <td>9</td>\n",
       "      <td>2023-01-13</td>\n",
       "      <td>F. de Jong</td>\n",
       "      <td>Frenkie de Jong</td>\n",
       "      <td>CM</td>\n",
       "      <td>87</td>\n",
       "      <td>92</td>\n",
       "      <td>...</td>\n",
       "      <td>84+3</td>\n",
       "      <td>83+3</td>\n",
       "      <td>82+3</td>\n",
       "      <td>78+3</td>\n",
       "      <td>78+3</td>\n",
       "      <td>78+3</td>\n",
       "      <td>82+3</td>\n",
       "      <td>18+3</td>\n",
       "      <td>https://cdn.sofifa.net/players/228/702/23_120.png</td>\n",
       "      <td>world-top player</td>\n",
       "    </tr>\n",
       "    <tr>\n",
       "      <th>...</th>\n",
       "      <td>...</td>\n",
       "      <td>...</td>\n",
       "      <td>...</td>\n",
       "      <td>...</td>\n",
       "      <td>...</td>\n",
       "      <td>...</td>\n",
       "      <td>...</td>\n",
       "      <td>...</td>\n",
       "      <td>...</td>\n",
       "      <td>...</td>\n",
       "      <td>...</td>\n",
       "      <td>...</td>\n",
       "      <td>...</td>\n",
       "      <td>...</td>\n",
       "      <td>...</td>\n",
       "      <td>...</td>\n",
       "      <td>...</td>\n",
       "      <td>...</td>\n",
       "      <td>...</td>\n",
       "      <td>...</td>\n",
       "      <td>...</td>\n",
       "    </tr>\n",
       "    <tr>\n",
       "      <th>241</th>\n",
       "      <td>228702</td>\n",
       "      <td>/player/228702/frenkie-de-jong/150059</td>\n",
       "      <td>15</td>\n",
       "      <td>59</td>\n",
       "      <td>2015-09-10</td>\n",
       "      <td>F. de Jong</td>\n",
       "      <td>Frenkie de Jong</td>\n",
       "      <td>CM</td>\n",
       "      <td>59</td>\n",
       "      <td>76</td>\n",
       "      <td>...</td>\n",
       "      <td>55</td>\n",
       "      <td>55</td>\n",
       "      <td>51</td>\n",
       "      <td>49</td>\n",
       "      <td>49</td>\n",
       "      <td>49</td>\n",
       "      <td>51</td>\n",
       "      <td>12</td>\n",
       "      <td>https://cdn.sofifa.net/players/228/702/15_120.png</td>\n",
       "      <td>below-average player</td>\n",
       "    </tr>\n",
       "    <tr>\n",
       "      <th>242</th>\n",
       "      <td>226754</td>\n",
       "      <td>/player/226754/ismael-bennacer/150059</td>\n",
       "      <td>15</td>\n",
       "      <td>59</td>\n",
       "      <td>2015-09-10</td>\n",
       "      <td>I. Bennacer</td>\n",
       "      <td>Ismaël Bennacer</td>\n",
       "      <td>CAM</td>\n",
       "      <td>54</td>\n",
       "      <td>74</td>\n",
       "      <td>...</td>\n",
       "      <td>44</td>\n",
       "      <td>45</td>\n",
       "      <td>41</td>\n",
       "      <td>38</td>\n",
       "      <td>38</td>\n",
       "      <td>38</td>\n",
       "      <td>41</td>\n",
       "      <td>14</td>\n",
       "      <td>https://cdn.sofifa.net/players/226/754/15_120.png</td>\n",
       "      <td>bad player</td>\n",
       "    </tr>\n",
       "    <tr>\n",
       "      <th>243</th>\n",
       "      <td>226226</td>\n",
       "      <td>/player/226226/giovani-lo-celso/150059</td>\n",
       "      <td>15</td>\n",
       "      <td>59</td>\n",
       "      <td>2015-09-10</td>\n",
       "      <td>G. Lo Celso</td>\n",
       "      <td>Giovani Lo Celso</td>\n",
       "      <td>LM</td>\n",
       "      <td>53</td>\n",
       "      <td>70</td>\n",
       "      <td>...</td>\n",
       "      <td>40</td>\n",
       "      <td>41</td>\n",
       "      <td>36</td>\n",
       "      <td>31</td>\n",
       "      <td>31</td>\n",
       "      <td>31</td>\n",
       "      <td>36</td>\n",
       "      <td>12</td>\n",
       "      <td>https://cdn.sofifa.net/players/226/226/15_120.png</td>\n",
       "      <td>bad player</td>\n",
       "    </tr>\n",
       "    <tr>\n",
       "      <th>244</th>\n",
       "      <td>228618</td>\n",
       "      <td>/player/228618/ferland-mendy/150059</td>\n",
       "      <td>15</td>\n",
       "      <td>59</td>\n",
       "      <td>2015-09-10</td>\n",
       "      <td>F. Mendy</td>\n",
       "      <td>Ferland Mendy</td>\n",
       "      <td>LB</td>\n",
       "      <td>51</td>\n",
       "      <td>62</td>\n",
       "      <td>...</td>\n",
       "      <td>46</td>\n",
       "      <td>50</td>\n",
       "      <td>51</td>\n",
       "      <td>54</td>\n",
       "      <td>54</td>\n",
       "      <td>54</td>\n",
       "      <td>51</td>\n",
       "      <td>12</td>\n",
       "      <td>https://cdn.sofifa.net/players/228/618/15_120.png</td>\n",
       "      <td>bad player</td>\n",
       "    </tr>\n",
       "    <tr>\n",
       "      <th>245</th>\n",
       "      <td>220651</td>\n",
       "      <td>/player/220651/jose-angel-esmoris-tasende/150042</td>\n",
       "      <td>15</td>\n",
       "      <td>42</td>\n",
       "      <td>2015-05-22</td>\n",
       "      <td>Angelino</td>\n",
       "      <td>José Ángel Esmoris Tasende</td>\n",
       "      <td>LB</td>\n",
       "      <td>54</td>\n",
       "      <td>80</td>\n",
       "      <td>...</td>\n",
       "      <td>52</td>\n",
       "      <td>56</td>\n",
       "      <td>54</td>\n",
       "      <td>51</td>\n",
       "      <td>51</td>\n",
       "      <td>51</td>\n",
       "      <td>54</td>\n",
       "      <td>13</td>\n",
       "      <td>https://cdn.sofifa.net/players/220/651/15_120.png</td>\n",
       "      <td>bad player</td>\n",
       "    </tr>\n",
       "  </tbody>\n",
       "</table>\n",
       "<p>246 rows × 111 columns</p>\n",
       "</div>"
      ],
      "text/plain": [
       "     player_id                                        player_url  \\\n",
       "0       231747               /player/231747/kylian-mbappe/230009   \n",
       "1       212622              /player/212622/joshua-kimmich/230009   \n",
       "2       239085              /player/239085/erling-haaland/230009   \n",
       "3       215698                /player/215698/mike-maignan/230009   \n",
       "4       228702             /player/228702/frenkie-de-jong/230009   \n",
       "..         ...                                               ...   \n",
       "241     228702             /player/228702/frenkie-de-jong/150059   \n",
       "242     226754             /player/226754/ismael-bennacer/150059   \n",
       "243     226226            /player/226226/giovani-lo-celso/150059   \n",
       "244     228618               /player/228618/ferland-mendy/150059   \n",
       "245     220651  /player/220651/jose-angel-esmoris-tasende/150042   \n",
       "\n",
       "     fifa_version  fifa_update fifa_update_date   short_name  \\\n",
       "0              23            9       2023-01-13    K. Mbappé   \n",
       "1              23            9       2023-01-13   J. Kimmich   \n",
       "2              23            9       2023-01-13   E. Haaland   \n",
       "3              23            9       2023-01-13   M. Maignan   \n",
       "4              23            9       2023-01-13   F. de Jong   \n",
       "..            ...          ...              ...          ...   \n",
       "241            15           59       2015-09-10   F. de Jong   \n",
       "242            15           59       2015-09-10  I. Bennacer   \n",
       "243            15           59       2015-09-10  G. Lo Celso   \n",
       "244            15           59       2015-09-10     F. Mendy   \n",
       "245            15           42       2015-05-22     Angelino   \n",
       "\n",
       "                      long_name player_positions  overall  potential  ...  \\\n",
       "0          Kylian Mbappé Lottin           ST, LW       91         95  ...   \n",
       "1         Joshua Walter Kimmich      CDM, RB, CM       89         90  ...   \n",
       "2          Erling Braut Haaland               ST       89         94  ...   \n",
       "3                  Mike Maignan               GK       87         90  ...   \n",
       "4               Frenkie de Jong               CM       87         92  ...   \n",
       "..                          ...              ...      ...        ...  ...   \n",
       "241             Frenkie de Jong               CM       59         76  ...   \n",
       "242             Ismaël Bennacer              CAM       54         74  ...   \n",
       "243            Giovani Lo Celso               LM       53         70  ...   \n",
       "244               Ferland Mendy               LB       51         62  ...   \n",
       "245  José Ángel Esmoris Tasende               LB       54         80  ...   \n",
       "\n",
       "      rdm   rwb    lb   lcb    cb   rcb    rb    gk  \\\n",
       "0    63+3  67+3  63+3  54+3  54+3  54+3  63+3  18+3   \n",
       "1    86+3  84+3  83+3  81+3  81+3  81+3  83+3  21+3   \n",
       "2    64+3  63+3  61+3  62+3  62+3  62+3  61+3  19+3   \n",
       "3    41+2  36+2  34+2  35+2  35+2  35+2  34+2  85+2   \n",
       "4    84+3  83+3  82+3  78+3  78+3  78+3  82+3  18+3   \n",
       "..    ...   ...   ...   ...   ...   ...   ...   ...   \n",
       "241    55    55    51    49    49    49    51    12   \n",
       "242    44    45    41    38    38    38    41    14   \n",
       "243    40    41    36    31    31    31    36    12   \n",
       "244    46    50    51    54    54    54    51    12   \n",
       "245    52    56    54    51    51    51    54    13   \n",
       "\n",
       "                                       player_face_url          player_class  \n",
       "0    https://cdn.sofifa.net/players/231/747/23_120.png      world-top player  \n",
       "1    https://cdn.sofifa.net/players/212/622/23_120.png      world-top player  \n",
       "2    https://cdn.sofifa.net/players/239/085/23_120.png      world-top player  \n",
       "3    https://cdn.sofifa.net/players/215/698/23_120.png      world-top player  \n",
       "4    https://cdn.sofifa.net/players/228/702/23_120.png      world-top player  \n",
       "..                                                 ...                   ...  \n",
       "241  https://cdn.sofifa.net/players/228/702/15_120.png  below-average player  \n",
       "242  https://cdn.sofifa.net/players/226/754/15_120.png            bad player  \n",
       "243  https://cdn.sofifa.net/players/226/226/15_120.png            bad player  \n",
       "244  https://cdn.sofifa.net/players/228/618/15_120.png            bad player  \n",
       "245  https://cdn.sofifa.net/players/220/651/15_120.png            bad player  \n",
       "\n",
       "[246 rows x 111 columns]"
      ]
     },
     "execution_count": 60,
     "metadata": {},
     "output_type": "execute_result"
    }
   ],
   "source": [
    "full_data"
   ]
  },
  {
   "cell_type": "code",
   "execution_count": 61,
   "metadata": {},
   "outputs": [],
   "source": [
    "id_list = full_data['player_id'].unique().tolist()"
   ]
  },
  {
   "cell_type": "code",
   "execution_count": 62,
   "metadata": {},
   "outputs": [],
   "source": [
    "player_lt = []\n",
    "def player_data(id):\n",
    "    player = {}\n",
    "    player['player_id'] = id_list[0]\n",
    "    player['long_name'] = full_data[full_data['player_id'] == id]['long_name'].iloc[0]\n",
    "    player['player_positions'] = full_data[full_data['player_id'] == id]['player_positions'].iloc[0]\n",
    "    player['overall'] = full_data[full_data['player_id'] == id]['overall'].to_list()[::-1]\n",
    "    player['potential'] = full_data[full_data['player_id'] == id]['potential'].to_list()[::-1]\n",
    "    player['age'] = full_data[full_data['player_id'] == id]['age'].iloc[0]\n",
    "    player['player_tags'] = full_data[full_data['player_id'] == id]['player_tags'].iloc[0]\n",
    "    player['player_traits'] = full_data[full_data['player_id'] == id]['player_traits'].iloc[0]\n",
    "    player['value_eur'] = full_data[full_data['player_id'] == id]['value_eur'].to_list()[::-1]\n",
    "    player['wage_eur'] = full_data[full_data['player_id'] == id]['wage_eur'].to_list()[::-1]\n",
    "    player['player_face_url'] = full_data[full_data['player_id'] == id]['player_face_url'].iloc[0]\n",
    "    player['evolutionImageURL'] = 'evolution.png'\n",
    "    for index,row in full_data[full_data['player_id'] == id].iterrows():\n",
    "    #print(row)\n",
    "        level = f'skill_20{row.fifa_version}'\n",
    "        player[level] = [row.shooting, row.passing, row.dribbling, row.defending, row.physic, row.pace]\n",
    "    timeline = {}\n",
    "    for index,row in full_data[full_data['player_id'] == id].iterrows():\n",
    "        if row.club_name not in timeline.keys():\n",
    "            start_date = f'20{row.fifa_version}-01-01'\n",
    "            end_date = f'20{row.fifa_version+1}-01-01'\n",
    "            timeline[row.club_name] = [start_date, end_date]\n",
    "        else:\n",
    "            timeline[row.club_name][0] = f'20{row.fifa_version}-01-01'\n",
    "    player['timeline'] = timeline\n",
    "    return player\n",
    "for id in id_list:\n",
    "    player_lt.append(player_data(id))"
   ]
  },
  {
   "cell_type": "code",
   "execution_count": 63,
   "metadata": {},
   "outputs": [
    {
     "name": "stderr",
     "output_type": "stream",
     "text": [
      "C:\\Users\\ASUS\\AppData\\Local\\Temp\\ipykernel_22956\\2091588952.py:3: FutureWarning: DataFrame.applymap has been deprecated. Use DataFrame.map instead.\n",
      "  json_df = json_df.applymap(lambda x: [0,0,0,0,0] if x == 0 else x)\n"
     ]
    }
   ],
   "source": [
    "json_df = pd.DataFrame(player_lt)\n",
    "json_df.fillna(value=0, inplace=True)\n",
    "json_df = json_df.applymap(lambda x: [0,0,0,0,0] if x == 0 else x)"
   ]
  },
  {
   "cell_type": "code",
   "execution_count": 64,
   "metadata": {},
   "outputs": [
    {
     "data": {
      "text/plain": [
       "Index(['player_id', 'long_name', 'player_positions', 'overall', 'potential',\n",
       "       'age', 'player_tags', 'player_traits', 'value_eur', 'wage_eur',\n",
       "       'player_face_url', 'evolutionImageURL', 'skill_2023', 'skill_2022',\n",
       "       'skill_2021', 'skill_2020', 'skill_2019', 'skill_2018', 'skill_2017',\n",
       "       'skill_2016', 'timeline', 'skill_2015'],\n",
       "      dtype='object')"
      ]
     },
     "execution_count": 64,
     "metadata": {},
     "output_type": "execute_result"
    }
   ],
   "source": [
    "json_df.columns"
   ]
  },
  {
   "cell_type": "markdown",
   "metadata": {},
   "source": [
    "# 进行可视化"
   ]
  },
  {
   "cell_type": "code",
   "execution_count": 65,
   "metadata": {},
   "outputs": [
    {
     "data": {
      "text/html": [
       "<div>\n",
       "<style scoped>\n",
       "    .dataframe tbody tr th:only-of-type {\n",
       "        vertical-align: middle;\n",
       "    }\n",
       "\n",
       "    .dataframe tbody tr th {\n",
       "        vertical-align: top;\n",
       "    }\n",
       "\n",
       "    .dataframe thead th {\n",
       "        text-align: right;\n",
       "    }\n",
       "</style>\n",
       "<table border=\"1\" class=\"dataframe\">\n",
       "  <thead>\n",
       "    <tr style=\"text-align: right;\">\n",
       "      <th></th>\n",
       "      <th>player_id</th>\n",
       "      <th>player_url</th>\n",
       "      <th>fifa_version</th>\n",
       "      <th>fifa_update</th>\n",
       "      <th>fifa_update_date</th>\n",
       "      <th>short_name</th>\n",
       "      <th>long_name</th>\n",
       "      <th>player_positions</th>\n",
       "      <th>overall</th>\n",
       "      <th>potential</th>\n",
       "      <th>...</th>\n",
       "      <th>rdm</th>\n",
       "      <th>rwb</th>\n",
       "      <th>lb</th>\n",
       "      <th>lcb</th>\n",
       "      <th>cb</th>\n",
       "      <th>rcb</th>\n",
       "      <th>rb</th>\n",
       "      <th>gk</th>\n",
       "      <th>player_face_url</th>\n",
       "      <th>player_class</th>\n",
       "    </tr>\n",
       "  </thead>\n",
       "  <tbody>\n",
       "    <tr>\n",
       "      <th>0</th>\n",
       "      <td>231747</td>\n",
       "      <td>/player/231747/kylian-mbappe/230009</td>\n",
       "      <td>23</td>\n",
       "      <td>9</td>\n",
       "      <td>2023-01-13</td>\n",
       "      <td>K. Mbappé</td>\n",
       "      <td>Kylian Mbappé Lottin</td>\n",
       "      <td>ST, LW</td>\n",
       "      <td>91</td>\n",
       "      <td>95</td>\n",
       "      <td>...</td>\n",
       "      <td>63+3</td>\n",
       "      <td>67+3</td>\n",
       "      <td>63+3</td>\n",
       "      <td>54+3</td>\n",
       "      <td>54+3</td>\n",
       "      <td>54+3</td>\n",
       "      <td>63+3</td>\n",
       "      <td>18+3</td>\n",
       "      <td>https://cdn.sofifa.net/players/231/747/23_120.png</td>\n",
       "      <td>world-top player</td>\n",
       "    </tr>\n",
       "    <tr>\n",
       "      <th>1</th>\n",
       "      <td>212622</td>\n",
       "      <td>/player/212622/joshua-kimmich/230009</td>\n",
       "      <td>23</td>\n",
       "      <td>9</td>\n",
       "      <td>2023-01-13</td>\n",
       "      <td>J. Kimmich</td>\n",
       "      <td>Joshua Walter Kimmich</td>\n",
       "      <td>CDM, RB, CM</td>\n",
       "      <td>89</td>\n",
       "      <td>90</td>\n",
       "      <td>...</td>\n",
       "      <td>86+3</td>\n",
       "      <td>84+3</td>\n",
       "      <td>83+3</td>\n",
       "      <td>81+3</td>\n",
       "      <td>81+3</td>\n",
       "      <td>81+3</td>\n",
       "      <td>83+3</td>\n",
       "      <td>21+3</td>\n",
       "      <td>https://cdn.sofifa.net/players/212/622/23_120.png</td>\n",
       "      <td>world-top player</td>\n",
       "    </tr>\n",
       "    <tr>\n",
       "      <th>2</th>\n",
       "      <td>239085</td>\n",
       "      <td>/player/239085/erling-haaland/230009</td>\n",
       "      <td>23</td>\n",
       "      <td>9</td>\n",
       "      <td>2023-01-13</td>\n",
       "      <td>E. Haaland</td>\n",
       "      <td>Erling Braut Haaland</td>\n",
       "      <td>ST</td>\n",
       "      <td>89</td>\n",
       "      <td>94</td>\n",
       "      <td>...</td>\n",
       "      <td>64+3</td>\n",
       "      <td>63+3</td>\n",
       "      <td>61+3</td>\n",
       "      <td>62+3</td>\n",
       "      <td>62+3</td>\n",
       "      <td>62+3</td>\n",
       "      <td>61+3</td>\n",
       "      <td>19+3</td>\n",
       "      <td>https://cdn.sofifa.net/players/239/085/23_120.png</td>\n",
       "      <td>world-top player</td>\n",
       "    </tr>\n",
       "    <tr>\n",
       "      <th>3</th>\n",
       "      <td>215698</td>\n",
       "      <td>/player/215698/mike-maignan/230009</td>\n",
       "      <td>23</td>\n",
       "      <td>9</td>\n",
       "      <td>2023-01-13</td>\n",
       "      <td>M. Maignan</td>\n",
       "      <td>Mike Maignan</td>\n",
       "      <td>GK</td>\n",
       "      <td>87</td>\n",
       "      <td>90</td>\n",
       "      <td>...</td>\n",
       "      <td>41+2</td>\n",
       "      <td>36+2</td>\n",
       "      <td>34+2</td>\n",
       "      <td>35+2</td>\n",
       "      <td>35+2</td>\n",
       "      <td>35+2</td>\n",
       "      <td>34+2</td>\n",
       "      <td>85+2</td>\n",
       "      <td>https://cdn.sofifa.net/players/215/698/23_120.png</td>\n",
       "      <td>world-top player</td>\n",
       "    </tr>\n",
       "    <tr>\n",
       "      <th>4</th>\n",
       "      <td>228702</td>\n",
       "      <td>/player/228702/frenkie-de-jong/230009</td>\n",
       "      <td>23</td>\n",
       "      <td>9</td>\n",
       "      <td>2023-01-13</td>\n",
       "      <td>F. de Jong</td>\n",
       "      <td>Frenkie de Jong</td>\n",
       "      <td>CM</td>\n",
       "      <td>87</td>\n",
       "      <td>92</td>\n",
       "      <td>...</td>\n",
       "      <td>84+3</td>\n",
       "      <td>83+3</td>\n",
       "      <td>82+3</td>\n",
       "      <td>78+3</td>\n",
       "      <td>78+3</td>\n",
       "      <td>78+3</td>\n",
       "      <td>82+3</td>\n",
       "      <td>18+3</td>\n",
       "      <td>https://cdn.sofifa.net/players/228/702/23_120.png</td>\n",
       "      <td>world-top player</td>\n",
       "    </tr>\n",
       "    <tr>\n",
       "      <th>...</th>\n",
       "      <td>...</td>\n",
       "      <td>...</td>\n",
       "      <td>...</td>\n",
       "      <td>...</td>\n",
       "      <td>...</td>\n",
       "      <td>...</td>\n",
       "      <td>...</td>\n",
       "      <td>...</td>\n",
       "      <td>...</td>\n",
       "      <td>...</td>\n",
       "      <td>...</td>\n",
       "      <td>...</td>\n",
       "      <td>...</td>\n",
       "      <td>...</td>\n",
       "      <td>...</td>\n",
       "      <td>...</td>\n",
       "      <td>...</td>\n",
       "      <td>...</td>\n",
       "      <td>...</td>\n",
       "      <td>...</td>\n",
       "      <td>...</td>\n",
       "    </tr>\n",
       "    <tr>\n",
       "      <th>241</th>\n",
       "      <td>228702</td>\n",
       "      <td>/player/228702/frenkie-de-jong/150059</td>\n",
       "      <td>15</td>\n",
       "      <td>59</td>\n",
       "      <td>2015-09-10</td>\n",
       "      <td>F. de Jong</td>\n",
       "      <td>Frenkie de Jong</td>\n",
       "      <td>CM</td>\n",
       "      <td>59</td>\n",
       "      <td>76</td>\n",
       "      <td>...</td>\n",
       "      <td>55</td>\n",
       "      <td>55</td>\n",
       "      <td>51</td>\n",
       "      <td>49</td>\n",
       "      <td>49</td>\n",
       "      <td>49</td>\n",
       "      <td>51</td>\n",
       "      <td>12</td>\n",
       "      <td>https://cdn.sofifa.net/players/228/702/15_120.png</td>\n",
       "      <td>below-average player</td>\n",
       "    </tr>\n",
       "    <tr>\n",
       "      <th>242</th>\n",
       "      <td>226754</td>\n",
       "      <td>/player/226754/ismael-bennacer/150059</td>\n",
       "      <td>15</td>\n",
       "      <td>59</td>\n",
       "      <td>2015-09-10</td>\n",
       "      <td>I. Bennacer</td>\n",
       "      <td>Ismaël Bennacer</td>\n",
       "      <td>CAM</td>\n",
       "      <td>54</td>\n",
       "      <td>74</td>\n",
       "      <td>...</td>\n",
       "      <td>44</td>\n",
       "      <td>45</td>\n",
       "      <td>41</td>\n",
       "      <td>38</td>\n",
       "      <td>38</td>\n",
       "      <td>38</td>\n",
       "      <td>41</td>\n",
       "      <td>14</td>\n",
       "      <td>https://cdn.sofifa.net/players/226/754/15_120.png</td>\n",
       "      <td>bad player</td>\n",
       "    </tr>\n",
       "    <tr>\n",
       "      <th>243</th>\n",
       "      <td>226226</td>\n",
       "      <td>/player/226226/giovani-lo-celso/150059</td>\n",
       "      <td>15</td>\n",
       "      <td>59</td>\n",
       "      <td>2015-09-10</td>\n",
       "      <td>G. Lo Celso</td>\n",
       "      <td>Giovani Lo Celso</td>\n",
       "      <td>LM</td>\n",
       "      <td>53</td>\n",
       "      <td>70</td>\n",
       "      <td>...</td>\n",
       "      <td>40</td>\n",
       "      <td>41</td>\n",
       "      <td>36</td>\n",
       "      <td>31</td>\n",
       "      <td>31</td>\n",
       "      <td>31</td>\n",
       "      <td>36</td>\n",
       "      <td>12</td>\n",
       "      <td>https://cdn.sofifa.net/players/226/226/15_120.png</td>\n",
       "      <td>bad player</td>\n",
       "    </tr>\n",
       "    <tr>\n",
       "      <th>244</th>\n",
       "      <td>228618</td>\n",
       "      <td>/player/228618/ferland-mendy/150059</td>\n",
       "      <td>15</td>\n",
       "      <td>59</td>\n",
       "      <td>2015-09-10</td>\n",
       "      <td>F. Mendy</td>\n",
       "      <td>Ferland Mendy</td>\n",
       "      <td>LB</td>\n",
       "      <td>51</td>\n",
       "      <td>62</td>\n",
       "      <td>...</td>\n",
       "      <td>46</td>\n",
       "      <td>50</td>\n",
       "      <td>51</td>\n",
       "      <td>54</td>\n",
       "      <td>54</td>\n",
       "      <td>54</td>\n",
       "      <td>51</td>\n",
       "      <td>12</td>\n",
       "      <td>https://cdn.sofifa.net/players/228/618/15_120.png</td>\n",
       "      <td>bad player</td>\n",
       "    </tr>\n",
       "    <tr>\n",
       "      <th>245</th>\n",
       "      <td>220651</td>\n",
       "      <td>/player/220651/jose-angel-esmoris-tasende/150042</td>\n",
       "      <td>15</td>\n",
       "      <td>42</td>\n",
       "      <td>2015-05-22</td>\n",
       "      <td>Angelino</td>\n",
       "      <td>José Ángel Esmoris Tasende</td>\n",
       "      <td>LB</td>\n",
       "      <td>54</td>\n",
       "      <td>80</td>\n",
       "      <td>...</td>\n",
       "      <td>52</td>\n",
       "      <td>56</td>\n",
       "      <td>54</td>\n",
       "      <td>51</td>\n",
       "      <td>51</td>\n",
       "      <td>51</td>\n",
       "      <td>54</td>\n",
       "      <td>13</td>\n",
       "      <td>https://cdn.sofifa.net/players/220/651/15_120.png</td>\n",
       "      <td>bad player</td>\n",
       "    </tr>\n",
       "  </tbody>\n",
       "</table>\n",
       "<p>246 rows × 111 columns</p>\n",
       "</div>"
      ],
      "text/plain": [
       "     player_id                                        player_url  \\\n",
       "0       231747               /player/231747/kylian-mbappe/230009   \n",
       "1       212622              /player/212622/joshua-kimmich/230009   \n",
       "2       239085              /player/239085/erling-haaland/230009   \n",
       "3       215698                /player/215698/mike-maignan/230009   \n",
       "4       228702             /player/228702/frenkie-de-jong/230009   \n",
       "..         ...                                               ...   \n",
       "241     228702             /player/228702/frenkie-de-jong/150059   \n",
       "242     226754             /player/226754/ismael-bennacer/150059   \n",
       "243     226226            /player/226226/giovani-lo-celso/150059   \n",
       "244     228618               /player/228618/ferland-mendy/150059   \n",
       "245     220651  /player/220651/jose-angel-esmoris-tasende/150042   \n",
       "\n",
       "     fifa_version  fifa_update fifa_update_date   short_name  \\\n",
       "0              23            9       2023-01-13    K. Mbappé   \n",
       "1              23            9       2023-01-13   J. Kimmich   \n",
       "2              23            9       2023-01-13   E. Haaland   \n",
       "3              23            9       2023-01-13   M. Maignan   \n",
       "4              23            9       2023-01-13   F. de Jong   \n",
       "..            ...          ...              ...          ...   \n",
       "241            15           59       2015-09-10   F. de Jong   \n",
       "242            15           59       2015-09-10  I. Bennacer   \n",
       "243            15           59       2015-09-10  G. Lo Celso   \n",
       "244            15           59       2015-09-10     F. Mendy   \n",
       "245            15           42       2015-05-22     Angelino   \n",
       "\n",
       "                      long_name player_positions  overall  potential  ...  \\\n",
       "0          Kylian Mbappé Lottin           ST, LW       91         95  ...   \n",
       "1         Joshua Walter Kimmich      CDM, RB, CM       89         90  ...   \n",
       "2          Erling Braut Haaland               ST       89         94  ...   \n",
       "3                  Mike Maignan               GK       87         90  ...   \n",
       "4               Frenkie de Jong               CM       87         92  ...   \n",
       "..                          ...              ...      ...        ...  ...   \n",
       "241             Frenkie de Jong               CM       59         76  ...   \n",
       "242             Ismaël Bennacer              CAM       54         74  ...   \n",
       "243            Giovani Lo Celso               LM       53         70  ...   \n",
       "244               Ferland Mendy               LB       51         62  ...   \n",
       "245  José Ángel Esmoris Tasende               LB       54         80  ...   \n",
       "\n",
       "      rdm   rwb    lb   lcb    cb   rcb    rb    gk  \\\n",
       "0    63+3  67+3  63+3  54+3  54+3  54+3  63+3  18+3   \n",
       "1    86+3  84+3  83+3  81+3  81+3  81+3  83+3  21+3   \n",
       "2    64+3  63+3  61+3  62+3  62+3  62+3  61+3  19+3   \n",
       "3    41+2  36+2  34+2  35+2  35+2  35+2  34+2  85+2   \n",
       "4    84+3  83+3  82+3  78+3  78+3  78+3  82+3  18+3   \n",
       "..    ...   ...   ...   ...   ...   ...   ...   ...   \n",
       "241    55    55    51    49    49    49    51    12   \n",
       "242    44    45    41    38    38    38    41    14   \n",
       "243    40    41    36    31    31    31    36    12   \n",
       "244    46    50    51    54    54    54    51    12   \n",
       "245    52    56    54    51    51    51    54    13   \n",
       "\n",
       "                                       player_face_url          player_class  \n",
       "0    https://cdn.sofifa.net/players/231/747/23_120.png      world-top player  \n",
       "1    https://cdn.sofifa.net/players/212/622/23_120.png      world-top player  \n",
       "2    https://cdn.sofifa.net/players/239/085/23_120.png      world-top player  \n",
       "3    https://cdn.sofifa.net/players/215/698/23_120.png      world-top player  \n",
       "4    https://cdn.sofifa.net/players/228/702/23_120.png      world-top player  \n",
       "..                                                 ...                   ...  \n",
       "241  https://cdn.sofifa.net/players/228/702/15_120.png  below-average player  \n",
       "242  https://cdn.sofifa.net/players/226/754/15_120.png            bad player  \n",
       "243  https://cdn.sofifa.net/players/226/226/15_120.png            bad player  \n",
       "244  https://cdn.sofifa.net/players/228/618/15_120.png            bad player  \n",
       "245  https://cdn.sofifa.net/players/220/651/15_120.png            bad player  \n",
       "\n",
       "[246 rows x 111 columns]"
      ]
     },
     "execution_count": 65,
     "metadata": {},
     "output_type": "execute_result"
    }
   ],
   "source": [
    "full_data"
   ]
  },
  {
   "cell_type": "code",
   "execution_count": 66,
   "metadata": {},
   "outputs": [
    {
     "data": {
      "image/png": "[encoded data removed]",
      "text/plain": [
       "<Figure size 2000x500 with 1 Axes>"
      ]
     },
     "metadata": {},
     "output_type": "display_data"
    }
   ],
   "source": [
    "import urllib\n",
    "from PIL import Image\n",
    "import matplotlib\n",
    "fig2, ax = plt.subplots()\n",
    "fig2.set_figheight(5)\n",
    "fig2.set_figwidth(20)\n",
    "axvspan_color = {\"world-top player\":'orangered', \"top player\":'tomato', \"great player\":'coral', \n",
    "                      \"above-average player\":'lightsalmon', \"below-average player\":'peachpuff',\"bad player\":'linen'}\n",
    "    # plot the overall score\n",
    "id = id_list[0]\n",
    "sub_df = full_data[full_data['player_id']==id]\n",
    "ax.plot(sub_df['fifa_version'],sub_df['overall'],'o-',color = 'deepskyblue')\n",
    "ax.set_xlabel(np.unique(sub_df['short_name'])[0])\n",
    "\n",
    "# plot the change of the players' class \n",
    "player_class = None\n",
    "xleft, xright = None,None\n",
    "\n",
    "for row in sub_df.sort_values(by=['fifa_version']).iterrows():\n",
    "    next_player_class = row[1]['player_class']\n",
    "    if (player_class == next_player_class)|(player_class == None):\n",
    "        pass\n",
    "    else:\n",
    "        xleft = xright if xright!=None else ax.get_xlim()[0]\n",
    "        xright = row[1]['fifa_version'] - 0.5\n",
    "        ax.axvspan(xleft, xright, alpha = 0.5, color = axvspan_color[player_class], label = player_class)\n",
    "        ax.axvline(row[1]['fifa_version'] - 0.5,color='black',linestyle = '--')\n",
    "    player_class = next_player_class\n",
    "ax.axvspan(xright, ax.get_xlim()[-1], alpha = 0.5, color = axvspan_color[player_class], label = player_class)\n",
    "\n",
    "# Add the players' face in the right bottom corner\n",
    "face_image = np.unique(sub_df['player_face_url'])[-1]\n",
    "req = urllib.request.Request(face_image, headers={'User-Agent': 'Mozilla/5.0'})\n",
    "image = Image.open(urllib.request.urlopen(req))\n",
    "img_np = np.array(image)\n",
    "# Adding the image in the right bottom corner\n",
    "imagebox = matplotlib.offsetbox.OffsetImage(img_np, zoom=0.5)\n",
    "ab = matplotlib.offsetbox.AnnotationBbox(imagebox, (0.93, 0.12), frameon=False, xycoords='axes fraction')\n",
    "ax.add_artist(ab)\n",
    "\n",
    "ax.legend(loc='upper left')\n",
    "ax.set_xticks(np.arange(min(sub_df['fifa_version']), max(sub_df['fifa_version']) + 1,1))\n",
    "\n",
    "fig2.supxlabel('FIFA version')\n",
    "fig2.suptitle(\"Most improved players in overall score\")\n",
    "fig2.tight_layout()"
   ]
  },
  {
   "cell_type": "code",
   "execution_count": 67,
   "metadata": {},
   "outputs": [
    {
     "data": {
      "application/vnd.plotly.v1+json": {
       "config": {
        "plotlyServerURL": "https://plot.ly"
       },
       "data": [
        {
         "customdata": [
          "Monaco",
          1000000
         ],
         "hovertemplate": "<b>Club name:</b> %{customdata[0]}<br><b>Overall:</b> %{y}<br><b>Value in EUR</b>: %{customdata[1]:,}<br><extra></extra>",
         "line": {
          "color": "deepskyblue"
         },
         "marker": {
          "opacity": 0.3,
          "size": [
           0.2857142857142857
          ]
         },
         "mode": "lines+markers",
         "name": "Overall",
         "type": "scatter",
         "x": [
          16
         ],
         "y": [
          65
         ]
        },
        {
         "hovertemplate": "<b>Potential:</b> %{y}<br>",
         "line": {
          "color": "deepskyblue"
         },
         "mode": "lines+markers",
         "name": "Potential",
         "type": "scatter",
         "x": [
          16
         ],
         "y": [
          85
         ]
        },
        {
         "legendgroup": "world-top player",
         "marker": {
          "color": "orangered",
          "size": 10
         },
         "mode": "markers",
         "name": "world-top player",
         "showlegend": true,
         "type": "scatter",
         "visible": "legendonly",
         "x": [
          null
         ],
         "y": [
          null
         ]
        },
        {
         "legendgroup": "top player",
         "marker": {
          "color": "tomato",
          "size": 10
         },
         "mode": "markers",
         "name": "top player",
         "showlegend": true,
         "type": "scatter",
         "visible": "legendonly",
         "x": [
          null
         ],
         "y": [
          null
         ]
        },
        {
         "legendgroup": "great player",
         "marker": {
          "color": "coral",
          "size": 10
         },
         "mode": "markers",
         "name": "great player",
         "showlegend": true,
         "type": "scatter",
         "visible": "legendonly",
         "x": [
          null
         ],
         "y": [
          null
         ]
        },
        {
         "legendgroup": "above-average player",
         "marker": {
          "color": "lightsalmon",
          "size": 10
         },
         "mode": "markers",
         "name": "above-average player",
         "showlegend": true,
         "type": "scatter",
         "visible": "legendonly",
         "x": [
          null
         ],
         "y": [
          null
         ]
        },
        {
         "legendgroup": "below-average player",
         "marker": {
          "color": "peachpuff",
          "size": 10
         },
         "mode": "markers",
         "name": "below-average player",
         "showlegend": true,
         "type": "scatter",
         "visible": "legendonly",
         "x": [
          null
         ],
         "y": [
          null
         ]
        },
        {
         "legendgroup": "bad player",
         "marker": {
          "color": "linen",
          "size": 10
         },
         "mode": "markers",
         "name": "bad player",
         "showlegend": true,
         "type": "scatter",
         "visible": "legendonly",
         "x": [
          null
         ],
         "y": [
          null
         ]
        }
       ],
       "frames": [
        {
         "data": [
          {
           "customdata": [
            [
             "Monaco",
             1000000
            ]
           ],
           "line": {
            "color": "deepskyblue"
           },
           "marker": {
            "opacity": 0.3,
            "size": [
             0.2857142857142857
            ]
           },
           "mode": "lines+markers",
           "type": "scatter",
           "x": [
            16
           ],
           "y": [
            65
           ]
          },
          {
           "line": {
            "color": "green"
           },
           "mode": "lines+markers",
           "type": "scatter",
           "x": [
            16
           ],
           "y": [
            85
           ]
          },
          {
           "fillcolor": "orange",
           "type": "scatter",
           "x": [
            15.5,
            16.5
           ],
           "y": [
            0,
            100
           ]
          }
         ],
         "layout": {
          "shapes": [
           {
            "fillcolor": "peachpuff",
            "layer": "below",
            "line": {
             "width": 0
            },
            "type": "rect",
            "x0": 15.5,
            "x1": 16.5,
            "xref": "x",
            "y0": 0,
            "y1": 1,
            "yref": "paper"
           }
          ]
         }
        },
        {
         "data": [
          {
           "customdata": [
            [
             "Monaco",
             1000000
            ],
            [
             "Monaco",
             17000000
            ]
           ],
           "line": {
            "color": "deepskyblue"
           },
           "marker": {
            "opacity": 0.3,
            "size": [
             0.2857142857142857,
             4.857142857142857
            ]
           },
           "mode": "lines+markers",
           "type": "scatter",
           "x": [
            16,
            17
           ],
           "y": [
            65,
            79
           ]
          },
          {
           "line": {
            "color": "green"
           },
           "mode": "lines+markers",
           "type": "scatter",
           "x": [
            16,
            17
           ],
           "y": [
            85,
            92
           ]
          },
          {
           "fillcolor": "orange",
           "type": "scatter",
           "x": [
            15.5,
            16.5
           ],
           "y": [
            0,
            100
           ]
          },
          {
           "fillcolor": "orange",
           "type": "scatter",
           "x": [
            16.5,
            17.5
           ],
           "y": [
            0,
            100
           ]
          }
         ],
         "layout": {
          "shapes": [
           {
            "fillcolor": "peachpuff",
            "layer": "below",
            "line": {
             "width": 0
            },
            "type": "rect",
            "x0": 15.5,
            "x1": 16.5,
            "xref": "x",
            "y0": 0,
            "y1": 1,
            "yref": "paper"
           },
           {
            "fillcolor": "coral",
            "layer": "below",
            "line": {
             "width": 0
            },
            "type": "rect",
            "x0": 16.5,
            "x1": 17.5,
            "xref": "x",
            "y0": 0,
            "y1": 1,
            "yref": "paper"
           }
          ]
         }
        },
        {
         "data": [
          {
           "customdata": [
            [
             "Monaco",
             1000000
            ],
            [
             "Monaco",
             17000000
            ],
            [
             "Paris Saint Germain",
             41500000
            ]
           ],
           "line": {
            "color": "deepskyblue"
           },
           "marker": {
            "opacity": 0.3,
            "size": [
             0.2857142857142857,
             4.857142857142857,
             11.857142857142858
            ]
           },
           "mode": "lines+markers",
           "type": "scatter",
           "x": [
            16,
            17,
            18
           ],
           "y": [
            65,
            79,
            83
           ]
          },
          {
           "line": {
            "color": "green"
           },
           "mode": "lines+markers",
           "type": "scatter",
           "x": [
            16,
            17,
            18
           ],
           "y": [
            85,
            92,
            94
           ]
          },
          {
           "fillcolor": "orange",
           "type": "scatter",
           "x": [
            15.5,
            16.5
           ],
           "y": [
            0,
            100
           ]
          },
          {
           "fillcolor": "orange",
           "type": "scatter",
           "x": [
            16.5,
            17.5
           ],
           "y": [
            0,
            100
           ]
          },
          {
           "fillcolor": "orange",
           "type": "scatter",
           "x": [
            17.5,
            18.5
           ],
           "y": [
            0,
            100
           ]
          }
         ],
         "layout": {
          "shapes": [
           {
            "fillcolor": "peachpuff",
            "layer": "below",
            "line": {
             "width": 0
            },
            "type": "rect",
            "x0": 15.5,
            "x1": 16.5,
            "xref": "x",
            "y0": 0,
            "y1": 1,
            "yref": "paper"
           },
           {
            "fillcolor": "coral",
            "layer": "below",
            "line": {
             "width": 0
            },
            "type": "rect",
            "x0": 16.5,
            "x1": 17.5,
            "xref": "x",
            "y0": 0,
            "y1": 1,
            "yref": "paper"
           },
           {
            "fillcolor": "tomato",
            "layer": "below",
            "line": {
             "width": 0
            },
            "type": "rect",
            "x0": 17.5,
            "x1": 18.5,
            "xref": "x",
            "y0": 0,
            "y1": 1,
            "yref": "paper"
           }
          ]
         }
        },
        {
         "data": [
          {
           "customdata": [
            [
             "Monaco",
             1000000
            ],
            [
             "Monaco",
             17000000
            ],
            [
             "Paris Saint Germain",
             41500000
            ],
            [
             "Paris Saint Germain",
             72000000
            ]
           ],
           "line": {
            "color": "deepskyblue"
           },
           "marker": {
            "opacity": 0.3,
            "size": [
             0.2857142857142857,
             4.857142857142857,
             11.857142857142858,
             20.571428571428573
            ]
           },
           "mode": "lines+markers",
           "type": "scatter",
           "x": [
            16,
            17,
            18,
            19
           ],
           "y": [
            65,
            79,
            83,
            87
           ]
          },
          {
           "line": {
            "color": "green"
           },
           "mode": "lines+markers",
           "type": "scatter",
           "x": [
            16,
            17,
            18,
            19
           ],
           "y": [
            85,
            92,
            94,
            95
           ]
          },
          {
           "fillcolor": "orange",
           "type": "scatter",
           "x": [
            15.5,
            16.5
           ],
           "y": [
            0,
            100
           ]
          },
          {
           "fillcolor": "orange",
           "type": "scatter",
           "x": [
            16.5,
            17.5
           ],
           "y": [
            0,
            100
           ]
          },
          {
           "fillcolor": "orange",
           "type": "scatter",
           "x": [
            17.5,
            18.5
           ],
           "y": [
            0,
            100
           ]
          },
          {
           "fillcolor": "orange",
           "type": "scatter",
           "x": [
            18.5,
            19.5
           ],
           "y": [
            0,
            100
           ]
          }
         ],
         "layout": {
          "shapes": [
           {
            "fillcolor": "peachpuff",
            "layer": "below",
            "line": {
             "width": 0
            },
            "type": "rect",
            "x0": 15.5,
            "x1": 16.5,
            "xref": "x",
            "y0": 0,
            "y1": 1,
            "yref": "paper"
           },
           {
            "fillcolor": "coral",
            "layer": "below",
            "line": {
             "width": 0
            },
            "type": "rect",
            "x0": 16.5,
            "x1": 17.5,
            "xref": "x",
            "y0": 0,
            "y1": 1,
            "yref": "paper"
           },
           {
            "fillcolor": "tomato",
            "layer": "below",
            "line": {
             "width": 0
            },
            "type": "rect",
            "x0": 17.5,
            "x1": 18.5,
            "xref": "x",
            "y0": 0,
            "y1": 1,
            "yref": "paper"
           },
           {
            "fillcolor": "tomato",
            "layer": "below",
            "line": {
             "width": 0
            },
            "type": "rect",
            "x0": 18.5,
            "x1": 19.5,
            "xref": "x",
            "y0": 0,
            "y1": 1,
            "yref": "paper"
           }
          ]
         }
        },
        {
         "data": [
          {
           "customdata": [
            [
             "Monaco",
             1000000
            ],
            [
             "Monaco",
             17000000
            ],
            [
             "Paris Saint Germain",
             41500000
            ],
            [
             "Paris Saint Germain",
             72000000
            ],
            [
             "Paris Saint Germain",
             93500000
            ]
           ],
           "line": {
            "color": "deepskyblue"
           },
           "marker": {
            "opacity": 0.3,
            "size": [
             0.2857142857142857,
             4.857142857142857,
             11.857142857142858,
             20.571428571428573,
             26.714285714285715
            ]
           },
           "mode": "lines+markers",
           "type": "scatter",
           "x": [
            16,
            17,
            18,
            19,
            20
           ],
           "y": [
            65,
            79,
            83,
            87,
            89
           ]
          },
          {
           "line": {
            "color": "green"
           },
           "mode": "lines+markers",
           "type": "scatter",
           "x": [
            16,
            17,
            18,
            19,
            20
           ],
           "y": [
            85,
            92,
            94,
            95,
            95
           ]
          },
          {
           "fillcolor": "orange",
           "type": "scatter",
           "x": [
            15.5,
            16.5
           ],
           "y": [
            0,
            100
           ]
          },
          {
           "fillcolor": "orange",
           "type": "scatter",
           "x": [
            16.5,
            17.5
           ],
           "y": [
            0,
            100
           ]
          },
          {
           "fillcolor": "orange",
           "type": "scatter",
           "x": [
            17.5,
            18.5
           ],
           "y": [
            0,
            100
           ]
          },
          {
           "fillcolor": "orange",
           "type": "scatter",
           "x": [
            18.5,
            19.5
           ],
           "y": [
            0,
            100
           ]
          },
          {
           "fillcolor": "orange",
           "type": "scatter",
           "x": [
            19.5,
            20.5
           ],
           "y": [
            0,
            100
           ]
          }
         ],
         "layout": {
          "shapes": [
           {
            "fillcolor": "peachpuff",
            "layer": "below",
            "line": {
             "width": 0
            },
            "type": "rect",
            "x0": 15.5,
            "x1": 16.5,
            "xref": "x",
            "y0": 0,
            "y1": 1,
            "yref": "paper"
           },
           {
            "fillcolor": "coral",
            "layer": "below",
            "line": {
             "width": 0
            },
            "type": "rect",
            "x0": 16.5,
            "x1": 17.5,
            "xref": "x",
            "y0": 0,
            "y1": 1,
            "yref": "paper"
           },
           {
            "fillcolor": "tomato",
            "layer": "below",
            "line": {
             "width": 0
            },
            "type": "rect",
            "x0": 17.5,
            "x1": 18.5,
            "xref": "x",
            "y0": 0,
            "y1": 1,
            "yref": "paper"
           },
           {
            "fillcolor": "tomato",
            "layer": "below",
            "line": {
             "width": 0
            },
            "type": "rect",
            "x0": 18.5,
            "x1": 19.5,
            "xref": "x",
            "y0": 0,
            "y1": 1,
            "yref": "paper"
           },
           {
            "fillcolor": "orangered",
            "layer": "below",
            "line": {
             "width": 0
            },
            "type": "rect",
            "x0": 19.5,
            "x1": 20.5,
            "xref": "x",
            "y0": 0,
            "y1": 1,
            "yref": "paper"
           }
          ]
         }
        },
        {
         "data": [
          {
           "customdata": [
            [
             "Monaco",
             1000000
            ],
            [
             "Monaco",
             17000000
            ],
            [
             "Paris Saint Germain",
             41500000
            ],
            [
             "Paris Saint Germain",
             72000000
            ],
            [
             "Paris Saint Germain",
             93500000
            ],
            [
             "Paris Saint Germain",
             185500000
            ]
           ],
           "line": {
            "color": "deepskyblue"
           },
           "marker": {
            "opacity": 0.3,
            "size": [
             0.2857142857142857,
             4.857142857142857,
             11.857142857142858,
             20.571428571428573,
             26.714285714285715,
             53
            ]
           },
           "mode": "lines+markers",
           "type": "scatter",
           "x": [
            16,
            17,
            18,
            19,
            20,
            21
           ],
           "y": [
            65,
            79,
            83,
            87,
            89,
            90
           ]
          },
          {
           "line": {
            "color": "green"
           },
           "mode": "lines+markers",
           "type": "scatter",
           "x": [
            16,
            17,
            18,
            19,
            20,
            21
           ],
           "y": [
            85,
            92,
            94,
            95,
            95,
            95
           ]
          },
          {
           "fillcolor": "orange",
           "type": "scatter",
           "x": [
            15.5,
            16.5
           ],
           "y": [
            0,
            100
           ]
          },
          {
           "fillcolor": "orange",
           "type": "scatter",
           "x": [
            16.5,
            17.5
           ],
           "y": [
            0,
            100
           ]
          },
          {
           "fillcolor": "orange",
           "type": "scatter",
           "x": [
            17.5,
            18.5
           ],
           "y": [
            0,
            100
           ]
          },
          {
           "fillcolor": "orange",
           "type": "scatter",
           "x": [
            18.5,
            19.5
           ],
           "y": [
            0,
            100
           ]
          },
          {
           "fillcolor": "orange",
           "type": "scatter",
           "x": [
            19.5,
            20.5
           ],
           "y": [
            0,
            100
           ]
          },
          {
           "fillcolor": "orange",
           "type": "scatter",
           "x": [
            20.5,
            21.5
           ],
           "y": [
            0,
            100
           ]
          }
         ],
         "layout": {
          "shapes": [
           {
            "fillcolor": "peachpuff",
            "layer": "below",
            "line": {
             "width": 0
            },
            "type": "rect",
            "x0": 15.5,
            "x1": 16.5,
            "xref": "x",
            "y0": 0,
            "y1": 1,
            "yref": "paper"
           },
           {
            "fillcolor": "coral",
            "layer": "below",
            "line": {
             "width": 0
            },
            "type": "rect",
            "x0": 16.5,
            "x1": 17.5,
            "xref": "x",
            "y0": 0,
            "y1": 1,
            "yref": "paper"
           },
           {
            "fillcolor": "tomato",
            "layer": "below",
            "line": {
             "width": 0
            },
            "type": "rect",
            "x0": 17.5,
            "x1": 18.5,
            "xref": "x",
            "y0": 0,
            "y1": 1,
            "yref": "paper"
           },
           {
            "fillcolor": "tomato",
            "layer": "below",
            "line": {
             "width": 0
            },
            "type": "rect",
            "x0": 18.5,
            "x1": 19.5,
            "xref": "x",
            "y0": 0,
            "y1": 1,
            "yref": "paper"
           },
           {
            "fillcolor": "orangered",
            "layer": "below",
            "line": {
             "width": 0
            },
            "type": "rect",
            "x0": 19.5,
            "x1": 20.5,
            "xref": "x",
            "y0": 0,
            "y1": 1,
            "yref": "paper"
           },
           {
            "fillcolor": "orangered",
            "layer": "below",
            "line": {
             "width": 0
            },
            "type": "rect",
            "x0": 20.5,
            "x1": 21.5,
            "xref": "x",
            "y0": 0,
            "y1": 1,
            "yref": "paper"
           }
          ]
         }
        },
        {
         "data": [
          {
           "customdata": [
            [
             "Monaco",
             1000000
            ],
            [
             "Monaco",
             17000000
            ],
            [
             "Paris Saint Germain",
             41500000
            ],
            [
             "Paris Saint Germain",
             72000000
            ],
            [
             "Paris Saint Germain",
             93500000
            ],
            [
             "Paris Saint Germain",
             185500000
            ],
            [
             "Paris Saint Germain",
             194000000
            ]
           ],
           "line": {
            "color": "deepskyblue"
           },
           "marker": {
            "opacity": 0.3,
            "size": [
             0.2857142857142857,
             4.857142857142857,
             11.857142857142858,
             20.571428571428573,
             26.714285714285715,
             53,
             55.42857142857143
            ]
           },
           "mode": "lines+markers",
           "type": "scatter",
           "x": [
            16,
            17,
            18,
            19,
            20,
            21,
            22
           ],
           "y": [
            65,
            79,
            83,
            87,
            89,
            90,
            91
           ]
          },
          {
           "line": {
            "color": "green"
           },
           "mode": "lines+markers",
           "type": "scatter",
           "x": [
            16,
            17,
            18,
            19,
            20,
            21,
            22
           ],
           "y": [
            85,
            92,
            94,
            95,
            95,
            95,
            95
           ]
          },
          {
           "fillcolor": "orange",
           "type": "scatter",
           "x": [
            15.5,
            16.5
           ],
           "y": [
            0,
            100
           ]
          },
          {
           "fillcolor": "orange",
           "type": "scatter",
           "x": [
            16.5,
            17.5
           ],
           "y": [
            0,
            100
           ]
          },
          {
           "fillcolor": "orange",
           "type": "scatter",
           "x": [
            17.5,
            18.5
           ],
           "y": [
            0,
            100
           ]
          },
          {
           "fillcolor": "orange",
           "type": "scatter",
           "x": [
            18.5,
            19.5
           ],
           "y": [
            0,
            100
           ]
          },
          {
           "fillcolor": "orange",
           "type": "scatter",
           "x": [
            19.5,
            20.5
           ],
           "y": [
            0,
            100
           ]
          },
          {
           "fillcolor": "orange",
           "type": "scatter",
           "x": [
            20.5,
            21.5
           ],
           "y": [
            0,
            100
           ]
          },
          {
           "fillcolor": "orange",
           "type": "scatter",
           "x": [
            21.5,
            22.5
           ],
           "y": [
            0,
            100
           ]
          }
         ],
         "layout": {
          "shapes": [
           {
            "fillcolor": "peachpuff",
            "layer": "below",
            "line": {
             "width": 0
            },
            "type": "rect",
            "x0": 15.5,
            "x1": 16.5,
            "xref": "x",
            "y0": 0,
            "y1": 1,
            "yref": "paper"
           },
           {
            "fillcolor": "coral",
            "layer": "below",
            "line": {
             "width": 0
            },
            "type": "rect",
            "x0": 16.5,
            "x1": 17.5,
            "xref": "x",
            "y0": 0,
            "y1": 1,
            "yref": "paper"
           },
           {
            "fillcolor": "tomato",
            "layer": "below",
            "line": {
             "width": 0
            },
            "type": "rect",
            "x0": 17.5,
            "x1": 18.5,
            "xref": "x",
            "y0": 0,
            "y1": 1,
            "yref": "paper"
           },
           {
            "fillcolor": "tomato",
            "layer": "below",
            "line": {
             "width": 0
            },
            "type": "rect",
            "x0": 18.5,
            "x1": 19.5,
            "xref": "x",
            "y0": 0,
            "y1": 1,
            "yref": "paper"
           },
           {
            "fillcolor": "orangered",
            "layer": "below",
            "line": {
             "width": 0
            },
            "type": "rect",
            "x0": 19.5,
            "x1": 20.5,
            "xref": "x",
            "y0": 0,
            "y1": 1,
            "yref": "paper"
           },
           {
            "fillcolor": "orangered",
            "layer": "below",
            "line": {
             "width": 0
            },
            "type": "rect",
            "x0": 20.5,
            "x1": 21.5,
            "xref": "x",
            "y0": 0,
            "y1": 1,
            "yref": "paper"
           },
           {
            "fillcolor": "orangered",
            "layer": "below",
            "line": {
             "width": 0
            },
            "type": "rect",
            "x0": 21.5,
            "x1": 22.5,
            "xref": "x",
            "y0": 0,
            "y1": 1,
            "yref": "paper"
           }
          ]
         }
        },
        {
         "data": [
          {
           "customdata": [
            [
             "Monaco",
             1000000
            ],
            [
             "Monaco",
             17000000
            ],
            [
             "Paris Saint Germain",
             41500000
            ],
            [
             "Paris Saint Germain",
             72000000
            ],
            [
             "Paris Saint Germain",
             93500000
            ],
            [
             "Paris Saint Germain",
             185500000
            ],
            [
             "Paris Saint Germain",
             194000000
            ],
            [
             "Paris Saint Germain",
             190500000
            ]
           ],
           "line": {
            "color": "deepskyblue"
           },
           "marker": {
            "opacity": 0.3,
            "size": [
             0.2857142857142857,
             4.857142857142857,
             11.857142857142858,
             20.571428571428573,
             26.714285714285715,
             53,
             55.42857142857143,
             54.42857142857143
            ]
           },
           "mode": "lines+markers",
           "type": "scatter",
           "x": [
            16,
            17,
            18,
            19,
            20,
            21,
            22,
            23
           ],
           "y": [
            65,
            79,
            83,
            87,
            89,
            90,
            91,
            91
           ]
          },
          {
           "line": {
            "color": "green"
           },
           "mode": "lines+markers",
           "type": "scatter",
           "x": [
            16,
            17,
            18,
            19,
            20,
            21,
            22,
            23
           ],
           "y": [
            85,
            92,
            94,
            95,
            95,
            95,
            95,
            95
           ]
          },
          {
           "fillcolor": "orange",
           "type": "scatter",
           "x": [
            15.5,
            16.5
           ],
           "y": [
            0,
            100
           ]
          },
          {
           "fillcolor": "orange",
           "type": "scatter",
           "x": [
            16.5,
            17.5
           ],
           "y": [
            0,
            100
           ]
          },
          {
           "fillcolor": "orange",
           "type": "scatter",
           "x": [
            17.5,
            18.5
           ],
           "y": [
            0,
            100
           ]
          },
          {
           "fillcolor": "orange",
           "type": "scatter",
           "x": [
            18.5,
            19.5
           ],
           "y": [
            0,
            100
           ]
          },
          {
           "fillcolor": "orange",
           "type": "scatter",
           "x": [
            19.5,
            20.5
           ],
           "y": [
            0,
            100
           ]
          },
          {
           "fillcolor": "orange",
           "type": "scatter",
           "x": [
            20.5,
            21.5
           ],
           "y": [
            0,
            100
           ]
          },
          {
           "fillcolor": "orange",
           "type": "scatter",
           "x": [
            21.5,
            22.5
           ],
           "y": [
            0,
            100
           ]
          },
          {
           "fillcolor": "orange",
           "type": "scatter",
           "x": [
            22.5,
            23.5
           ],
           "y": [
            0,
            100
           ]
          }
         ],
         "layout": {
          "shapes": [
           {
            "fillcolor": "peachpuff",
            "layer": "below",
            "line": {
             "width": 0
            },
            "type": "rect",
            "x0": 15.5,
            "x1": 16.5,
            "xref": "x",
            "y0": 0,
            "y1": 1,
            "yref": "paper"
           },
           {
            "fillcolor": "coral",
            "layer": "below",
            "line": {
             "width": 0
            },
            "type": "rect",
            "x0": 16.5,
            "x1": 17.5,
            "xref": "x",
            "y0": 0,
            "y1": 1,
            "yref": "paper"
           },
           {
            "fillcolor": "tomato",
            "layer": "below",
            "line": {
             "width": 0
            },
            "type": "rect",
            "x0": 17.5,
            "x1": 18.5,
            "xref": "x",
            "y0": 0,
            "y1": 1,
            "yref": "paper"
           },
           {
            "fillcolor": "tomato",
            "layer": "below",
            "line": {
             "width": 0
            },
            "type": "rect",
            "x0": 18.5,
            "x1": 19.5,
            "xref": "x",
            "y0": 0,
            "y1": 1,
            "yref": "paper"
           },
           {
            "fillcolor": "orangered",
            "layer": "below",
            "line": {
             "width": 0
            },
            "type": "rect",
            "x0": 19.5,
            "x1": 20.5,
            "xref": "x",
            "y0": 0,
            "y1": 1,
            "yref": "paper"
           },
           {
            "fillcolor": "orangered",
            "layer": "below",
            "line": {
             "width": 0
            },
            "type": "rect",
            "x0": 20.5,
            "x1": 21.5,
            "xref": "x",
            "y0": 0,
            "y1": 1,
            "yref": "paper"
           },
           {
            "fillcolor": "orangered",
            "layer": "below",
            "line": {
             "width": 0
            },
            "type": "rect",
            "x0": 21.5,
            "x1": 22.5,
            "xref": "x",
            "y0": 0,
            "y1": 1,
            "yref": "paper"
           },
           {
            "fillcolor": "orangered",
            "layer": "below",
            "line": {
             "width": 0
            },
            "type": "rect",
            "x0": 22.5,
            "x1": 23.5,
            "xref": "x",
            "y0": 0,
            "y1": 1,
            "yref": "paper"
           }
          ]
         }
        },
        {
         "data": [
          {
           "customdata": [
            [
             "Monaco",
             1000000
            ],
            [
             "Monaco",
             17000000
            ],
            [
             "Paris Saint Germain",
             41500000
            ],
            [
             "Paris Saint Germain",
             72000000
            ],
            [
             "Paris Saint Germain",
             93500000
            ],
            [
             "Paris Saint Germain",
             185500000
            ],
            [
             "Paris Saint Germain",
             194000000
            ],
            [
             "Paris Saint Germain",
             190500000
            ]
           ],
           "line": {
            "color": "deepskyblue"
           },
           "marker": {
            "opacity": 0.3,
            "size": [
             0.2857142857142857,
             4.857142857142857,
             11.857142857142858,
             20.571428571428573,
             26.714285714285715,
             53,
             55.42857142857143,
             54.42857142857143
            ]
           },
           "mode": "lines+markers",
           "type": "scatter",
           "x": [
            16,
            17,
            18,
            19,
            20,
            21,
            22,
            23
           ],
           "y": [
            65,
            79,
            83,
            87,
            89,
            90,
            91,
            91
           ]
          },
          {
           "line": {
            "color": "green"
           },
           "mode": "lines+markers",
           "type": "scatter",
           "x": [
            16,
            17,
            18,
            19,
            20,
            21,
            22,
            23
           ],
           "y": [
            85,
            92,
            94,
            95,
            95,
            95,
            95,
            95
           ]
          },
          {
           "fillcolor": "orange",
           "type": "scatter",
           "x": [
            15.5,
            16.5
           ],
           "y": [
            0,
            100
           ]
          },
          {
           "fillcolor": "orange",
           "type": "scatter",
           "x": [
            16.5,
            17.5
           ],
           "y": [
            0,
            100
           ]
          },
          {
           "fillcolor": "orange",
           "type": "scatter",
           "x": [
            17.5,
            18.5
           ],
           "y": [
            0,
            100
           ]
          },
          {
           "fillcolor": "orange",
           "type": "scatter",
           "x": [
            18.5,
            19.5
           ],
           "y": [
            0,
            100
           ]
          },
          {
           "fillcolor": "orange",
           "type": "scatter",
           "x": [
            19.5,
            20.5
           ],
           "y": [
            0,
            100
           ]
          },
          {
           "fillcolor": "orange",
           "type": "scatter",
           "x": [
            20.5,
            21.5
           ],
           "y": [
            0,
            100
           ]
          },
          {
           "fillcolor": "orange",
           "type": "scatter",
           "x": [
            21.5,
            22.5
           ],
           "y": [
            0,
            100
           ]
          },
          {
           "fillcolor": "orange",
           "type": "scatter",
           "x": [
            22.5,
            23.5
           ],
           "y": [
            0,
            100
           ]
          }
         ],
         "layout": {
          "shapes": [
           {
            "fillcolor": "peachpuff",
            "layer": "below",
            "line": {
             "width": 0
            },
            "type": "rect",
            "x0": 15.5,
            "x1": 16.5,
            "xref": "x",
            "y0": 0,
            "y1": 1,
            "yref": "paper"
           },
           {
            "fillcolor": "coral",
            "layer": "below",
            "line": {
             "width": 0
            },
            "type": "rect",
            "x0": 16.5,
            "x1": 17.5,
            "xref": "x",
            "y0": 0,
            "y1": 1,
            "yref": "paper"
           },
           {
            "fillcolor": "tomato",
            "layer": "below",
            "line": {
             "width": 0
            },
            "type": "rect",
            "x0": 17.5,
            "x1": 18.5,
            "xref": "x",
            "y0": 0,
            "y1": 1,
            "yref": "paper"
           },
           {
            "fillcolor": "tomato",
            "layer": "below",
            "line": {
             "width": 0
            },
            "type": "rect",
            "x0": 18.5,
            "x1": 19.5,
            "xref": "x",
            "y0": 0,
            "y1": 1,
            "yref": "paper"
           },
           {
            "fillcolor": "orangered",
            "layer": "below",
            "line": {
             "width": 0
            },
            "type": "rect",
            "x0": 19.5,
            "x1": 20.5,
            "xref": "x",
            "y0": 0,
            "y1": 1,
            "yref": "paper"
           },
           {
            "fillcolor": "orangered",
            "layer": "below",
            "line": {
             "width": 0
            },
            "type": "rect",
            "x0": 20.5,
            "x1": 21.5,
            "xref": "x",
            "y0": 0,
            "y1": 1,
            "yref": "paper"
           },
           {
            "fillcolor": "orangered",
            "layer": "below",
            "line": {
             "width": 0
            },
            "type": "rect",
            "x0": 21.5,
            "x1": 22.5,
            "xref": "x",
            "y0": 0,
            "y1": 1,
            "yref": "paper"
           },
           {
            "fillcolor": "orangered",
            "layer": "below",
            "line": {
             "width": 0
            },
            "type": "rect",
            "x0": 22.5,
            "x1": 23.5,
            "xref": "x",
            "y0": 0,
            "y1": 1,
            "yref": "paper"
           }
          ]
         }
        }
       ],
       "layout": {
        "height": 600,
        "images": [
         {
          "sizex": 0.15,
          "sizey": 0.15,
          "source": "FootViz/public/playerface/Kylian Mbappé Lottin.png",
          "x": 0.9,
          "xanchor": "center",
          "xref": "paper",
          "y": 0.1,
          "yanchor": "middle",
          "yref": "paper"
         }
        ],
        "showlegend": true,
        "template": {
         "data": {
          "bar": [
           {
            "error_x": {
             "color": "#2a3f5f"
            },
            "error_y": {
             "color": "#2a3f5f"
            },
            "marker": {
             "line": {
              "color": "#E5ECF6",
              "width": 0.5
             },
             "pattern": {
              "fillmode": "overlay",
              "size": 10,
              "solidity": 0.2
             }
            },
            "type": "bar"
           }
          ],
          "barpolar": [
           {
            "marker": {
             "line": {
              "color": "#E5ECF6",
              "width": 0.5
             },
             "pattern": {
              "fillmode": "overlay",
              "size": 10,
              "solidity": 0.2
             }
            },
            "type": "barpolar"
           }
          ],
          "carpet": [
           {
            "aaxis": {
             "endlinecolor": "#2a3f5f",
             "gridcolor": "white",
             "linecolor": "white",
             "minorgridcolor": "white",
             "startlinecolor": "#2a3f5f"
            },
            "baxis": {
             "endlinecolor": "#2a3f5f",
             "gridcolor": "white",
             "linecolor": "white",
             "minorgridcolor": "white",
             "startlinecolor": "#2a3f5f"
            },
            "type": "carpet"
           }
          ],
          "choropleth": [
           {
            "colorbar": {
             "outlinewidth": 0,
             "ticks": ""
            },
            "type": "choropleth"
           }
          ],
          "contour": [
           {
            "colorbar": {
             "outlinewidth": 0,
             "ticks": ""
            },
            "colorscale": [
             [
              0,
              "#0d0887"
             ],
             [
              0.1111111111111111,
              "#46039f"
             ],
             [
              0.2222222222222222,
              "#7201a8"
             ],
             [
              0.3333333333333333,
              "#9c179e"
             ],
             [
              0.4444444444444444,
              "#bd3786"
             ],
             [
              0.5555555555555556,
              "#d8576b"
             ],
             [
              0.6666666666666666,
              "#ed7953"
             ],
             [
              0.7777777777777778,
              "#fb9f3a"
             ],
             [
              0.8888888888888888,
              "#fdca26"
             ],
             [
              1,
              "#f0f921"
             ]
            ],
            "type": "contour"
           }
          ],
          "contourcarpet": [
           {
            "colorbar": {
             "outlinewidth": 0,
             "ticks": ""
            },
            "type": "contourcarpet"
           }
          ],
          "heatmap": [
           {
            "colorbar": {
             "outlinewidth": 0,
             "ticks": ""
            },
            "colorscale": [
             [
              0,
              "#0d0887"
             ],
             [
              0.1111111111111111,
              "#46039f"
             ],
             [
              0.2222222222222222,
              "#7201a8"
             ],
             [
              0.3333333333333333,
              "#9c179e"
             ],
             [
              0.4444444444444444,
              "#bd3786"
             ],
             [
              0.5555555555555556,
              "#d8576b"
             ],
             [
              0.6666666666666666,
              "#ed7953"
             ],
             [
              0.7777777777777778,
              "#fb9f3a"
             ],
             [
              0.8888888888888888,
              "#fdca26"
             ],
             [
              1,
              "#f0f921"
             ]
            ],
            "type": "heatmap"
           }
          ],
          "heatmapgl": [
           {
            "colorbar": {
             "outlinewidth": 0,
             "ticks": ""
            },
            "colorscale": [
             [
              0,
              "#0d0887"
             ],
             [
              0.1111111111111111,
              "#46039f"
             ],
             [
              0.2222222222222222,
              "#7201a8"
             ],
             [
              0.3333333333333333,
              "#9c179e"
             ],
             [
              0.4444444444444444,
              "#bd3786"
             ],
             [
              0.5555555555555556,
              "#d8576b"
             ],
             [
              0.6666666666666666,
              "#ed7953"
             ],
             [
              0.7777777777777778,
              "#fb9f3a"
             ],
             [
              0.8888888888888888,
              "#fdca26"
             ],
             [
              1,
              "#f0f921"
             ]
            ],
            "type": "heatmapgl"
           }
          ],
          "histogram": [
           {
            "marker": {
             "pattern": {
              "fillmode": "overlay",
              "size": 10,
              "solidity": 0.2
             }
            },
            "type": "histogram"
           }
          ],
          "histogram2d": [
           {
            "colorbar": {
             "outlinewidth": 0,
             "ticks": ""
            },
            "colorscale": [
             [
              0,
              "#0d0887"
             ],
             [
              0.1111111111111111,
              "#46039f"
             ],
             [
              0.2222222222222222,
              "#7201a8"
             ],
             [
              0.3333333333333333,
              "#9c179e"
             ],
             [
              0.4444444444444444,
              "#bd3786"
             ],
             [
              0.5555555555555556,
              "#d8576b"
             ],
             [
              0.6666666666666666,
              "#ed7953"
             ],
             [
              0.7777777777777778,
              "#fb9f3a"
             ],
             [
              0.8888888888888888,
              "#fdca26"
             ],
             [
              1,
              "#f0f921"
             ]
            ],
            "type": "histogram2d"
           }
          ],
          "histogram2dcontour": [
           {
            "colorbar": {
             "outlinewidth": 0,
             "ticks": ""
            },
            "colorscale": [
             [
              0,
              "#0d0887"
             ],
             [
              0.1111111111111111,
              "#46039f"
             ],
             [
              0.2222222222222222,
              "#7201a8"
             ],
             [
              0.3333333333333333,
              "#9c179e"
             ],
             [
              0.4444444444444444,
              "#bd3786"
             ],
             [
              0.5555555555555556,
              "#d8576b"
             ],
             [
              0.6666666666666666,
              "#ed7953"
             ],
             [
              0.7777777777777778,
              "#fb9f3a"
             ],
             [
              0.8888888888888888,
              "#fdca26"
             ],
             [
              1,
              "#f0f921"
             ]
            ],
            "type": "histogram2dcontour"
           }
          ],
          "mesh3d": [
           {
            "colorbar": {
             "outlinewidth": 0,
             "ticks": ""
            },
            "type": "mesh3d"
           }
          ],
          "parcoords": [
           {
            "line": {
             "colorbar": {
              "outlinewidth": 0,
              "ticks": ""
             }
            },
            "type": "parcoords"
           }
          ],
          "pie": [
           {
            "automargin": true,
            "type": "pie"
           }
          ],
          "scatter": [
           {
            "fillpattern": {
             "fillmode": "overlay",
             "size": 10,
             "solidity": 0.2
            },
            "type": "scatter"
           }
          ],
          "scatter3d": [
           {
            "line": {
             "colorbar": {
              "outlinewidth": 0,
              "ticks": ""
             }
            },
            "marker": {
             "colorbar": {
              "outlinewidth": 0,
              "ticks": ""
             }
            },
            "type": "scatter3d"
           }
          ],
          "scattercarpet": [
           {
            "marker": {
             "colorbar": {
              "outlinewidth": 0,
              "ticks": ""
             }
            },
            "type": "scattercarpet"
           }
          ],
          "scattergeo": [
           {
            "marker": {
             "colorbar": {
              "outlinewidth": 0,
              "ticks": ""
             }
            },
            "type": "scattergeo"
           }
          ],
          "scattergl": [
           {
            "marker": {
             "colorbar": {
              "outlinewidth": 0,
              "ticks": ""
             }
            },
            "type": "scattergl"
           }
          ],
          "scattermapbox": [
           {
            "marker": {
             "colorbar": {
              "outlinewidth": 0,
              "ticks": ""
             }
            },
            "type": "scattermapbox"
           }
          ],
          "scatterpolar": [
           {
            "marker": {
             "colorbar": {
              "outlinewidth": 0,
              "ticks": ""
             }
            },
            "type": "scatterpolar"
           }
          ],
          "scatterpolargl": [
           {
            "marker": {
             "colorbar": {
              "outlinewidth": 0,
              "ticks": ""
             }
            },
            "type": "scatterpolargl"
           }
          ],
          "scatterternary": [
           {
            "marker": {
             "colorbar": {
              "outlinewidth": 0,
              "ticks": ""
             }
            },
            "type": "scatterternary"
           }
          ],
          "surface": [
           {
            "colorbar": {
             "outlinewidth": 0,
             "ticks": ""
            },
            "colorscale": [
             [
              0,
              "#0d0887"
             ],
             [
              0.1111111111111111,
              "#46039f"
             ],
             [
              0.2222222222222222,
              "#7201a8"
             ],
             [
              0.3333333333333333,
              "#9c179e"
             ],
             [
              0.4444444444444444,
              "#bd3786"
             ],
             [
              0.5555555555555556,
              "#d8576b"
             ],
             [
              0.6666666666666666,
              "#ed7953"
             ],
             [
              0.7777777777777778,
              "#fb9f3a"
             ],
             [
              0.8888888888888888,
              "#fdca26"
             ],
             [
              1,
              "#f0f921"
             ]
            ],
            "type": "surface"
           }
          ],
          "table": [
           {
            "cells": {
             "fill": {
              "color": "#EBF0F8"
             },
             "line": {
              "color": "white"
             }
            },
            "header": {
             "fill": {
              "color": "#C8D4E3"
             },
             "line": {
              "color": "white"
             }
            },
            "type": "table"
           }
          ]
         },
         "layout": {
          "annotationdefaults": {
           "arrowcolor": "#2a3f5f",
           "arrowhead": 0,
           "arrowwidth": 1
          },
          "autotypenumbers": "strict",
          "coloraxis": {
           "colorbar": {
            "outlinewidth": 0,
            "ticks": ""
           }
          },
          "colorscale": {
           "diverging": [
            [
             0,
             "#8e0152"
            ],
            [
             0.1,
             "#c51b7d"
            ],
            [
             0.2,
             "#de77ae"
            ],
            [
             0.3,
             "#f1b6da"
            ],
            [
             0.4,
             "#fde0ef"
            ],
            [
             0.5,
             "#f7f7f7"
            ],
            [
             0.6,
             "#e6f5d0"
            ],
            [
             0.7,
             "#b8e186"
            ],
            [
             0.8,
             "#7fbc41"
            ],
            [
             0.9,
             "#4d9221"
            ],
            [
             1,
             "#276419"
            ]
           ],
           "sequential": [
            [
             0,
             "#0d0887"
            ],
            [
             0.1111111111111111,
             "#46039f"
            ],
            [
             0.2222222222222222,
             "#7201a8"
            ],
            [
             0.3333333333333333,
             "#9c179e"
            ],
            [
             0.4444444444444444,
             "#bd3786"
            ],
            [
             0.5555555555555556,
             "#d8576b"
            ],
            [
             0.6666666666666666,
             "#ed7953"
            ],
            [
             0.7777777777777778,
             "#fb9f3a"
            ],
            [
             0.8888888888888888,
             "#fdca26"
            ],
            [
             1,
             "#f0f921"
            ]
           ],
           "sequentialminus": [
            [
             0,
             "#0d0887"
            ],
            [
             0.1111111111111111,
             "#46039f"
            ],
            [
             0.2222222222222222,
             "#7201a8"
            ],
            [
             0.3333333333333333,
             "#9c179e"
            ],
            [
             0.4444444444444444,
             "#bd3786"
            ],
            [
             0.5555555555555556,
             "#d8576b"
            ],
            [
             0.6666666666666666,
             "#ed7953"
            ],
            [
             0.7777777777777778,
             "#fb9f3a"
            ],
            [
             0.8888888888888888,
             "#fdca26"
            ],
            [
             1,
             "#f0f921"
            ]
           ]
          },
          "colorway": [
           "#636efa",
           "#EF553B",
           "#00cc96",
           "#ab63fa",
           "#FFA15A",
           "#19d3f3",
           "#FF6692",
           "#B6E880",
           "#FF97FF",
           "#FECB52"
          ],
          "font": {
           "color": "#2a3f5f"
          },
          "geo": {
           "bgcolor": "white",
           "lakecolor": "white",
           "landcolor": "#E5ECF6",
           "showlakes": true,
           "showland": true,
           "subunitcolor": "white"
          },
          "hoverlabel": {
           "align": "left"
          },
          "hovermode": "closest",
          "mapbox": {
           "style": "light"
          },
          "paper_bgcolor": "white",
          "plot_bgcolor": "#E5ECF6",
          "polar": {
           "angularaxis": {
            "gridcolor": "white",
            "linecolor": "white",
            "ticks": ""
           },
           "bgcolor": "#E5ECF6",
           "radialaxis": {
            "gridcolor": "white",
            "linecolor": "white",
            "ticks": ""
           }
          },
          "scene": {
           "xaxis": {
            "backgroundcolor": "#E5ECF6",
            "gridcolor": "white",
            "gridwidth": 2,
            "linecolor": "white",
            "showbackground": true,
            "ticks": "",
            "zerolinecolor": "white"
           },
           "yaxis": {
            "backgroundcolor": "#E5ECF6",
            "gridcolor": "white",
            "gridwidth": 2,
            "linecolor": "white",
            "showbackground": true,
            "ticks": "",
            "zerolinecolor": "white"
           },
           "zaxis": {
            "backgroundcolor": "#E5ECF6",
            "gridcolor": "white",
            "gridwidth": 2,
            "linecolor": "white",
            "showbackground": true,
            "ticks": "",
            "zerolinecolor": "white"
           }
          },
          "shapedefaults": {
           "line": {
            "color": "#2a3f5f"
           }
          },
          "ternary": {
           "aaxis": {
            "gridcolor": "white",
            "linecolor": "white",
            "ticks": ""
           },
           "baxis": {
            "gridcolor": "white",
            "linecolor": "white",
            "ticks": ""
           },
           "bgcolor": "#E5ECF6",
           "caxis": {
            "gridcolor": "white",
            "linecolor": "white",
            "ticks": ""
           }
          },
          "title": {
           "x": 0.05
          },
          "xaxis": {
           "automargin": true,
           "gridcolor": "white",
           "linecolor": "white",
           "ticks": "",
           "title": {
            "standoff": 15
           },
           "zerolinecolor": "white",
           "zerolinewidth": 2
          },
          "yaxis": {
           "automargin": true,
           "gridcolor": "white",
           "linecolor": "white",
           "ticks": "",
           "title": {
            "standoff": 15
           },
           "zerolinecolor": "white",
           "zerolinewidth": 2
          }
         }
        },
        "title": {
         "text": "Kylian Mbappé Lottin",
         "x": 0.5,
         "y": 0.9
        },
        "updatemenus": [
         {
          "buttons": [
           {
            "args": [
             null,
             {
              "frame": {
               "duration": 500,
               "redraw": true
              },
              "fromcurrent": true,
              "mode": "immediate"
             }
            ],
            "label": "Play",
            "method": "animate"
           }
          ],
          "showactive": false,
          "type": "buttons"
         }
        ],
        "width": 1200,
        "xaxis": {
         "showgrid": false,
         "title": {
          "text": "FIFA version"
         }
        },
        "yaxis": {
         "showgrid": false
        }
       }
      }
     },
     "metadata": {},
     "output_type": "display_data"
    }
   ],
   "source": [
    "import plotly.graph_objects as go\n",
    "import pandas as pd\n",
    "import numpy as np\n",
    "import urllib.request\n",
    "from PIL import Image\n",
    "from plotly.subplots import make_subplots\n",
    "import os\n",
    "os.makedirs('FootViz/public/playerface', exist_ok=True)\n",
    "\n",
    "# Color mapping for player classes\n",
    "axvspan_color = {\"world-top player\":'red', \"top player\":'orange', \"great player\":'coral', \n",
    "                      \"above-average player\":'lightsalmon', \"below-average player\":'peachpuff',\"bad player\":'linen'}\n",
    "axvspan_color = {\"world-top player\":'orangered', \"top player\":'tomato', \"great player\":'coral', \n",
    "                      \"above-average player\":'lightsalmon', \"below-average player\":'peachpuff',\"bad player\":'linen'}\n",
    "\n",
    "sub_df = full_data[full_data['player_id'] == id].iloc[::-1]\n",
    "\n",
    "# Create a figure with Plotly\n",
    "fig = go.Figure()\n",
    "discount =3_500_000\n",
    "# Add line plot for overall score\n",
    "fig.add_trace(\n",
    "    go.Scatter(\n",
    "        x=[sub_df['fifa_version'].iloc[0]],\n",
    "        y=[sub_df['overall'].iloc[0]],\n",
    "        marker=dict(\n",
    "        size=[sub_df['value_eur'].iloc[0] / discount],\n",
    "        opacity=0.3  \n",
    "    ),\n",
    "        mode='lines+markers',\n",
    "        name=f\"Overall\",\n",
    "        line=dict(color='deepskyblue'),\n",
    "        customdata=[sub_df['club_name'].iloc[0],sub_df['value_eur'].iloc[0]],\n",
    "        hovertemplate=(\n",
    "            \"<b>Club name:</b> %{customdata[0]}<br>\"\n",
    "            \"<b>Overall:</b> %{y}<br>\"\n",
    "            \"<b>Value in EUR</b>: %{customdata[1]:,}<br>\"\n",
    "            \"<extra></extra>\"  # This removes the trace name from the hover label\n",
    "        )\n",
    "    )\n",
    ")\n",
    "fig.add_trace(\n",
    "    go.Scatter(\n",
    "        x=[sub_df['fifa_version'].iloc[0]],\n",
    "        y=[sub_df['potential'].iloc[0]],\n",
    "        mode='lines+markers',\n",
    "        name=f\"Potential\",\n",
    "        line=dict(color='deepskyblue'),\n",
    "        hovertemplate=(\n",
    "            \"<b>Potential:</b> %{y}<br>\"\n",
    "        )\n",
    "    )\n",
    ")\n",
    "for player_class, color in axvspan_color.items():\n",
    "    fig.add_trace(\n",
    "        go.Scatter(\n",
    "            x=[None], y=[None],\n",
    "            mode='markers',\n",
    "            marker=dict(size=10, color=color),\n",
    "            legendgroup=player_class,\n",
    "            showlegend=True,\n",
    "            name=player_class,\n",
    "            visible='legendonly'\n",
    "        )\n",
    "    )\n",
    "\n",
    "frames = []\n",
    "for i in range(1, len(sub_df) + 2):\n",
    "    # Subset data for the current frame\n",
    "    current_df = sub_df.iloc[:i]\n",
    "    \n",
    "    # Add the current frame data\n",
    "    frame_data = [go.Scatter(\n",
    "        x=current_df['fifa_version'],\n",
    "        y=current_df['overall'],\n",
    "        marker=dict(\n",
    "            size=current_df['value_eur'] / discount,\n",
    "            opacity=0.3 ,\n",
    "        ),\n",
    "        mode='lines+markers',\n",
    "        line=dict(color='deepskyblue'),\n",
    "        customdata=current_df[['club_name','value_eur']],\n",
    "    )]\n",
    "    frame_data.append(go.Scatter(\n",
    "        x=current_df['fifa_version'],\n",
    "        y=current_df['potential'],\n",
    "        mode='lines+markers',\n",
    "        line=dict(color='green')\n",
    "    ))\n",
    "    \n",
    "    # Add colored spans for player classes up to the current frame\n",
    "    annotations = []\n",
    "    shapes = []\n",
    "    #player_class = None\n",
    "    #xleft = current_df['fifa_version'].min() - 0.5\n",
    "    \n",
    "    for j, row in current_df.iterrows():\n",
    "        \"\"\"\n",
    "        next_player_class = row['player_class']\n",
    "        #print(player_class)\n",
    "        if (player_class is None):\n",
    "            player_class = next_player_class\n",
    "            continue\n",
    "        elif (player_class != next_player_class):\n",
    "            xright = row['fifa_version'] + 0.5\n",
    "        elif (j == len(current_df) - 1) &(i == len(sub_df) + 1):\n",
    "            xright = row['fifa_version'] + 5\n",
    "        else:\n",
    "            xright = row['fifa_version'] + 0.5\n",
    "\n",
    "    \"\"\" \n",
    "        player_class = row['player_class']\n",
    "        xleft = row['fifa_version'] - 0.5\n",
    "        xright = row['fifa_version'] + 0.5\n",
    "        shapes.append(dict(\n",
    "            type=\"rect\",\n",
    "            xref=\"x\",\n",
    "            yref=\"paper\",\n",
    "            x0=xleft,\n",
    "            x1=xright,\n",
    "            y0=0,\n",
    "            y1=1,\n",
    "            fillcolor=axvspan_color[player_class],\n",
    "            layer=\"below\",\n",
    "            line_width=0,\n",
    "        ))\n",
    "        frame_data.append(go.Scatter(\n",
    "            x=[xleft, xright],\n",
    "            y=[0,100],  # Dummy y-values, we won't use them\n",
    "            #fillcolor=axvspan_color[player_class],\n",
    "            fillcolor='orange',\n",
    "        ))\n",
    "        annotations.append(dict(\n",
    "            x=(xleft + xright) / 2,\n",
    "            y=max(sub_df['overall']),\n",
    "            text=player_class,\n",
    "            showarrow=False,\n",
    "            yshift=10\n",
    "        ))\n",
    "        #xleft = xright\n",
    "        #player_class = next_player_class\n",
    "    \n",
    "    frames.append(go.Frame(\n",
    "        data=frame_data,\n",
    "        layout=go.Layout( shapes=shapes)\n",
    "    ))\n",
    "\n",
    "fig.frames = frames\n",
    "\n",
    "# Add player's face image as an annotation\n",
    "face_image = np.unique(sub_df['player_face_url'])[-1]\n",
    "req = urllib.request.Request(face_image, headers={'User-Agent': 'Mozilla/5.0'})\n",
    "image = Image.open(urllib.request.urlopen(req))\n",
    "path = f'FootViz/public/playerface/{np.unique(sub_df[\"long_name\"])[0]}.png'\n",
    "image.save(path)\n",
    "image_url = face_image  # Using the URL directly for Plotly annotation\n",
    "#print(image_url)\n",
    "\n",
    "fig.add_layout_image(\n",
    "    dict(\n",
    "        source=path,\n",
    "        xref=\"paper\", yref=\"paper\",\n",
    "        x=0.9, y=0.1,\n",
    "        sizex=0.15, sizey=0.15,\n",
    "        xanchor=\"center\", yanchor=\"middle\"\n",
    "    )\n",
    ")\n",
    "\n",
    "# Update layout for animation\n",
    "fig.update_layout(\n",
    "    height=600,\n",
    "    width=1200,\n",
    "    showlegend=True,\n",
    "    title_text=f\"{np.unique(sub_df['long_name'])[0]}\",\n",
    "    title_x = 0.5,\n",
    "    title_y = 0.9,\n",
    "    xaxis=dict(\n",
    "        showgrid=False  \n",
    "    ),\n",
    "    yaxis=dict(\n",
    "        showgrid=False  \n",
    "    ),\n",
    "    updatemenus=[dict(\n",
    "        type=\"buttons\",\n",
    "        showactive=False,\n",
    "        buttons=[dict(label=\"Play\",\n",
    "                          method=\"animate\",\n",
    "                          args=[None, dict(frame=dict(duration=500, redraw=True), fromcurrent=True, mode='immediate')]),\n",
    "                    ]\n",
    "    )]\n",
    ")\n",
    "\n",
    "fig.update_xaxes(title_text=\"FIFA version\")\n",
    "\n",
    "# Show plot\n",
    "fig.show()\n",
    "\n",
    "fig.write_html(f\"FootViz/public/plots/{np.unique(sub_df['long_name'])[0]}.html\")"
   ]
  },
  {
   "cell_type": "code",
   "execution_count": 68,
   "metadata": {},
   "outputs": [],
   "source": [
    "def get_vis(id):\n",
    "    sub_df = full_data[full_data['player_id'] == id].iloc[::-1]\n",
    "\n",
    "    # Create a figure with Plotly\n",
    "    fig = go.Figure()\n",
    "    discount =3_500_000\n",
    "    # Add line plot for overall score\n",
    "    fig.add_trace(\n",
    "        go.Scatter(\n",
    "            x=[sub_df['fifa_version'].iloc[0]],\n",
    "            y=[sub_df['overall'].iloc[0]],\n",
    "            marker=dict(\n",
    "            size=[sub_df['value_eur'].iloc[0] / discount],\n",
    "            opacity=0.3  \n",
    "        ),\n",
    "            mode='lines+markers',\n",
    "            name=f\"Overall\",\n",
    "            line=dict(color='deepskyblue'),\n",
    "            customdata=[sub_df['club_name'].iloc[0],sub_df['value_eur'].iloc[0], sub_df['league_name'].iloc[0]],\n",
    "            hovertemplate=(\n",
    "                \"<b>Club name:</b> %{customdata[0]}<br>\"\n",
    "                \"<b>League name:</b> %{customdata[2]}<br>\"\n",
    "                \"<b>Overall:</b> %{y}<br>\"\n",
    "                \"<b>Value in EUR</b>: %{customdata[1]:,}<br>\"\n",
    "                \"<extra></extra>\"  # This removes the trace name from the hover label\n",
    "            )\n",
    "        )\n",
    "    )\n",
    "    fig.add_trace(\n",
    "        go.Scatter(\n",
    "            x=[sub_df['fifa_version'].iloc[0]],\n",
    "            y=[sub_df['potential'].iloc[0]],\n",
    "            mode='lines+markers',\n",
    "            name=f\"Potential\",\n",
    "            line=dict(color='deepskyblue'),\n",
    "            hovertemplate=(\n",
    "                \"<b>Potential:</b> %{y}<br>\"\n",
    "            )\n",
    "        )\n",
    "    )\n",
    "    for player_class, color in axvspan_color.items():\n",
    "        fig.add_trace(\n",
    "            go.Scatter(\n",
    "                x=[None], y=[None],\n",
    "                mode='markers',\n",
    "                marker=dict(size=10, color=color),\n",
    "                legendgroup=player_class,\n",
    "                showlegend=True,\n",
    "                name=player_class,\n",
    "                visible='legendonly'\n",
    "            )\n",
    "        )\n",
    "\n",
    "    frames = []\n",
    "    for i in range(1, len(sub_df) + 2):\n",
    "        # Subset data for the current frame\n",
    "        current_df = sub_df.iloc[:i]\n",
    "        \n",
    "        # Add the current frame data\n",
    "        frame_data = [go.Scatter(\n",
    "            x=current_df['fifa_version'],\n",
    "            y=current_df['overall'],\n",
    "            marker=dict(\n",
    "                size=current_df['value_eur'] / discount,\n",
    "                opacity=0.3 ,\n",
    "            ),\n",
    "            mode='lines+markers',\n",
    "            line=dict(color='deepskyblue'),\n",
    "            customdata=current_df[['club_name','value_eur','league_name']],\n",
    "        )]\n",
    "        frame_data.append(go.Scatter(\n",
    "            x=current_df['fifa_version'],\n",
    "            y=current_df['potential'],\n",
    "            mode='lines+markers',\n",
    "            line=dict(color='green')\n",
    "        ))\n",
    "        \n",
    "        # Add colored spans for player classes up to the current frame\n",
    "        annotations = []\n",
    "        shapes = []\n",
    "        #player_class = None\n",
    "        #xleft = current_df['fifa_version'].min() - 0.5\n",
    "        \n",
    "        for j, row in current_df.iterrows():\n",
    "            \"\"\"\n",
    "            next_player_class = row['player_class']\n",
    "            #print(player_class)\n",
    "            if (player_class is None):\n",
    "                player_class = next_player_class\n",
    "                continue\n",
    "            elif (player_class != next_player_class):\n",
    "                xright = row['fifa_version'] - 0.5\n",
    "            elif (j == len(current_df) - 1) &(i == len(sub_df) + 1):\n",
    "                xright = row['fifa_version'] + 5\n",
    "            else:\n",
    "                xright = row['fifa_version'] + 0.5\n",
    "            \"\"\"\n",
    "            player_class = row['player_class']\n",
    "            xleft = row['fifa_version'] - 0.5\n",
    "            xright = row['fifa_version'] + 0.5\n",
    "            shapes.append(dict(\n",
    "                type=\"rect\",\n",
    "                xref=\"x\",\n",
    "                yref=\"paper\",\n",
    "                x0=xleft,\n",
    "                x1=xright,\n",
    "                y0=0,\n",
    "                y1=1,\n",
    "                fillcolor=axvspan_color[player_class],\n",
    "                layer=\"below\",\n",
    "                line_width=0,\n",
    "            ))\n",
    "            frame_data.append(go.Scatter(\n",
    "                x=[xleft, xright],\n",
    "                y=[0,0],  # Dummy y-values, we won't use them\n",
    "                #fillcolor=axvspan_color[player_class],\n",
    "                fillcolor='orange',\n",
    "            ))\n",
    "            annotations.append(dict(\n",
    "                x=(xleft + xright) / 2,\n",
    "                y=max(sub_df['overall']),\n",
    "                text=player_class,\n",
    "                showarrow=False,\n",
    "                yshift=10\n",
    "            ))\n",
    "            #xleft = xright\n",
    "            #player_class = next_player_class\n",
    "        \n",
    "        frames.append(go.Frame(\n",
    "            data=frame_data,\n",
    "            layout=go.Layout( shapes=shapes)\n",
    "        ))\n",
    "\n",
    "    fig.frames = frames\n",
    "\n",
    "    # Add player's face image as an annotation\n",
    "    face_image = np.unique(sub_df['player_face_url'])[-1]\n",
    "    req = urllib.request.Request(face_image, headers={'User-Agent': 'Mozilla/5.0'})\n",
    "    image = Image.open(urllib.request.urlopen(req))\n",
    "    path = f'FootViz/public/playerface/{np.unique(sub_df[\"long_name\"])[0]}.png'\n",
    "    image.save(path)\n",
    "    image_url = face_image  # Using the URL directly for Plotly annotation\n",
    "    #print(image_url)\n",
    "\n",
    "    fig.add_layout_image(\n",
    "        dict(\n",
    "            source=path,\n",
    "            xref=\"paper\", yref=\"paper\",\n",
    "            x=0.9, y=0.1,\n",
    "            sizex=0.15, sizey=0.15,\n",
    "            xanchor=\"center\", yanchor=\"middle\"\n",
    "        )\n",
    "    )\n",
    "\n",
    "    # Update layout for animation\n",
    "    fig.update_layout(\n",
    "        height=600,\n",
    "        width=800,\n",
    "        showlegend=True,\n",
    "        title_text=f\"{np.unique(sub_df['long_name'])[0]}\",\n",
    "        title_x = 0.5,\n",
    "        title_y = 0.9,\n",
    "        xaxis=dict(\n",
    "            showgrid=False  \n",
    "        ),\n",
    "        yaxis=dict(\n",
    "            showgrid=False  \n",
    "        ),\n",
    "        updatemenus=[dict(\n",
    "            type=\"buttons\",\n",
    "            showactive=False,\n",
    "            buttons=[dict(label=\"Play\",\n",
    "                            method=\"animate\",\n",
    "                            args=[None, dict(frame=dict(duration=500, redraw=True), fromcurrent=True, mode='immediate')]),\n",
    "                        ]\n",
    "        )]\n",
    "    )\n",
    "\n",
    "    fig.update_xaxes(title_text=\"FIFA version\")\n",
    "\n",
    "    # Show plot\n",
    "    #fig.show()\n",
    "\n",
    "    fig.write_html(f\"FootViz/public/plots/{np.unique(sub_df['long_name'])[0]}.html\")"
   ]
  },
  {
   "cell_type": "code",
   "execution_count": 69,
   "metadata": {},
   "outputs": [
    {
     "name": "stderr",
     "output_type": "stream",
     "text": [
      "  0%|          | 0/31 [00:00<?, ?it/s]"
     ]
    },
    {
     "name": "stderr",
     "output_type": "stream",
     "text": [
      "100%|██████████| 31/31 [00:14<00:00,  2.16it/s]\n"
     ]
    }
   ],
   "source": [
    "from tqdm import tqdm\n",
    "for id in tqdm(id_list):\n",
    "    get_vis(id)"
   ]
  },
  {
   "cell_type": "markdown",
   "metadata": {},
   "source": [
    "# 保存json"
   ]
  },
  {
   "cell_type": "code",
   "execution_count": 53,
   "metadata": {},
   "outputs": [
    {
     "data": {
      "text/plain": [
       "Index(['player_id', 'long_name', 'player_positions', 'overall', 'potential',\n",
       "       'age', 'player_tags', 'player_traits', 'value_eur', 'wage_eur',\n",
       "       'player_face_url', 'evolutionImageURL', 'skill_2023', 'skill_2022',\n",
       "       'skill_2021', 'skill_2020', 'skill_2019', 'skill_2018', 'skill_2017',\n",
       "       'skill_2016', 'timeline', 'skill_2015'],\n",
       "      dtype='object')"
      ]
     },
     "execution_count": 53,
     "metadata": {},
     "output_type": "execute_result"
    }
   ],
   "source": [
    "json_df.columns"
   ]
  },
  {
   "cell_type": "code",
   "execution_count": 54,
   "metadata": {},
   "outputs": [],
   "source": [
    "json_df['evolutionImageURL'] = json_df['long_name'].apply(lambda x: f'plots/{x}.html')"
   ]
  },
  {
   "cell_type": "code",
   "execution_count": 55,
   "metadata": {},
   "outputs": [
    {
     "name": "stdout",
     "output_type": "stream",
     "text": [
      "[{'club_name': 'Paris Saint Germain', 'start_date': '2018-01-01', 'end_date': '2024-01-01'}, {'club_name': 'Monaco', 'start_date': '2016-01-01', 'end_date': '2018-01-01'}]\n",
      "[{'club_name': 'FC Bayern München', 'start_date': '2016-01-01', 'end_date': '2024-01-01'}, {'club_name': 'RB Leipzig', 'start_date': '2015-01-01', 'end_date': '2016-01-01'}]\n",
      "[{'club_name': 'Manchester City', 'start_date': '2023-01-01', 'end_date': '2024-01-01'}, {'club_name': 'Borussia Dortmund', 'start_date': '2021-01-01', 'end_date': '2023-01-01'}, {'club_name': 'Salzburg', 'start_date': '2020-01-01', 'end_date': '2021-01-01'}, {'club_name': 'Molde', 'start_date': '2017-01-01', 'end_date': '2020-01-01'}]\n",
      "[{'club_name': 'Milan', 'start_date': '2022-01-01', 'end_date': '2024-01-01'}, {'club_name': 'Lille', 'start_date': '2016-01-01', 'end_date': '2022-01-01'}, {'club_name': 'Paris Saint-Germain', 'start_date': '2015-01-01', 'end_date': '2016-01-01'}]\n",
      "[{'club_name': 'FC Barcelona', 'start_date': '2020-01-01', 'end_date': '2024-01-01'}, {'club_name': 'Ajax', 'start_date': '2017-01-01', 'end_date': '2020-01-01'}, {'club_name': 'Willem II', 'start_date': '2015-01-01', 'end_date': '2017-01-01'}]\n",
      "[{'club_name': 'Manchester City', 'start_date': '2020-01-01', 'end_date': '2024-01-01'}, {'club_name': 'Atlético Madrid', 'start_date': '2019-01-01', 'end_date': '2020-01-01'}, {'club_name': 'Villarreal', 'start_date': '2016-01-01', 'end_date': '2019-01-01'}]\n",
      "[{'club_name': 'Liverpool', 'start_date': '2016-01-01', 'end_date': '2024-01-01'}]\n",
      "[{'club_name': 'Borussia Dortmund', 'start_date': '2022-01-01', 'end_date': '2024-01-01'}, {'club_name': 'VfB Stuttgart', 'start_date': '2020-01-01', 'end_date': '2022-01-01'}, {'club_name': 'TSG Hoffenheim', 'start_date': '2017-01-01', 'end_date': '2020-01-01'}]\n",
      "[{'club_name': 'Real Sociedad', 'start_date': '2016-01-01', 'end_date': '2024-01-01'}]\n",
      "[{'club_name': 'West Ham United', 'start_date': '2017-01-01', 'end_date': '2024-01-01'}]\n",
      "[{'club_name': 'Chelsea', 'start_date': '2021-01-01', 'end_date': '2024-01-01'}, {'club_name': 'Bayer 04 Leverkusen', 'start_date': '2017-01-01', 'end_date': '2021-01-01'}]\n",
      "[{'club_name': 'Milan', 'start_date': '2021-01-01', 'end_date': '2024-01-01'}, {'club_name': 'Brescia', 'start_date': '2018-01-01', 'end_date': '2021-01-01'}]\n",
      "[{'club_name': 'Bayer 04 Leverkusen', 'start_date': '2020-01-01', 'end_date': '2024-01-01'}, {'club_name': 'Paris Saint Germain', 'start_date': '2019-01-01', 'end_date': '2020-01-01'}, {'club_name': 'Crotone', 'start_date': '2018-01-01', 'end_date': '2019-01-01'}]\n",
      "[{'club_name': 'RB Leipzig', 'start_date': '2018-01-01', 'end_date': '2024-01-01'}, {'club_name': 'Salzburg', 'start_date': '2016-01-01', 'end_date': '2018-01-01'}, {'club_name': 'FC Red Bull Salzburg', 'start_date': '2015-01-01', 'end_date': '2016-01-01'}]\n",
      "[{'club_name': 'Real Madrid', 'start_date': '2020-01-01', 'end_date': '2024-01-01'}, {'club_name': 'Olympique Lyonnais', 'start_date': '2018-01-01', 'end_date': '2020-01-01'}, {'club_name': 'Le Havre', 'start_date': '2015-01-01', 'end_date': '2018-01-01'}]\n",
      "[{'club_name': 'FC Bayern München', 'start_date': '2022-01-01', 'end_date': '2024-01-01'}, {'club_name': 'RB Leipzig', 'start_date': '2017-01-01', 'end_date': '2022-01-01'}, {'club_name': 'FC Red Bull Salzburg', 'start_date': '2016-01-01', 'end_date': '2017-01-01'}]\n",
      "[{'club_name': 'Tottenham Hotspur', 'start_date': '2022-01-01', 'end_date': '2024-01-01'}, {'club_name': 'Atalanta', 'start_date': '2021-01-01', 'end_date': '2022-01-01'}, {'club_name': 'Genoa', 'start_date': '2019-01-01', 'end_date': '2021-01-01'}, {'club_name': 'Belgrano', 'start_date': '2016-01-01', 'end_date': '2019-01-01'}]\n",
      "[{'club_name': 'Manchester United', 'start_date': '2022-01-01', 'end_date': '2024-01-01'}, {'club_name': 'Borussia Dortmund', 'start_date': '2018-01-01', 'end_date': '2022-01-01'}]\n",
      "[{'club_name': 'Chelsea', 'start_date': '2017-01-01', 'end_date': '2024-01-01'}, {'club_name': 'Derby County', 'start_date': '2019-01-01', 'end_date': '2020-01-01'}, {'club_name': 'Vitesse', 'start_date': '2018-01-01', 'end_date': '2019-01-01'}]\n",
      "[{'club_name': 'TSG Hoffenheim', 'start_date': '2023-01-01', 'end_date': '2024-01-01'}, {'club_name': 'RB Leipzig', 'start_date': '2021-01-01', 'end_date': '2023-01-01'}, {'club_name': 'Manchester City', 'start_date': '2015-01-01', 'end_date': '2021-01-01'}, {'club_name': 'PSV', 'start_date': '2019-01-01', 'end_date': '2020-01-01'}, {'club_name': 'NAC Breda', 'start_date': '2018-01-01', 'end_date': '2019-01-01'}, {'club_name': 'Mallorca', 'start_date': '2017-01-01', 'end_date': '2018-01-01'}, {'club_name': 'New York City', 'start_date': '2016-01-01', 'end_date': '2017-01-01'}]\n",
      "[{'club_name': 'Real Betis', 'start_date': '2020-01-01', 'end_date': '2024-01-01'}, {'club_name': 'Espanyol', 'start_date': '2019-01-01', 'end_date': '2020-01-01'}, {'club_name': 'Real Zaragoza', 'start_date': '2018-01-01', 'end_date': '2019-01-01'}, {'club_name': 'Celta de Vigo', 'start_date': '2016-01-01', 'end_date': '2018-01-01'}, {'club_name': 'RC Celta de Vigo', 'start_date': '2015-01-01', 'end_date': '2016-01-01'}]\n",
      "[{'club_name': 'Milan', 'start_date': '2020-01-01', 'end_date': '2024-01-01'}, {'club_name': 'Empoli', 'start_date': '2018-01-01', 'end_date': '2020-01-01'}, {'club_name': 'Tours', 'start_date': '2017-01-01', 'end_date': '2018-01-01'}, {'club_name': 'Arsenal', 'start_date': '2016-01-01', 'end_date': '2017-01-01'}, {'club_name': 'Arles', 'start_date': '2015-01-01', 'end_date': '2016-01-01'}]\n",
      "[{'club_name': 'Chelsea', 'start_date': '2020-01-01', 'end_date': '2024-01-01'}, {'club_name': 'Borussia Dortmund', 'start_date': '2016-01-01', 'end_date': '2020-01-01'}]\n",
      "[{'club_name': 'Real Sociedad', 'start_date': '2015-01-01', 'end_date': '2024-01-01'}]\n",
      "[{'club_name': 'Villarreal', 'start_date': '2023-01-01', 'end_date': '2024-01-01'}, {'club_name': 'Tottenham Hotspur', 'start_date': '2020-01-01', 'end_date': '2023-01-01'}, {'club_name': 'Real Betis', 'start_date': '2019-01-01', 'end_date': '2020-01-01'}, {'club_name': 'Paris Saint Germain', 'start_date': '2017-01-01', 'end_date': '2019-01-01'}, {'club_name': 'Rosario Central', 'start_date': '2015-01-01', 'end_date': '2017-01-01'}]\n",
      "[{'club_name': 'Manchester City', 'start_date': '2023-01-01', 'end_date': '2024-01-01'}, {'club_name': 'Borussia Dortmund', 'start_date': '2019-01-01', 'end_date': '2023-01-01'}, {'club_name': 'Basel', 'start_date': '2016-01-01', 'end_date': '2019-01-01'}]\n",
      "[{'club_name': 'Chelsea', 'start_date': '2023-01-01', 'end_date': '2024-01-01'}, {'club_name': 'Borussia Mönchengladbach', 'start_date': '2018-01-01', 'end_date': '2023-01-01'}, {'club_name': 'Young Boys', 'start_date': '2016-01-01', 'end_date': '2018-01-01'}]\n",
      "[{'club_name': 'Borussia Mönchengladbach', 'start_date': '2019-01-01', 'end_date': '2024-01-01'}, {'club_name': 'Fortuna Düsseldorf', 'start_date': '2018-01-01', 'end_date': '2019-01-01'}, {'club_name': '1860 München', 'start_date': '2017-01-01', 'end_date': '2018-01-01'}]\n",
      "[{'club_name': 'Manchester United', 'start_date': '2020-01-01', 'end_date': '2024-01-01'}, {'club_name': 'Crystal Palace', 'start_date': '2016-01-01', 'end_date': '2020-01-01'}]\n",
      "[{'club_name': 'Napoli', 'start_date': '2023-01-01', 'end_date': '2024-01-01'}, {'club_name': 'Tottenham Hotspur', 'start_date': '2020-01-01', 'end_date': '2023-01-01'}, {'club_name': 'Olympique Lyonnais', 'start_date': '2018-01-01', 'end_date': '2020-01-01'}, {'club_name': 'Amiens SC', 'start_date': '2017-01-01', 'end_date': '2018-01-01'}]\n",
      "[{'club_name': 'Fiorentina', 'start_date': '2023-01-01', 'end_date': '2024-01-01'}, {'club_name': 'Tottenham Hotspur', 'start_date': '2022-01-01', 'end_date': '2023-01-01'}, {'club_name': 'Atalanta', 'start_date': '2017-01-01', 'end_date': '2022-01-01'}, {'club_name': 'Hellas Verona', 'start_date': '2015-01-01', 'end_date': '2017-01-01'}]\n"
     ]
    }
   ],
   "source": [
    "for index,row in json_df.iterrows():\n",
    "    new_timeline = []\n",
    "    old_timeline = row['timeline']\n",
    "    for club in row['timeline'].keys():\n",
    "        one_team =  {}\n",
    "        one_team['club_name'] = club\n",
    "        one_team['start_date'] = old_timeline[club][0]\n",
    "        one_team['end_date'] = old_timeline[club][1]\n",
    "        new_timeline.append(one_team)\n",
    "    print(new_timeline)\n",
    "    json_df.at[index,'timeline'] = new_timeline"
   ]
  },
  {
   "cell_type": "code",
   "execution_count": 56,
   "metadata": {},
   "outputs": [
    {
     "data": {
      "text/html": [
       "<div>\n",
       "<style scoped>\n",
       "    .dataframe tbody tr th:only-of-type {\n",
       "        vertical-align: middle;\n",
       "    }\n",
       "\n",
       "    .dataframe tbody tr th {\n",
       "        vertical-align: top;\n",
       "    }\n",
       "\n",
       "    .dataframe thead th {\n",
       "        text-align: right;\n",
       "    }\n",
       "</style>\n",
       "<table border=\"1\" class=\"dataframe\">\n",
       "  <thead>\n",
       "    <tr style=\"text-align: right;\">\n",
       "      <th></th>\n",
       "      <th>player_id</th>\n",
       "      <th>long_name</th>\n",
       "      <th>player_positions</th>\n",
       "      <th>overall</th>\n",
       "      <th>potential</th>\n",
       "      <th>age</th>\n",
       "      <th>player_tags</th>\n",
       "      <th>player_traits</th>\n",
       "      <th>value_eur</th>\n",
       "      <th>wage_eur</th>\n",
       "      <th>...</th>\n",
       "      <th>skill_2023</th>\n",
       "      <th>skill_2022</th>\n",
       "      <th>skill_2021</th>\n",
       "      <th>skill_2020</th>\n",
       "      <th>skill_2019</th>\n",
       "      <th>skill_2018</th>\n",
       "      <th>skill_2017</th>\n",
       "      <th>skill_2016</th>\n",
       "      <th>timeline</th>\n",
       "      <th>skill_2015</th>\n",
       "    </tr>\n",
       "  </thead>\n",
       "  <tbody>\n",
       "    <tr>\n",
       "      <th>0</th>\n",
       "      <td>231747</td>\n",
       "      <td>Kylian Mbappé Lottin</td>\n",
       "      <td>ST, LW</td>\n",
       "      <td>[65, 79, 83, 87, 89, 90, 91, 91]</td>\n",
       "      <td>[85, 92, 94, 95, 95, 95, 95, 95]</td>\n",
       "      <td>23</td>\n",
       "      <td>#Speedster, #Dribbler, #Acrobat, #Clinical Fin...</td>\n",
       "      <td>Solid Player, Flair, Speed Dribbler (AI), Outs...</td>\n",
       "      <td>[1000000, 17000000, 41500000, 72000000, 935000...</td>\n",
       "      <td>[2000, 40000, 60000, 80000, 150000, 160000, 23...</td>\n",
       "      <td>...</td>\n",
       "      <td>[89.0, 80.0, 92.0, 36.0, 76.0, 97.0]</td>\n",
       "      <td>[88.0, 80.0, 92.0, 36.0, 77.0, 97.0]</td>\n",
       "      <td>[86.0, 78.0, 91.0, 39.0, 76.0, 96.0]</td>\n",
       "      <td>[84.0, 78.0, 90.0, 39.0, 75.0, 96.0]</td>\n",
       "      <td>[81.0, 79.0, 89.0, 39.0, 72.0, 96.0]</td>\n",
       "      <td>[80.0, 74.0, 85.0, 47.0, 74.0, 90.0]</td>\n",
       "      <td>[75.0, 72.0, 82.0, 47.0, 72.0, 88.0]</td>\n",
       "      <td>[62.0, 56.0, 70.0, 30.0, 54.0, 81.0]</td>\n",
       "      <td>[{'club_name': 'Paris Saint Germain', 'start_d...</td>\n",
       "      <td>[0, 0, 0, 0, 0]</td>\n",
       "    </tr>\n",
       "    <tr>\n",
       "      <th>1</th>\n",
       "      <td>231747</td>\n",
       "      <td>Joshua Walter Kimmich</td>\n",
       "      <td>CDM, RB, CM</td>\n",
       "      <td>[64, 71, 80, 81, 85, 86, 88, 89, 89]</td>\n",
       "      <td>[78, 82, 87, 87, 88, 88, 90, 90, 90]</td>\n",
       "      <td>27</td>\n",
       "      <td>#Crosser</td>\n",
       "      <td>Leadership, Long Passer (AI), Playmaker (AI)</td>\n",
       "      <td>[400000, 2800000, 20000000, 20500000, 40500000...</td>\n",
       "      <td>[4000, 25000, 80000, 80000, 90000, 125000, 145...</td>\n",
       "      <td>...</td>\n",
       "      <td>[72.0, 87.0, 84.0, 83.0, 79.0, 68.0]</td>\n",
       "      <td>[73.0, 87.0, 84.0, 83.0, 79.0, 70.0]</td>\n",
       "      <td>[72.0, 86.0, 84.0, 81.0, 79.0, 71.0]</td>\n",
       "      <td>[69.0, 86.0, 84.0, 79.0, 78.0, 72.0]</td>\n",
       "      <td>[68.0, 83.0, 82.0, 77.0, 73.0, 73.0]</td>\n",
       "      <td>[67.0, 82.0, 80.0, 77.0, 73.0, 70.0]</td>\n",
       "      <td>[67.0, 80.0, 78.0, 76.0, 71.0, 70.0]</td>\n",
       "      <td>[52.0, 71.0, 73.0, 59.0, 63.0, 62.0]</td>\n",
       "      <td>[{'club_name': 'FC Bayern München', 'start_dat...</td>\n",
       "      <td>[51.0, 65.0, 69.0, 54.0, 63.0, 69.0]</td>\n",
       "    </tr>\n",
       "    <tr>\n",
       "      <th>2</th>\n",
       "      <td>231747</td>\n",
       "      <td>Erling Braut Haaland</td>\n",
       "      <td>ST</td>\n",
       "      <td>[58, 61, 68, 75, 84, 88, 89]</td>\n",
       "      <td>[78, 83, 85, 87, 92, 94, 94]</td>\n",
       "      <td>21</td>\n",
       "      <td>#Aerial Threat, #Distance Shooter, #Strength, ...</td>\n",
       "      <td>Speed Dribbler (AI), Power Header</td>\n",
       "      <td>[250000, 550000, 1800000, 11000000, 92000000, ...</td>\n",
       "      <td>[1000, 1000, 2000, 15000, 56000, 110000, 230000]</td>\n",
       "      <td>...</td>\n",
       "      <td>[91.0, 65.0, 80.0, 49.0, 88.0, 89.0]</td>\n",
       "      <td>[91.0, 65.0, 80.0, 45.0, 88.0, 89.0]</td>\n",
       "      <td>[87.0, 63.0, 76.0, 43.0, 85.0, 85.0]</td>\n",
       "      <td>[73.0, 57.0, 72.0, 36.0, 79.0, 86.0]</td>\n",
       "      <td>[64.0, 52.0, 66.0, 32.0, 78.0, 79.0]</td>\n",
       "      <td>[58.0, 47.0, 60.0, 21.0, 70.0, 70.0]</td>\n",
       "      <td>[57.0, 44.0, 58.0, 18.0, 63.0, 69.0]</td>\n",
       "      <td>[0, 0, 0, 0, 0]</td>\n",
       "      <td>[{'club_name': 'Manchester City', 'start_date'...</td>\n",
       "      <td>[0, 0, 0, 0, 0]</td>\n",
       "    </tr>\n",
       "    <tr>\n",
       "      <th>3</th>\n",
       "      <td>231747</td>\n",
       "      <td>Mike Maignan</td>\n",
       "      <td>GK</td>\n",
       "      <td>[56, 66, 67, 73, 75, 80, 82, 84, 87]</td>\n",
       "      <td>[74, 76, 77, 81, 83, 87, 86, 89, 90]</td>\n",
       "      <td>26</td>\n",
       "      <td></td>\n",
       "      <td>Leadership, GK Long Throw, Comes For Crosses</td>\n",
       "      <td>[60000, 775000, 1000000, 4400000, 7500000, 160...</td>\n",
       "      <td>[2000, 4000, 10000, 20000, 15000, 28000, 31000...</td>\n",
       "      <td>...</td>\n",
       "      <td>[0.0, 0.0, 0.0, 0.0, 0.0, 0.0]</td>\n",
       "      <td>[0.0, 0.0, 0.0, 0.0, 0.0, 0.0]</td>\n",
       "      <td>[0.0, 0.0, 0.0, 0.0, 0.0, 0.0]</td>\n",
       "      <td>[0.0, 0.0, 0.0, 0.0, 0.0, 0.0]</td>\n",
       "      <td>[0.0, 0.0, 0.0, 0.0, 0.0, 0.0]</td>\n",
       "      <td>[0.0, 0.0, 0.0, 0.0, 0.0, 0.0]</td>\n",
       "      <td>[0.0, 0.0, 0.0, 0.0, 0.0, 0.0]</td>\n",
       "      <td>[0.0, 0.0, 0.0, 0.0, 0.0, 0.0]</td>\n",
       "      <td>[{'club_name': 'Milan', 'start_date': '2022-01...</td>\n",
       "      <td>[0.0, 0.0, 0.0, 0.0, 0.0, 0.0]</td>\n",
       "    </tr>\n",
       "    <tr>\n",
       "      <th>4</th>\n",
       "      <td>231747</td>\n",
       "      <td>Frenkie de Jong</td>\n",
       "      <td>CM</td>\n",
       "      <td>[59, 63, 70, 72, 78, 86, 85, 87, 87]</td>\n",
       "      <td>[76, 79, 80, 82, 86, 92, 90, 92, 92]</td>\n",
       "      <td>25</td>\n",
       "      <td>#Dribbler, #Playmaker, #Acrobat, #Complete Mid...</td>\n",
       "      <td>Finesse Shot, Flair, Playmaker (AI), Outside F...</td>\n",
       "      <td>[100000, 650000, 1900000, 5000000, 15000000, 6...</td>\n",
       "      <td>[2000, 2000, 7000, 8000, 15000, 210000, 190000...</td>\n",
       "      <td>...</td>\n",
       "      <td>[69.0, 86.0, 87.0, 77.0, 78.0, 82.0]</td>\n",
       "      <td>[69.0, 85.0, 88.0, 77.0, 78.0, 81.0]</td>\n",
       "      <td>[64.0, 84.0, 87.0, 76.0, 77.0, 80.0]</td>\n",
       "      <td>[64.0, 84.0, 87.0, 76.0, 77.0, 78.0]</td>\n",
       "      <td>[56.0, 79.0, 85.0, 66.0, 65.0, 73.0]</td>\n",
       "      <td>[51.0, 73.0, 79.0, 58.0, 60.0, 76.0]</td>\n",
       "      <td>[51.0, 70.0, 77.0, 58.0, 59.0, 69.0]</td>\n",
       "      <td>[51.0, 65.0, 65.0, 48.0, 52.0, 66.0]</td>\n",
       "      <td>[{'club_name': 'FC Barcelona', 'start_date': '...</td>\n",
       "      <td>[46.0, 62.0, 61.0, 46.0, 52.0, 65.0]</td>\n",
       "    </tr>\n",
       "    <tr>\n",
       "      <th>5</th>\n",
       "      <td>231747</td>\n",
       "      <td>Rodrigo Hernández Cascante</td>\n",
       "      <td>CDM</td>\n",
       "      <td>[67, 70, 72, 82, 85, 85, 86, 87]</td>\n",
       "      <td>[80, 80, 80, 87, 90, 88, 89, 89]</td>\n",
       "      <td>26</td>\n",
       "      <td></td>\n",
       "      <td>Solid Player, Long Shot Taker (AI)</td>\n",
       "      <td>[1100000, 1900000, 4500000, 29000000, 47000000...</td>\n",
       "      <td>[7000, 15000, 15000, 60000, 145000, 145000, 17...</td>\n",
       "      <td>...</td>\n",
       "      <td>[72.0, 78.0, 79.0, 83.0, 84.0, 58.0]</td>\n",
       "      <td>[70.0, 77.0, 78.0, 82.0, 82.0, 61.0]</td>\n",
       "      <td>[68.0, 77.0, 77.0, 82.0, 79.0, 65.0]</td>\n",
       "      <td>[68.0, 77.0, 77.0, 82.0, 80.0, 67.0]</td>\n",
       "      <td>[69.0, 75.0, 78.0, 76.0, 75.0, 68.0]</td>\n",
       "      <td>[59.0, 65.0, 69.0, 69.0, 67.0, 62.0]</td>\n",
       "      <td>[50.0, 62.0, 56.0, 67.0, 62.0, 56.0]</td>\n",
       "      <td>[50.0, 62.0, 55.0, 63.0, 63.0, 62.0]</td>\n",
       "      <td>[{'club_name': 'Manchester City', 'start_date'...</td>\n",
       "      <td>[0, 0, 0, 0, 0]</td>\n",
       "    </tr>\n",
       "    <tr>\n",
       "      <th>6</th>\n",
       "      <td>231747</td>\n",
       "      <td>Trent Alexander-Arnold</td>\n",
       "      <td>RB</td>\n",
       "      <td>[62, 68, 69, 78, 83, 87, 87, 86]</td>\n",
       "      <td>[78, 82, 85, 88, 89, 92, 90, 89]</td>\n",
       "      <td>23</td>\n",
       "      <td>#Crosser</td>\n",
       "      <td>Early Crosser, Long Passer (AI), Long Shot Tak...</td>\n",
       "      <td>[525000, 1500000, 1900000, 14000000, 32000000,...</td>\n",
       "      <td>[3000, 20000, 20000, 40000, 78000, 110000, 150...</td>\n",
       "      <td>...</td>\n",
       "      <td>[69.0, 89.0, 80.0, 79.0, 72.0, 76.0]</td>\n",
       "      <td>[68.0, 88.0, 80.0, 80.0, 72.0, 78.0]</td>\n",
       "      <td>[66.0, 87.0, 80.0, 80.0, 71.0, 80.0]</td>\n",
       "      <td>[62.0, 82.0, 78.0, 79.0, 70.0, 80.0]</td>\n",
       "      <td>[60.0, 75.0, 72.0, 74.0, 69.0, 80.0]</td>\n",
       "      <td>[58.0, 70.0, 67.0, 64.0, 66.0, 81.0]</td>\n",
       "      <td>[56.0, 67.0, 65.0, 62.0, 65.0, 83.0]</td>\n",
       "      <td>[46.0, 61.0, 59.0, 51.0, 59.0, 65.0]</td>\n",
       "      <td>[{'club_name': 'Liverpool', 'start_date': '201...</td>\n",
       "      <td>[0, 0, 0, 0, 0]</td>\n",
       "    </tr>\n",
       "    <tr>\n",
       "      <th>7</th>\n",
       "      <td>231747</td>\n",
       "      <td>Gregor Kobel</td>\n",
       "      <td>GK</td>\n",
       "      <td>[54, 65, 66, 72, 75, 79, 85]</td>\n",
       "      <td>[71, 81, 81, 82, 82, 85, 89]</td>\n",
       "      <td>24</td>\n",
       "      <td></td>\n",
       "      <td>Leadership, GK Long Throw, Rushes Out Of Goal,...</td>\n",
       "      <td>[130000, 950000, 1200000, 3900000, 9500000, 22...</td>\n",
       "      <td>[2000, 3000, 5000, 11000, 14000, 36000, 48000]</td>\n",
       "      <td>...</td>\n",
       "      <td>[0.0, 0.0, 0.0, 0.0, 0.0, 0.0]</td>\n",
       "      <td>[0.0, 0.0, 0.0, 0.0, 0.0, 0.0]</td>\n",
       "      <td>[0.0, 0.0, 0.0, 0.0, 0.0, 0.0]</td>\n",
       "      <td>[0.0, 0.0, 0.0, 0.0, 0.0, 0.0]</td>\n",
       "      <td>[0.0, 0.0, 0.0, 0.0, 0.0, 0.0]</td>\n",
       "      <td>[0.0, 0.0, 0.0, 0.0, 0.0, 0.0]</td>\n",
       "      <td>[0.0, 0.0, 0.0, 0.0, 0.0, 0.0]</td>\n",
       "      <td>[0, 0, 0, 0, 0]</td>\n",
       "      <td>[{'club_name': 'Borussia Dortmund', 'start_dat...</td>\n",
       "      <td>[0, 0, 0, 0, 0]</td>\n",
       "    </tr>\n",
       "    <tr>\n",
       "      <th>8</th>\n",
       "      <td>231747</td>\n",
       "      <td>Mikel Oyarzabal Ugarte</td>\n",
       "      <td>LW, RW</td>\n",
       "      <td>[56, 78, 79, 80, 83, 84, 85, 84]</td>\n",
       "      <td>[66, 85, 86, 87, 89, 89, 89, 86]</td>\n",
       "      <td>25</td>\n",
       "      <td></td>\n",
       "      <td>Leadership, Finesse Shot, Outside Foot Shot, T...</td>\n",
       "      <td>[140000, 10500000, 18000000, 21000000, 3550000...</td>\n",
       "      <td>[2000, 20000, 30000, 30000, 43000, 47000, 5700...</td>\n",
       "      <td>...</td>\n",
       "      <td>[83.0, 80.0, 83.0, 41.0, 62.0, 79.0]</td>\n",
       "      <td>[82.0, 81.0, 84.0, 41.0, 63.0, 82.0]</td>\n",
       "      <td>[82.0, 80.0, 84.0, 41.0, 63.0, 82.0]</td>\n",
       "      <td>[82.0, 79.0, 83.0, 39.0, 63.0, 80.0]</td>\n",
       "      <td>[75.0, 78.0, 82.0, 38.0, 58.0, 73.0]</td>\n",
       "      <td>[73.0, 76.0, 80.0, 33.0, 57.0, 73.0]</td>\n",
       "      <td>[72.0, 74.0, 80.0, 33.0, 58.0, 73.0]</td>\n",
       "      <td>[44.0, 57.0, 56.0, 33.0, 53.0, 63.0]</td>\n",
       "      <td>[{'club_name': 'Real Sociedad', 'start_date': ...</td>\n",
       "      <td>[0, 0, 0, 0, 0]</td>\n",
       "    </tr>\n",
       "    <tr>\n",
       "      <th>9</th>\n",
       "      <td>231747</td>\n",
       "      <td>Declan Rice</td>\n",
       "      <td>CDM, CM</td>\n",
       "      <td>[57, 60, 70, 78, 79, 82, 84]</td>\n",
       "      <td>[71, 78, 83, 87, 86, 87, 87]</td>\n",
       "      <td>23</td>\n",
       "      <td></td>\n",
       "      <td>Leadership, Long Passer (AI)</td>\n",
       "      <td>[200000, 375000, 3000000, 15000000, 33500000, ...</td>\n",
       "      <td>[6000, 6000, 15000, 49000, 31000, 69000, 83000]</td>\n",
       "      <td>...</td>\n",
       "      <td>[65.0, 75.0, 76.0, 82.0, 83.0, 71.0]</td>\n",
       "      <td>[60.0, 71.0, 74.0, 81.0, 80.0, 68.0]</td>\n",
       "      <td>[44.0, 65.0, 69.0, 78.0, 77.0, 65.0]</td>\n",
       "      <td>[37.0, 64.0, 68.0, 77.0, 77.0, 62.0]</td>\n",
       "      <td>[32.0, 57.0, 59.0, 71.0, 71.0, 61.0]</td>\n",
       "      <td>[30.0, 47.0, 51.0, 61.0, 67.0, 63.0]</td>\n",
       "      <td>[29.0, 36.0, 41.0, 57.0, 63.0, 62.0]</td>\n",
       "      <td>[0, 0, 0, 0, 0]</td>\n",
       "      <td>[{'club_name': 'West Ham United', 'start_date'...</td>\n",
       "      <td>[0, 0, 0, 0, 0]</td>\n",
       "    </tr>\n",
       "    <tr>\n",
       "      <th>10</th>\n",
       "      <td>231747</td>\n",
       "      <td>Kai Lukas Havertz</td>\n",
       "      <td>CAM, CF, ST</td>\n",
       "      <td>[70, 73, 79, 84, 85, 84, 84]</td>\n",
       "      <td>[87, 88, 88, 92, 93, 92, 91]</td>\n",
       "      <td>23</td>\n",
       "      <td></td>\n",
       "      <td>Finesse Shot, Playmaker (AI), Outside Foot Sho...</td>\n",
       "      <td>[2500000, 8000000, 19000000, 46000000, 1210000...</td>\n",
       "      <td>[20000, 20000, 30000, 70000, 105000, 130000, 1...</td>\n",
       "      <td>...</td>\n",
       "      <td>[79.0, 79.0, 84.0, 45.0, 68.0, 81.0]</td>\n",
       "      <td>[78.0, 79.0, 84.0, 45.0, 66.0, 82.0]</td>\n",
       "      <td>[81.0, 79.0, 85.0, 45.0, 67.0, 84.0]</td>\n",
       "      <td>[78.0, 79.0, 84.0, 44.0, 65.0, 84.0]</td>\n",
       "      <td>[64.0, 76.0, 80.0, 38.0, 60.0, 77.0]</td>\n",
       "      <td>[59.0, 71.0, 75.0, 40.0, 57.0, 72.0]</td>\n",
       "      <td>[57.0, 68.0, 72.0, 40.0, 55.0, 72.0]</td>\n",
       "      <td>[0, 0, 0, 0, 0]</td>\n",
       "      <td>[{'club_name': 'Chelsea', 'start_date': '2021-...</td>\n",
       "      <td>[0, 0, 0, 0, 0]</td>\n",
       "    </tr>\n",
       "    <tr>\n",
       "      <th>11</th>\n",
       "      <td>231747</td>\n",
       "      <td>Sandro Tonali</td>\n",
       "      <td>CDM, CM</td>\n",
       "      <td>[65, 67, 76, 77, 78, 84]</td>\n",
       "      <td>[87, 88, 90, 91, 87, 90]</td>\n",
       "      <td>22</td>\n",
       "      <td></td>\n",
       "      <td>Long Passer (AI), Team Player</td>\n",
       "      <td>[1100000, 1600000, 15500000, 24000000, 3000000...</td>\n",
       "      <td>[1000, 1000, 8000, 25000, 26000, 75000]</td>\n",
       "      <td>...</td>\n",
       "      <td>[73.0, 81.0, 79.0, 79.0, 82.0, 81.0]</td>\n",
       "      <td>[67.0, 78.0, 77.0, 74.0, 77.0, 79.0]</td>\n",
       "      <td>[65.0, 78.0, 77.0, 72.0, 76.0, 80.0]</td>\n",
       "      <td>[66.0, 76.0, 76.0, 72.0, 76.0, 79.0]</td>\n",
       "      <td>[52.0, 69.0, 68.0, 61.0, 68.0, 68.0]</td>\n",
       "      <td>[51.0, 68.0, 66.0, 60.0, 63.0, 68.0]</td>\n",
       "      <td>[0, 0, 0, 0, 0]</td>\n",
       "      <td>[0, 0, 0, 0, 0]</td>\n",
       "      <td>[{'club_name': 'Milan', 'start_date': '2021-01...</td>\n",
       "      <td>[0, 0, 0, 0, 0]</td>\n",
       "    </tr>\n",
       "    <tr>\n",
       "      <th>12</th>\n",
       "      <td>231747</td>\n",
       "      <td>Moussa Diaby</td>\n",
       "      <td>RM, LM, LW</td>\n",
       "      <td>[56, 68, 74, 81, 81, 84]</td>\n",
       "      <td>[73, 83, 85, 88, 88, 88]</td>\n",
       "      <td>22</td>\n",
       "      <td>#Speedster, #Dribbler, #Acrobat</td>\n",
       "      <td>Speed Dribbler (AI), Technical Dribbler (AI)</td>\n",
       "      <td>[180000, 1800000, 9500000, 51000000, 52500000,...</td>\n",
       "      <td>[2000, 15000, 26000, 54000, 52000, 70000]</td>\n",
       "      <td>...</td>\n",
       "      <td>[73.0, 75.0, 87.0, 42.0, 59.0, 93.0]</td>\n",
       "      <td>[68.0, 73.0, 85.0, 41.0, 53.0, 94.0]</td>\n",
       "      <td>[66.0, 74.0, 85.0, 43.0, 53.0, 94.0]</td>\n",
       "      <td>[62.0, 68.0, 78.0, 42.0, 51.0, 87.0]</td>\n",
       "      <td>[61.0, 62.0, 74.0, 36.0, 42.0, 78.0]</td>\n",
       "      <td>[53.0, 49.0, 64.0, 36.0, 37.0, 73.0]</td>\n",
       "      <td>[0, 0, 0, 0, 0]</td>\n",
       "      <td>[0, 0, 0, 0, 0]</td>\n",
       "      <td>[{'club_name': 'Bayer 04 Leverkusen', 'start_d...</td>\n",
       "      <td>[0, 0, 0, 0, 0]</td>\n",
       "    </tr>\n",
       "    <tr>\n",
       "      <th>13</th>\n",
       "      <td>231747</td>\n",
       "      <td>Konrad Laimer</td>\n",
       "      <td>CDM, CM</td>\n",
       "      <td>[51, 59, 68, 70, 75, 77, 82, 81, 83]</td>\n",
       "      <td>[57, 75, 79, 80, 82, 83, 86, 85, 84]</td>\n",
       "      <td>25</td>\n",
       "      <td>#Tactician</td>\n",
       "      <td>Dives Into Tackles (AI)</td>\n",
       "      <td>[40000, 300000, 1300000, 2800000, 8000000, 120...</td>\n",
       "      <td>[2000, 2000, 10000, 30000, 30000, 41000, 53000...</td>\n",
       "      <td>...</td>\n",
       "      <td>[68.0, 78.0, 79.0, 81.0, 78.0, 80.0]</td>\n",
       "      <td>[68.0, 77.0, 78.0, 80.0, 77.0, 81.0]</td>\n",
       "      <td>[68.0, 78.0, 78.0, 80.0, 77.0, 85.0]</td>\n",
       "      <td>[65.0, 73.0, 78.0, 73.0, 73.0, 83.0]</td>\n",
       "      <td>[63.0, 70.0, 74.0, 71.0, 73.0, 75.0]</td>\n",
       "      <td>[61.0, 65.0, 68.0, 65.0, 70.0, 76.0]</td>\n",
       "      <td>[59.0, 63.0, 67.0, 62.0, 68.0, 77.0]</td>\n",
       "      <td>[54.0, 59.0, 64.0, 43.0, 55.0, 77.0]</td>\n",
       "      <td>[{'club_name': 'RB Leipzig', 'start_date': '20...</td>\n",
       "      <td>[44.0, 47.0, 55.0, 28.0, 47.0, 68.0]</td>\n",
       "    </tr>\n",
       "    <tr>\n",
       "      <th>14</th>\n",
       "      <td>231747</td>\n",
       "      <td>Ferland Mendy</td>\n",
       "      <td>LB</td>\n",
       "      <td>[51, 54, 66, 72, 78, 80, 83, 83, 83]</td>\n",
       "      <td>[62, 65, 77, 81, 86, 86, 88, 86, 84]</td>\n",
       "      <td>27</td>\n",
       "      <td>#Speedster, #Engine</td>\n",
       "      <td>Flair, Speed Dribbler (AI)</td>\n",
       "      <td>[35000, 110000, 925000, 4100000, 13000000, 180...</td>\n",
       "      <td>[2000, 2000, 2000, 30000, 50000, 115000, 16000...</td>\n",
       "      <td>...</td>\n",
       "      <td>[64.0, 77.0, 78.0, 78.0, 84.0, 92.0]</td>\n",
       "      <td>[64.0, 76.0, 79.0, 78.0, 84.0, 92.0]</td>\n",
       "      <td>[64.0, 76.0, 79.0, 78.0, 82.0, 92.0]</td>\n",
       "      <td>[64.0, 73.0, 79.0, 75.0, 81.0, 89.0]</td>\n",
       "      <td>[63.0, 73.0, 79.0, 73.0, 78.0, 87.0]</td>\n",
       "      <td>[52.0, 64.0, 71.0, 68.0, 76.0, 81.0]</td>\n",
       "      <td>[38.0, 53.0, 61.0, 63.0, 73.0, 72.0]</td>\n",
       "      <td>[27.0, 34.0, 49.0, 57.0, 65.0, 73.0]</td>\n",
       "      <td>[{'club_name': 'Real Madrid', 'start_date': '2...</td>\n",
       "      <td>[26.0, 33.0, 48.0, 54.0, 65.0, 73.0]</td>\n",
       "    </tr>\n",
       "    <tr>\n",
       "      <th>15</th>\n",
       "      <td>231747</td>\n",
       "      <td>Dayotchanculle Oswald Upamecano</td>\n",
       "      <td>CB</td>\n",
       "      <td>[53, 66, 71, 76, 77, 80, 82, 83]</td>\n",
       "      <td>[75, 86, 86, 88, 88, 90, 90, 87]</td>\n",
       "      <td>23</td>\n",
       "      <td>#Tackling, #Strength</td>\n",
       "      <td></td>\n",
       "      <td>[110000, 1100000, 4400000, 12000000, 14000000,...</td>\n",
       "      <td>[2000, 6000, 15000, 15000, 31000, 38000, 70000...</td>\n",
       "      <td>...</td>\n",
       "      <td>[43.0, 62.0, 70.0, 82.0, 82.0, 82.0]</td>\n",
       "      <td>[43.0, 62.0, 68.0, 81.0, 81.0, 81.0]</td>\n",
       "      <td>[40.0, 62.0, 68.0, 80.0, 82.0, 78.0]</td>\n",
       "      <td>[36.0, 59.0, 61.0, 75.0, 80.0, 76.0]</td>\n",
       "      <td>[36.0, 59.0, 61.0, 74.0, 80.0, 79.0]</td>\n",
       "      <td>[32.0, 53.0, 57.0, 69.0, 71.0, 79.0]</td>\n",
       "      <td>[32.0, 52.0, 55.0, 64.0, 70.0, 71.0]</td>\n",
       "      <td>[24.0, 31.0, 30.0, 55.0, 54.0, 49.0]</td>\n",
       "      <td>[{'club_name': 'FC Bayern München', 'start_dat...</td>\n",
       "      <td>[0, 0, 0, 0, 0]</td>\n",
       "    </tr>\n",
       "    <tr>\n",
       "      <th>16</th>\n",
       "      <td>231747</td>\n",
       "      <td>Cristian Gabriel Romero</td>\n",
       "      <td>CB</td>\n",
       "      <td>[56, 63, 63, 72, 74, 73, 82, 83]</td>\n",
       "      <td>[66, 77, 77, 86, 88, 79, 87, 88]</td>\n",
       "      <td>24</td>\n",
       "      <td>#Tackling</td>\n",
       "      <td>Dives Into Tackles (AI), Long Passer (AI)</td>\n",
       "      <td>[120000, 575000, 725000, 6000000, 11500000, 44...</td>\n",
       "      <td>[2000, 2000, 2000, 9000, 10000, 29000, 51000, ...</td>\n",
       "      <td>...</td>\n",
       "      <td>[46.0, 59.0, 66.0, 85.0, 81.0, 73.0]</td>\n",
       "      <td>[46.0, 52.0, 61.0, 83.0, 84.0, 74.0]</td>\n",
       "      <td>[35.0, 43.0, 48.0, 74.0, 76.0, 62.0]</td>\n",
       "      <td>[35.0, 43.0, 48.0, 74.0, 77.0, 64.0]</td>\n",
       "      <td>[35.0, 42.0, 47.0, 70.0, 78.0, 63.0]</td>\n",
       "      <td>[34.0, 39.0, 40.0, 63.0, 71.0, 61.0]</td>\n",
       "      <td>[34.0, 39.0, 40.0, 63.0, 71.0, 62.0]</td>\n",
       "      <td>[34.0, 35.0, 36.0, 58.0, 63.0, 61.0]</td>\n",
       "      <td>[{'club_name': 'Tottenham Hotspur', 'start_dat...</td>\n",
       "      <td>[0, 0, 0, 0, 0]</td>\n",
       "    </tr>\n",
       "    <tr>\n",
       "      <th>17</th>\n",
       "      <td>231747</td>\n",
       "      <td>Jadon Sancho</td>\n",
       "      <td>LW, RW, LM</td>\n",
       "      <td>[63, 73, 84, 87, 87, 83]</td>\n",
       "      <td>[86, 88, 92, 93, 91, 87]</td>\n",
       "      <td>22</td>\n",
       "      <td>#Dribbler</td>\n",
       "      <td>Finesse Shot, Flair, Playmaker (AI)</td>\n",
       "      <td>[800000, 8000000, 44500000, 124000000, 1165000...</td>\n",
       "      <td>[6000, 15000, 61000, 82000, 150000, 140000]</td>\n",
       "      <td>...</td>\n",
       "      <td>[70.0, 80.0, 87.0, 33.0, 49.0, 79.0]</td>\n",
       "      <td>[76.0, 82.0, 91.0, 36.0, 65.0, 81.0]</td>\n",
       "      <td>[74.0, 81.0, 91.0, 37.0, 64.0, 83.0]</td>\n",
       "      <td>[72.0, 77.0, 90.0, 36.0, 60.0, 88.0]</td>\n",
       "      <td>[58.0, 63.0, 84.0, 32.0, 52.0, 85.0]</td>\n",
       "      <td>[55.0, 55.0, 71.0, 30.0, 47.0, 76.0]</td>\n",
       "      <td>[0, 0, 0, 0, 0]</td>\n",
       "      <td>[0, 0, 0, 0, 0]</td>\n",
       "      <td>[{'club_name': 'Manchester United', 'start_dat...</td>\n",
       "      <td>[0, 0, 0, 0, 0]</td>\n",
       "    </tr>\n",
       "    <tr>\n",
       "      <th>18</th>\n",
       "      <td>231747</td>\n",
       "      <td>Mason Mount</td>\n",
       "      <td>CAM, RW, CM</td>\n",
       "      <td>[58, 65, 75, 75, 80, 83, 83]</td>\n",
       "      <td>[80, 83, 86, 86, 87, 89, 86]</td>\n",
       "      <td>23</td>\n",
       "      <td>#Engine</td>\n",
       "      <td>Long Shot Taker (AI), Technical Dribbler (AI)</td>\n",
       "      <td>[275000, 1100000, 11000000, 11500000, 43000000...</td>\n",
       "      <td>[8000, 3000, 20000, 57000, 70000, 120000, 120000]</td>\n",
       "      <td>...</td>\n",
       "      <td>[81.0, 84.0, 82.0, 55.0, 67.0, 74.0]</td>\n",
       "      <td>[79.0, 84.0, 83.0, 55.0, 65.0, 74.0]</td>\n",
       "      <td>[77.0, 79.0, 80.0, 48.0, 61.0, 74.0]</td>\n",
       "      <td>[68.0, 75.0, 77.0, 46.0, 53.0, 71.0]</td>\n",
       "      <td>[67.0, 74.0, 77.0, 44.0, 51.0, 73.0]</td>\n",
       "      <td>[58.0, 64.0, 71.0, 44.0, 47.0, 69.0]</td>\n",
       "      <td>[56.0, 56.0, 57.0, 31.0, 39.0, 69.0]</td>\n",
       "      <td>[0, 0, 0, 0, 0]</td>\n",
       "      <td>[{'club_name': 'Chelsea', 'start_date': '2017-...</td>\n",
       "      <td>[0, 0, 0, 0, 0]</td>\n",
       "    </tr>\n",
       "    <tr>\n",
       "      <th>19</th>\n",
       "      <td>231747</td>\n",
       "      <td>José Ángel Esmoris Tasende</td>\n",
       "      <td>LWB, LM</td>\n",
       "      <td>[54, 63, 68, 68, 74, 79, 80, 83, 82]</td>\n",
       "      <td>[80, 81, 78, 78, 81, 84, 85, 86, 84]</td>\n",
       "      <td>25</td>\n",
       "      <td>#Crosser</td>\n",
       "      <td>Early Crosser, Flair, Long Shot Taker (AI), Ou...</td>\n",
       "      <td>[60000, 575000, 1100000, 1300000, 6500000, 150...</td>\n",
       "      <td>[2000, 2000, 4000, 5000, 10000, 90000, 95000, ...</td>\n",
       "      <td>...</td>\n",
       "      <td>[71.0, 82.0, 84.0, 75.0, 70.0, 78.0]</td>\n",
       "      <td>[71.0, 82.0, 84.0, 76.0, 70.0, 78.0]</td>\n",
       "      <td>[68.0, 80.0, 81.0, 75.0, 72.0, 73.0]</td>\n",
       "      <td>[64.0, 79.0, 81.0, 72.0, 78.0, 85.0]</td>\n",
       "      <td>[63.0, 75.0, 76.0, 65.0, 74.0, 85.0]</td>\n",
       "      <td>[53.0, 66.0, 68.0, 62.0, 55.0, 79.0]</td>\n",
       "      <td>[53.0, 66.0, 68.0, 62.0, 55.0, 79.0]</td>\n",
       "      <td>[53.0, 61.0, 66.0, 60.0, 44.0, 78.0]</td>\n",
       "      <td>[{'club_name': 'TSG Hoffenheim', 'start_date':...</td>\n",
       "      <td>[50.0, 57.0, 58.0, 52.0, 47.0, 75.0]</td>\n",
       "    </tr>\n",
       "    <tr>\n",
       "      <th>20</th>\n",
       "      <td>231747</td>\n",
       "      <td>Borja Iglesias Quintás</td>\n",
       "      <td>ST</td>\n",
       "      <td>[50, 65, 66, 70, 76, 83, 79, 80, 82]</td>\n",
       "      <td>[55, 71, 72, 77, 81, 86, 80, 80, 82]</td>\n",
       "      <td>29</td>\n",
       "      <td>#Strength</td>\n",
       "      <td>Finesse Shot, Outside Foot Shot</td>\n",
       "      <td>[30000, 750000, 875000, 2500000, 10500000, 325...</td>\n",
       "      <td>[2000, 5000, 7000, 9000, 30000, 41000, 31000, ...</td>\n",
       "      <td>...</td>\n",
       "      <td>[83.0, 66.0, 74.0, 40.0, 81.0, 68.0]</td>\n",
       "      <td>[80.0, 64.0, 74.0, 35.0, 80.0, 65.0]</td>\n",
       "      <td>[78.0, 64.0, 73.0, 35.0, 80.0, 66.0]</td>\n",
       "      <td>[83.0, 63.0, 76.0, 35.0, 82.0, 67.0]</td>\n",
       "      <td>[79.0, 61.0, 71.0, 29.0, 76.0, 62.0]</td>\n",
       "      <td>[72.0, 56.0, 64.0, 24.0, 73.0, 63.0]</td>\n",
       "      <td>[66.0, 47.0, 59.0, 22.0, 63.0, 56.0]</td>\n",
       "      <td>[66.0, 48.0, 61.0, 22.0, 63.0, 58.0]</td>\n",
       "      <td>[{'club_name': 'Real Betis', 'start_date': '20...</td>\n",
       "      <td>[53.0, 38.0, 46.0, 26.0, 57.0, 52.0]</td>\n",
       "    </tr>\n",
       "    <tr>\n",
       "      <th>21</th>\n",
       "      <td>231747</td>\n",
       "      <td>Ismaël Bennacer</td>\n",
       "      <td>CDM, CM</td>\n",
       "      <td>[54, 56, 62, 62, 71, 74, 75, 80, 82]</td>\n",
       "      <td>[74, 76, 74, 74, 82, 84, 82, 84, 86]</td>\n",
       "      <td>24</td>\n",
       "      <td>#Dribbler, #Acrobat</td>\n",
       "      <td>Technical Dribbler (AI)</td>\n",
       "      <td>[80000, 200000, 425000, 525000, 4000000, 90000...</td>\n",
       "      <td>[2000, 2000, 1000, 500, 8000, 23000, 26000, 41...</td>\n",
       "      <td>...</td>\n",
       "      <td>[68.0, 80.0, 86.0, 77.0, 76.0, 77.0]</td>\n",
       "      <td>[67.0, 80.0, 84.0, 73.0, 73.0, 73.0]</td>\n",
       "      <td>[65.0, 74.0, 79.0, 70.0, 67.0, 71.0]</td>\n",
       "      <td>[70.0, 73.0, 74.0, 68.0, 66.0, 72.0]</td>\n",
       "      <td>[67.0, 69.0, 73.0, 62.0, 54.0, 70.0]</td>\n",
       "      <td>[47.0, 63.0, 68.0, 47.0, 49.0, 69.0]</td>\n",
       "      <td>[47.0, 63.0, 68.0, 47.0, 48.0, 73.0]</td>\n",
       "      <td>[47.0, 50.0, 61.0, 32.0, 45.0, 73.0]</td>\n",
       "      <td>[{'club_name': 'Milan', 'start_date': '2020-01...</td>\n",
       "      <td>[46.0, 49.0, 60.0, 31.0, 45.0, 73.0]</td>\n",
       "    </tr>\n",
       "    <tr>\n",
       "      <th>22</th>\n",
       "      <td>231747</td>\n",
       "      <td>Christian Pulisic</td>\n",
       "      <td>LW, RW, LM</td>\n",
       "      <td>[65, 76, 78, 79, 79, 81, 82, 82]</td>\n",
       "      <td>[83, 89, 89, 88, 86, 87, 88, 88]</td>\n",
       "      <td>23</td>\n",
       "      <td>#Dribbler</td>\n",
       "      <td>Injury Prone, Speed Dribbler (AI)</td>\n",
       "      <td>[1000000, 8500000, 16500000, 19000000, 1800000...</td>\n",
       "      <td>[4000, 30000, 30000, 30000, 85000, 83000, 1200...</td>\n",
       "      <td>...</td>\n",
       "      <td>[71.0, 73.0, 86.0, 37.0, 58.0, 87.0]</td>\n",
       "      <td>[70.0, 73.0, 86.0, 37.0, 59.0, 89.0]</td>\n",
       "      <td>[70.0, 72.0, 85.0, 37.0, 59.0, 89.0]</td>\n",
       "      <td>[68.0, 70.0, 84.0, 36.0, 58.0, 90.0]</td>\n",
       "      <td>[69.0, 71.0, 85.0, 36.0, 58.0, 91.0]</td>\n",
       "      <td>[68.0, 70.0, 84.0, 33.0, 56.0, 91.0]</td>\n",
       "      <td>[67.0, 67.0, 81.0, 31.0, 55.0, 89.0]</td>\n",
       "      <td>[53.0, 57.0, 73.0, 29.0, 43.0, 80.0]</td>\n",
       "      <td>[{'club_name': 'Chelsea', 'start_date': '2020-...</td>\n",
       "      <td>[0, 0, 0, 0, 0]</td>\n",
       "    </tr>\n",
       "    <tr>\n",
       "      <th>23</th>\n",
       "      <td>231747</td>\n",
       "      <td>Aritz Elustondo Irribaria</td>\n",
       "      <td>CB, RB</td>\n",
       "      <td>[65, 65, 75, 76, 75, 77, 78, 79, 81]</td>\n",
       "      <td>[72, 72, 83, 83, 79, 81, 82, 81, 82]</td>\n",
       "      <td>28</td>\n",
       "      <td></td>\n",
       "      <td>Solid Player, Long Passer (AI)</td>\n",
       "      <td>[375000, 625000, 5000000, 9500000, 7500000, 10...</td>\n",
       "      <td>[6000, 5000, 20000, 20000, 20000, 25000, 28000...</td>\n",
       "      <td>...</td>\n",
       "      <td>[39.0, 64.0, 61.0, 81.0, 78.0, 64.0]</td>\n",
       "      <td>[33.0, 61.0, 60.0, 79.0, 77.0, 66.0]</td>\n",
       "      <td>[33.0, 58.0, 59.0, 79.0, 77.0, 67.0]</td>\n",
       "      <td>[33.0, 58.0, 59.0, 75.0, 74.0, 66.0]</td>\n",
       "      <td>[33.0, 57.0, 60.0, 73.0, 72.0, 69.0]</td>\n",
       "      <td>[33.0, 56.0, 59.0, 78.0, 72.0, 71.0]</td>\n",
       "      <td>[33.0, 53.0, 58.0, 76.0, 72.0, 71.0]</td>\n",
       "      <td>[32.0, 50.0, 48.0, 68.0, 62.0, 65.0]</td>\n",
       "      <td>[{'club_name': 'Real Sociedad', 'start_date': ...</td>\n",
       "      <td>[31.0, 48.0, 46.0, 66.0, 63.0, 61.0]</td>\n",
       "    </tr>\n",
       "    <tr>\n",
       "      <th>24</th>\n",
       "      <td>231747</td>\n",
       "      <td>Giovani Lo Celso</td>\n",
       "      <td>CAM, LM, ST</td>\n",
       "      <td>[53, 53, 74, 74, 80, 83, 82, 81, 81]</td>\n",
       "      <td>[70, 64, 86, 86, 86, 89, 87, 85, 84]</td>\n",
       "      <td>26</td>\n",
       "      <td></td>\n",
       "      <td>Finesse Shot, Flair, Playmaker (AI), Outside F...</td>\n",
       "      <td>[40000, 90000, 6000000, 10000000, 20000000, 35...</td>\n",
       "      <td>[2000, 2000, 50000, 50000, 30000, 33000, 95000...</td>\n",
       "      <td>...</td>\n",
       "      <td>[75.0, 83.0, 84.0, 68.0, 72.0, 71.0]</td>\n",
       "      <td>[76.0, 82.0, 83.0, 69.0, 73.0, 75.0]</td>\n",
       "      <td>[77.0, 82.0, 85.0, 65.0, 74.0, 77.0]</td>\n",
       "      <td>[78.0, 82.0, 85.0, 65.0, 72.0, 77.0]</td>\n",
       "      <td>[74.0, 79.0, 81.0, 64.0, 70.0, 74.0]</td>\n",
       "      <td>[62.0, 76.0, 77.0, 40.0, 63.0, 75.0]</td>\n",
       "      <td>[58.0, 76.0, 76.0, 40.0, 63.0, 77.0]</td>\n",
       "      <td>[45.0, 51.0, 57.0, 22.0, 44.0, 65.0]</td>\n",
       "      <td>[{'club_name': 'Villarreal', 'start_date': '20...</td>\n",
       "      <td>[44.0, 50.0, 56.0, 24.0, 43.0, 65.0]</td>\n",
       "    </tr>\n",
       "    <tr>\n",
       "      <th>25</th>\n",
       "      <td>231747</td>\n",
       "      <td>Manuel Obafemi Akanji</td>\n",
       "      <td>CB</td>\n",
       "      <td>[52, 67, 72, 79, 82, 78, 81, 81]</td>\n",
       "      <td>[64, 80, 83, 87, 88, 84, 84, 82]</td>\n",
       "      <td>26</td>\n",
       "      <td></td>\n",
       "      <td></td>\n",
       "      <td>[70000, 1300000, 4700000, 16000000, 27500000, ...</td>\n",
       "      <td>[2000, 10000, 15000, 40000, 70000, 42000, 5800...</td>\n",
       "      <td>...</td>\n",
       "      <td>[48.0, 70.0, 74.0, 83.0, 78.0, 77.0]</td>\n",
       "      <td>[48.0, 67.0, 74.0, 82.0, 77.0, 81.0]</td>\n",
       "      <td>[47.0, 68.0, 71.0, 80.0, 76.0, 77.0]</td>\n",
       "      <td>[45.0, 68.0, 71.0, 82.0, 79.0, 78.0]</td>\n",
       "      <td>[42.0, 65.0, 70.0, 79.0, 79.0, 80.0]</td>\n",
       "      <td>[36.0, 48.0, 61.0, 73.0, 70.0, 56.0]</td>\n",
       "      <td>[36.0, 43.0, 53.0, 68.0, 66.0, 72.0]</td>\n",
       "      <td>[27.0, 28.0, 33.0, 53.0, 63.0, 54.0]</td>\n",
       "      <td>[{'club_name': 'Manchester City', 'start_date'...</td>\n",
       "      <td>[0, 0, 0, 0, 0]</td>\n",
       "    </tr>\n",
       "    <tr>\n",
       "      <th>26</th>\n",
       "      <td>231747</td>\n",
       "      <td>Denis Lemi Zakaria Lako Lado</td>\n",
       "      <td>CDM, CM</td>\n",
       "      <td>[60, 72, 72, 77, 79, 83, 80, 81]</td>\n",
       "      <td>[77, 86, 86, 86, 86, 87, 86, 86]</td>\n",
       "      <td>25</td>\n",
       "      <td></td>\n",
       "      <td></td>\n",
       "      <td>[350000, 4300000, 7000000, 13500000, 17500000,...</td>\n",
       "      <td>[2000, 10000, 20000, 20000, 29000, 45000, 2800...</td>\n",
       "      <td>...</td>\n",
       "      <td>[64.0, 73.0, 77.0, 80.0, 84.0, 82.0]</td>\n",
       "      <td>[64.0, 72.0, 75.0, 80.0, 84.0, 83.0]</td>\n",
       "      <td>[64.0, 75.0, 77.0, 81.0, 85.0, 83.0]</td>\n",
       "      <td>[63.0, 75.0, 77.0, 79.0, 82.0, 82.0]</td>\n",
       "      <td>[56.0, 74.0, 74.0, 78.0, 82.0, 78.0]</td>\n",
       "      <td>[40.0, 72.0, 72.0, 69.0, 79.0, 70.0]</td>\n",
       "      <td>[40.0, 72.0, 72.0, 69.0, 79.0, 70.0]</td>\n",
       "      <td>[34.0, 56.0, 60.0, 57.0, 75.0, 70.0]</td>\n",
       "      <td>[{'club_name': 'Chelsea', 'start_date': '2023-...</td>\n",
       "      <td>[0, 0, 0, 0, 0]</td>\n",
       "    </tr>\n",
       "    <tr>\n",
       "      <th>27</th>\n",
       "      <td>231747</td>\n",
       "      <td>Florian Christian Neuhaus</td>\n",
       "      <td>CM</td>\n",
       "      <td>[56, 66, 73, 78, 79, 82, 80]</td>\n",
       "      <td>[69, 78, 84, 87, 86, 86, 84]</td>\n",
       "      <td>25</td>\n",
       "      <td></td>\n",
       "      <td>Long Shot Taker (AI), Playmaker (AI)</td>\n",
       "      <td>[180000, 1100000, 6500000, 15500000, 35000000,...</td>\n",
       "      <td>[2000, 6000, 15000, 27000, 37000, 36000, 34000]</td>\n",
       "      <td>...</td>\n",
       "      <td>[73.0, 79.0, 80.0, 67.0, 67.0, 68.0]</td>\n",
       "      <td>[72.0, 79.0, 82.0, 66.0, 67.0, 64.0]</td>\n",
       "      <td>[69.0, 77.0, 81.0, 64.0, 67.0, 67.0]</td>\n",
       "      <td>[66.0, 75.0, 79.0, 64.0, 67.0, 70.0]</td>\n",
       "      <td>[63.0, 70.0, 75.0, 60.0, 61.0, 70.0]</td>\n",
       "      <td>[60.0, 63.0, 69.0, 40.0, 53.0, 67.0]</td>\n",
       "      <td>[39.0, 60.0, 52.0, 37.0, 40.0, 60.0]</td>\n",
       "      <td>[0, 0, 0, 0, 0]</td>\n",
       "      <td>[{'club_name': 'Borussia Mönchengladbach', 'st...</td>\n",
       "      <td>[0, 0, 0, 0, 0]</td>\n",
       "    </tr>\n",
       "    <tr>\n",
       "      <th>28</th>\n",
       "      <td>231747</td>\n",
       "      <td>Aaron Wan-Bissaka</td>\n",
       "      <td>RB</td>\n",
       "      <td>[57, 56, 55, 72, 80, 83, 83, 79]</td>\n",
       "      <td>[73, 72, 71, 84, 88, 88, 87, 82]</td>\n",
       "      <td>24</td>\n",
       "      <td></td>\n",
       "      <td>Dives Into Tackles (AI)</td>\n",
       "      <td>[220000, 200000, 170000, 4900000, 19500000, 52...</td>\n",
       "      <td>[2000, 5000, 4000, 20000, 76000, 115000, 11500...</td>\n",
       "      <td>...</td>\n",
       "      <td>[50.0, 65.0, 73.0, 77.0, 70.0, 82.0]</td>\n",
       "      <td>[52.0, 69.0, 78.0, 81.0, 75.0, 85.0]</td>\n",
       "      <td>[51.0, 68.0, 80.0, 81.0, 74.0, 86.0]</td>\n",
       "      <td>[50.0, 65.0, 78.0, 81.0, 72.0, 87.0]</td>\n",
       "      <td>[47.0, 60.0, 68.0, 72.0, 66.0, 84.0]</td>\n",
       "      <td>[48.0, 50.0, 60.0, 28.0, 46.0, 73.0]</td>\n",
       "      <td>[48.0, 50.0, 61.0, 28.0, 48.0, 77.0]</td>\n",
       "      <td>[56.0, 52.0, 62.0, 30.0, 48.0, 73.0]</td>\n",
       "      <td>[{'club_name': 'Manchester United', 'start_dat...</td>\n",
       "      <td>[0, 0, 0, 0, 0]</td>\n",
       "    </tr>\n",
       "    <tr>\n",
       "      <th>29</th>\n",
       "      <td>231747</td>\n",
       "      <td>Tanguy Ndombèlé Alvaro</td>\n",
       "      <td>CM, CDM, CAM</td>\n",
       "      <td>[61, 74, 79, 81, 80, 82, 79]</td>\n",
       "      <td>[75, 85, 88, 89, 87, 87, 82]</td>\n",
       "      <td>25</td>\n",
       "      <td>#Dribbler</td>\n",
       "      <td>Flair, Technical Dribbler (AI)</td>\n",
       "      <td>[425000, 8500000, 19000000, 26000000, 42000000...</td>\n",
       "      <td>[1000, 40000, 50000, 88000, 82000, 95000, 85000]</td>\n",
       "      <td>...</td>\n",
       "      <td>[71.0, 79.0, 86.0, 68.0, 68.0, 66.0]</td>\n",
       "      <td>[72.0, 81.0, 88.0, 69.0, 72.0, 71.0]</td>\n",
       "      <td>[66.0, 80.0, 87.0, 69.0, 72.0, 74.0]</td>\n",
       "      <td>[65.0, 78.0, 87.0, 70.0, 78.0, 79.0]</td>\n",
       "      <td>[66.0, 76.0, 85.0, 70.0, 78.0, 80.0]</td>\n",
       "      <td>[61.0, 72.0, 73.0, 70.0, 73.0, 74.0]</td>\n",
       "      <td>[54.0, 64.0, 66.0, 56.0, 55.0, 75.0]</td>\n",
       "      <td>[0, 0, 0, 0, 0]</td>\n",
       "      <td>[{'club_name': 'Napoli', 'start_date': '2023-0...</td>\n",
       "      <td>[0, 0, 0, 0, 0]</td>\n",
       "    </tr>\n",
       "    <tr>\n",
       "      <th>30</th>\n",
       "      <td>231747</td>\n",
       "      <td>Pierluigi Gollini</td>\n",
       "      <td>GK</td>\n",
       "      <td>[54, 59, 70, 70, 70, 76, 79, 82, 77]</td>\n",
       "      <td>[67, 68, 78, 78, 78, 84, 83, 87, 80]</td>\n",
       "      <td>27</td>\n",
       "      <td></td>\n",
       "      <td>Rushes Out Of Goal, Comes For Crosses</td>\n",
       "      <td>[70000, 210000, 1700000, 2000000, 2000000, 850...</td>\n",
       "      <td>[2000, 2000, 10000, 10000, 9000, 28000, 40000,...</td>\n",
       "      <td>...</td>\n",
       "      <td>[0.0, 0.0, 0.0, 0.0, 0.0, 0.0]</td>\n",
       "      <td>[0.0, 0.0, 0.0, 0.0, 0.0, 0.0]</td>\n",
       "      <td>[0.0, 0.0, 0.0, 0.0, 0.0, 0.0]</td>\n",
       "      <td>[0.0, 0.0, 0.0, 0.0, 0.0, 0.0]</td>\n",
       "      <td>[0.0, 0.0, 0.0, 0.0, 0.0, 0.0]</td>\n",
       "      <td>[0.0, 0.0, 0.0, 0.0, 0.0, 0.0]</td>\n",
       "      <td>[0.0, 0.0, 0.0, 0.0, 0.0, 0.0]</td>\n",
       "      <td>[0.0, 0.0, 0.0, 0.0, 0.0, 0.0]</td>\n",
       "      <td>[{'club_name': 'Fiorentina', 'start_date': '20...</td>\n",
       "      <td>[0.0, 0.0, 0.0, 0.0, 0.0, 0.0]</td>\n",
       "    </tr>\n",
       "  </tbody>\n",
       "</table>\n",
       "<p>31 rows × 22 columns</p>\n",
       "</div>"
      ],
      "text/plain": [
       "    player_id                        long_name player_positions  \\\n",
       "0      231747             Kylian Mbappé Lottin           ST, LW   \n",
       "1      231747            Joshua Walter Kimmich      CDM, RB, CM   \n",
       "2      231747             Erling Braut Haaland               ST   \n",
       "3      231747                     Mike Maignan               GK   \n",
       "4      231747                  Frenkie de Jong               CM   \n",
       "5      231747       Rodrigo Hernández Cascante              CDM   \n",
       "6      231747           Trent Alexander-Arnold               RB   \n",
       "7      231747                     Gregor Kobel               GK   \n",
       "8      231747           Mikel Oyarzabal Ugarte           LW, RW   \n",
       "9      231747                      Declan Rice          CDM, CM   \n",
       "10     231747                Kai Lukas Havertz      CAM, CF, ST   \n",
       "11     231747                    Sandro Tonali          CDM, CM   \n",
       "12     231747                     Moussa Diaby       RM, LM, LW   \n",
       "13     231747                    Konrad Laimer          CDM, CM   \n",
       "14     231747                    Ferland Mendy               LB   \n",
       "15     231747  Dayotchanculle Oswald Upamecano               CB   \n",
       "16     231747          Cristian Gabriel Romero               CB   \n",
       "17     231747                     Jadon Sancho       LW, RW, LM   \n",
       "18     231747                      Mason Mount      CAM, RW, CM   \n",
       "19     231747       José Ángel Esmoris Tasende          LWB, LM   \n",
       "20     231747           Borja Iglesias Quintás               ST   \n",
       "21     231747                  Ismaël Bennacer          CDM, CM   \n",
       "22     231747                Christian Pulisic       LW, RW, LM   \n",
       "23     231747        Aritz Elustondo Irribaria           CB, RB   \n",
       "24     231747                 Giovani Lo Celso      CAM, LM, ST   \n",
       "25     231747            Manuel Obafemi Akanji               CB   \n",
       "26     231747     Denis Lemi Zakaria Lako Lado          CDM, CM   \n",
       "27     231747        Florian Christian Neuhaus               CM   \n",
       "28     231747                Aaron Wan-Bissaka               RB   \n",
       "29     231747           Tanguy Ndombèlé Alvaro     CM, CDM, CAM   \n",
       "30     231747                Pierluigi Gollini               GK   \n",
       "\n",
       "                                 overall  \\\n",
       "0       [65, 79, 83, 87, 89, 90, 91, 91]   \n",
       "1   [64, 71, 80, 81, 85, 86, 88, 89, 89]   \n",
       "2           [58, 61, 68, 75, 84, 88, 89]   \n",
       "3   [56, 66, 67, 73, 75, 80, 82, 84, 87]   \n",
       "4   [59, 63, 70, 72, 78, 86, 85, 87, 87]   \n",
       "5       [67, 70, 72, 82, 85, 85, 86, 87]   \n",
       "6       [62, 68, 69, 78, 83, 87, 87, 86]   \n",
       "7           [54, 65, 66, 72, 75, 79, 85]   \n",
       "8       [56, 78, 79, 80, 83, 84, 85, 84]   \n",
       "9           [57, 60, 70, 78, 79, 82, 84]   \n",
       "10          [70, 73, 79, 84, 85, 84, 84]   \n",
       "11              [65, 67, 76, 77, 78, 84]   \n",
       "12              [56, 68, 74, 81, 81, 84]   \n",
       "13  [51, 59, 68, 70, 75, 77, 82, 81, 83]   \n",
       "14  [51, 54, 66, 72, 78, 80, 83, 83, 83]   \n",
       "15      [53, 66, 71, 76, 77, 80, 82, 83]   \n",
       "16      [56, 63, 63, 72, 74, 73, 82, 83]   \n",
       "17              [63, 73, 84, 87, 87, 83]   \n",
       "18          [58, 65, 75, 75, 80, 83, 83]   \n",
       "19  [54, 63, 68, 68, 74, 79, 80, 83, 82]   \n",
       "20  [50, 65, 66, 70, 76, 83, 79, 80, 82]   \n",
       "21  [54, 56, 62, 62, 71, 74, 75, 80, 82]   \n",
       "22      [65, 76, 78, 79, 79, 81, 82, 82]   \n",
       "23  [65, 65, 75, 76, 75, 77, 78, 79, 81]   \n",
       "24  [53, 53, 74, 74, 80, 83, 82, 81, 81]   \n",
       "25      [52, 67, 72, 79, 82, 78, 81, 81]   \n",
       "26      [60, 72, 72, 77, 79, 83, 80, 81]   \n",
       "27          [56, 66, 73, 78, 79, 82, 80]   \n",
       "28      [57, 56, 55, 72, 80, 83, 83, 79]   \n",
       "29          [61, 74, 79, 81, 80, 82, 79]   \n",
       "30  [54, 59, 70, 70, 70, 76, 79, 82, 77]   \n",
       "\n",
       "                               potential  age  \\\n",
       "0       [85, 92, 94, 95, 95, 95, 95, 95]   23   \n",
       "1   [78, 82, 87, 87, 88, 88, 90, 90, 90]   27   \n",
       "2           [78, 83, 85, 87, 92, 94, 94]   21   \n",
       "3   [74, 76, 77, 81, 83, 87, 86, 89, 90]   26   \n",
       "4   [76, 79, 80, 82, 86, 92, 90, 92, 92]   25   \n",
       "5       [80, 80, 80, 87, 90, 88, 89, 89]   26   \n",
       "6       [78, 82, 85, 88, 89, 92, 90, 89]   23   \n",
       "7           [71, 81, 81, 82, 82, 85, 89]   24   \n",
       "8       [66, 85, 86, 87, 89, 89, 89, 86]   25   \n",
       "9           [71, 78, 83, 87, 86, 87, 87]   23   \n",
       "10          [87, 88, 88, 92, 93, 92, 91]   23   \n",
       "11              [87, 88, 90, 91, 87, 90]   22   \n",
       "12              [73, 83, 85, 88, 88, 88]   22   \n",
       "13  [57, 75, 79, 80, 82, 83, 86, 85, 84]   25   \n",
       "14  [62, 65, 77, 81, 86, 86, 88, 86, 84]   27   \n",
       "15      [75, 86, 86, 88, 88, 90, 90, 87]   23   \n",
       "16      [66, 77, 77, 86, 88, 79, 87, 88]   24   \n",
       "17              [86, 88, 92, 93, 91, 87]   22   \n",
       "18          [80, 83, 86, 86, 87, 89, 86]   23   \n",
       "19  [80, 81, 78, 78, 81, 84, 85, 86, 84]   25   \n",
       "20  [55, 71, 72, 77, 81, 86, 80, 80, 82]   29   \n",
       "21  [74, 76, 74, 74, 82, 84, 82, 84, 86]   24   \n",
       "22      [83, 89, 89, 88, 86, 87, 88, 88]   23   \n",
       "23  [72, 72, 83, 83, 79, 81, 82, 81, 82]   28   \n",
       "24  [70, 64, 86, 86, 86, 89, 87, 85, 84]   26   \n",
       "25      [64, 80, 83, 87, 88, 84, 84, 82]   26   \n",
       "26      [77, 86, 86, 86, 86, 87, 86, 86]   25   \n",
       "27          [69, 78, 84, 87, 86, 86, 84]   25   \n",
       "28      [73, 72, 71, 84, 88, 88, 87, 82]   24   \n",
       "29          [75, 85, 88, 89, 87, 87, 82]   25   \n",
       "30  [67, 68, 78, 78, 78, 84, 83, 87, 80]   27   \n",
       "\n",
       "                                          player_tags  \\\n",
       "0   #Speedster, #Dribbler, #Acrobat, #Clinical Fin...   \n",
       "1                                            #Crosser   \n",
       "2   #Aerial Threat, #Distance Shooter, #Strength, ...   \n",
       "3                                                       \n",
       "4   #Dribbler, #Playmaker, #Acrobat, #Complete Mid...   \n",
       "5                                                       \n",
       "6                                            #Crosser   \n",
       "7                                                       \n",
       "8                                                       \n",
       "9                                                       \n",
       "10                                                      \n",
       "11                                                      \n",
       "12                    #Speedster, #Dribbler, #Acrobat   \n",
       "13                                        #Tactician    \n",
       "14                                #Speedster, #Engine   \n",
       "15                               #Tackling, #Strength   \n",
       "16                                         #Tackling    \n",
       "17                                          #Dribbler   \n",
       "18                                            #Engine   \n",
       "19                                           #Crosser   \n",
       "20                                          #Strength   \n",
       "21                                #Dribbler, #Acrobat   \n",
       "22                                          #Dribbler   \n",
       "23                                                      \n",
       "24                                                      \n",
       "25                                                      \n",
       "26                                                      \n",
       "27                                                      \n",
       "28                                                      \n",
       "29                                          #Dribbler   \n",
       "30                                                      \n",
       "\n",
       "                                        player_traits  \\\n",
       "0   Solid Player, Flair, Speed Dribbler (AI), Outs...   \n",
       "1        Leadership, Long Passer (AI), Playmaker (AI)   \n",
       "2                   Speed Dribbler (AI), Power Header   \n",
       "3        Leadership, GK Long Throw, Comes For Crosses   \n",
       "4   Finesse Shot, Flair, Playmaker (AI), Outside F...   \n",
       "5                  Solid Player, Long Shot Taker (AI)   \n",
       "6   Early Crosser, Long Passer (AI), Long Shot Tak...   \n",
       "7   Leadership, GK Long Throw, Rushes Out Of Goal,...   \n",
       "8   Leadership, Finesse Shot, Outside Foot Shot, T...   \n",
       "9                        Leadership, Long Passer (AI)   \n",
       "10  Finesse Shot, Playmaker (AI), Outside Foot Sho...   \n",
       "11                      Long Passer (AI), Team Player   \n",
       "12       Speed Dribbler (AI), Technical Dribbler (AI)   \n",
       "13                            Dives Into Tackles (AI)   \n",
       "14                         Flair, Speed Dribbler (AI)   \n",
       "15                                                      \n",
       "16          Dives Into Tackles (AI), Long Passer (AI)   \n",
       "17                Finesse Shot, Flair, Playmaker (AI)   \n",
       "18      Long Shot Taker (AI), Technical Dribbler (AI)   \n",
       "19  Early Crosser, Flair, Long Shot Taker (AI), Ou...   \n",
       "20                    Finesse Shot, Outside Foot Shot   \n",
       "21                            Technical Dribbler (AI)   \n",
       "22                  Injury Prone, Speed Dribbler (AI)   \n",
       "23                     Solid Player, Long Passer (AI)   \n",
       "24  Finesse Shot, Flair, Playmaker (AI), Outside F...   \n",
       "25                                                      \n",
       "26                                                      \n",
       "27               Long Shot Taker (AI), Playmaker (AI)   \n",
       "28                            Dives Into Tackles (AI)   \n",
       "29                     Flair, Technical Dribbler (AI)   \n",
       "30              Rushes Out Of Goal, Comes For Crosses   \n",
       "\n",
       "                                            value_eur  \\\n",
       "0   [1000000, 17000000, 41500000, 72000000, 935000...   \n",
       "1   [400000, 2800000, 20000000, 20500000, 40500000...   \n",
       "2   [250000, 550000, 1800000, 11000000, 92000000, ...   \n",
       "3   [60000, 775000, 1000000, 4400000, 7500000, 160...   \n",
       "4   [100000, 650000, 1900000, 5000000, 15000000, 6...   \n",
       "5   [1100000, 1900000, 4500000, 29000000, 47000000...   \n",
       "6   [525000, 1500000, 1900000, 14000000, 32000000,...   \n",
       "7   [130000, 950000, 1200000, 3900000, 9500000, 22...   \n",
       "8   [140000, 10500000, 18000000, 21000000, 3550000...   \n",
       "9   [200000, 375000, 3000000, 15000000, 33500000, ...   \n",
       "10  [2500000, 8000000, 19000000, 46000000, 1210000...   \n",
       "11  [1100000, 1600000, 15500000, 24000000, 3000000...   \n",
       "12  [180000, 1800000, 9500000, 51000000, 52500000,...   \n",
       "13  [40000, 300000, 1300000, 2800000, 8000000, 120...   \n",
       "14  [35000, 110000, 925000, 4100000, 13000000, 180...   \n",
       "15  [110000, 1100000, 4400000, 12000000, 14000000,...   \n",
       "16  [120000, 575000, 725000, 6000000, 11500000, 44...   \n",
       "17  [800000, 8000000, 44500000, 124000000, 1165000...   \n",
       "18  [275000, 1100000, 11000000, 11500000, 43000000...   \n",
       "19  [60000, 575000, 1100000, 1300000, 6500000, 150...   \n",
       "20  [30000, 750000, 875000, 2500000, 10500000, 325...   \n",
       "21  [80000, 200000, 425000, 525000, 4000000, 90000...   \n",
       "22  [1000000, 8500000, 16500000, 19000000, 1800000...   \n",
       "23  [375000, 625000, 5000000, 9500000, 7500000, 10...   \n",
       "24  [40000, 90000, 6000000, 10000000, 20000000, 35...   \n",
       "25  [70000, 1300000, 4700000, 16000000, 27500000, ...   \n",
       "26  [350000, 4300000, 7000000, 13500000, 17500000,...   \n",
       "27  [180000, 1100000, 6500000, 15500000, 35000000,...   \n",
       "28  [220000, 200000, 170000, 4900000, 19500000, 52...   \n",
       "29  [425000, 8500000, 19000000, 26000000, 42000000...   \n",
       "30  [70000, 210000, 1700000, 2000000, 2000000, 850...   \n",
       "\n",
       "                                             wage_eur  ...  \\\n",
       "0   [2000, 40000, 60000, 80000, 150000, 160000, 23...  ...   \n",
       "1   [4000, 25000, 80000, 80000, 90000, 125000, 145...  ...   \n",
       "2    [1000, 1000, 2000, 15000, 56000, 110000, 230000]  ...   \n",
       "3   [2000, 4000, 10000, 20000, 15000, 28000, 31000...  ...   \n",
       "4   [2000, 2000, 7000, 8000, 15000, 210000, 190000...  ...   \n",
       "5   [7000, 15000, 15000, 60000, 145000, 145000, 17...  ...   \n",
       "6   [3000, 20000, 20000, 40000, 78000, 110000, 150...  ...   \n",
       "7      [2000, 3000, 5000, 11000, 14000, 36000, 48000]  ...   \n",
       "8   [2000, 20000, 30000, 30000, 43000, 47000, 5700...  ...   \n",
       "9     [6000, 6000, 15000, 49000, 31000, 69000, 83000]  ...   \n",
       "10  [20000, 20000, 30000, 70000, 105000, 130000, 1...  ...   \n",
       "11            [1000, 1000, 8000, 25000, 26000, 75000]  ...   \n",
       "12          [2000, 15000, 26000, 54000, 52000, 70000]  ...   \n",
       "13  [2000, 2000, 10000, 30000, 30000, 41000, 53000...  ...   \n",
       "14  [2000, 2000, 2000, 30000, 50000, 115000, 16000...  ...   \n",
       "15  [2000, 6000, 15000, 15000, 31000, 38000, 70000...  ...   \n",
       "16  [2000, 2000, 2000, 9000, 10000, 29000, 51000, ...  ...   \n",
       "17        [6000, 15000, 61000, 82000, 150000, 140000]  ...   \n",
       "18  [8000, 3000, 20000, 57000, 70000, 120000, 120000]  ...   \n",
       "19  [2000, 2000, 4000, 5000, 10000, 90000, 95000, ...  ...   \n",
       "20  [2000, 5000, 7000, 9000, 30000, 41000, 31000, ...  ...   \n",
       "21  [2000, 2000, 1000, 500, 8000, 23000, 26000, 41...  ...   \n",
       "22  [4000, 30000, 30000, 30000, 85000, 83000, 1200...  ...   \n",
       "23  [6000, 5000, 20000, 20000, 20000, 25000, 28000...  ...   \n",
       "24  [2000, 2000, 50000, 50000, 30000, 33000, 95000...  ...   \n",
       "25  [2000, 10000, 15000, 40000, 70000, 42000, 5800...  ...   \n",
       "26  [2000, 10000, 20000, 20000, 29000, 45000, 2800...  ...   \n",
       "27    [2000, 6000, 15000, 27000, 37000, 36000, 34000]  ...   \n",
       "28  [2000, 5000, 4000, 20000, 76000, 115000, 11500...  ...   \n",
       "29   [1000, 40000, 50000, 88000, 82000, 95000, 85000]  ...   \n",
       "30  [2000, 2000, 10000, 10000, 9000, 28000, 40000,...  ...   \n",
       "\n",
       "                              skill_2023  \\\n",
       "0   [89.0, 80.0, 92.0, 36.0, 76.0, 97.0]   \n",
       "1   [72.0, 87.0, 84.0, 83.0, 79.0, 68.0]   \n",
       "2   [91.0, 65.0, 80.0, 49.0, 88.0, 89.0]   \n",
       "3         [0.0, 0.0, 0.0, 0.0, 0.0, 0.0]   \n",
       "4   [69.0, 86.0, 87.0, 77.0, 78.0, 82.0]   \n",
       "5   [72.0, 78.0, 79.0, 83.0, 84.0, 58.0]   \n",
       "6   [69.0, 89.0, 80.0, 79.0, 72.0, 76.0]   \n",
       "7         [0.0, 0.0, 0.0, 0.0, 0.0, 0.0]   \n",
       "8   [83.0, 80.0, 83.0, 41.0, 62.0, 79.0]   \n",
       "9   [65.0, 75.0, 76.0, 82.0, 83.0, 71.0]   \n",
       "10  [79.0, 79.0, 84.0, 45.0, 68.0, 81.0]   \n",
       "11  [73.0, 81.0, 79.0, 79.0, 82.0, 81.0]   \n",
       "12  [73.0, 75.0, 87.0, 42.0, 59.0, 93.0]   \n",
       "13  [68.0, 78.0, 79.0, 81.0, 78.0, 80.0]   \n",
       "14  [64.0, 77.0, 78.0, 78.0, 84.0, 92.0]   \n",
       "15  [43.0, 62.0, 70.0, 82.0, 82.0, 82.0]   \n",
       "16  [46.0, 59.0, 66.0, 85.0, 81.0, 73.0]   \n",
       "17  [70.0, 80.0, 87.0, 33.0, 49.0, 79.0]   \n",
       "18  [81.0, 84.0, 82.0, 55.0, 67.0, 74.0]   \n",
       "19  [71.0, 82.0, 84.0, 75.0, 70.0, 78.0]   \n",
       "20  [83.0, 66.0, 74.0, 40.0, 81.0, 68.0]   \n",
       "21  [68.0, 80.0, 86.0, 77.0, 76.0, 77.0]   \n",
       "22  [71.0, 73.0, 86.0, 37.0, 58.0, 87.0]   \n",
       "23  [39.0, 64.0, 61.0, 81.0, 78.0, 64.0]   \n",
       "24  [75.0, 83.0, 84.0, 68.0, 72.0, 71.0]   \n",
       "25  [48.0, 70.0, 74.0, 83.0, 78.0, 77.0]   \n",
       "26  [64.0, 73.0, 77.0, 80.0, 84.0, 82.0]   \n",
       "27  [73.0, 79.0, 80.0, 67.0, 67.0, 68.0]   \n",
       "28  [50.0, 65.0, 73.0, 77.0, 70.0, 82.0]   \n",
       "29  [71.0, 79.0, 86.0, 68.0, 68.0, 66.0]   \n",
       "30        [0.0, 0.0, 0.0, 0.0, 0.0, 0.0]   \n",
       "\n",
       "                              skill_2022  \\\n",
       "0   [88.0, 80.0, 92.0, 36.0, 77.0, 97.0]   \n",
       "1   [73.0, 87.0, 84.0, 83.0, 79.0, 70.0]   \n",
       "2   [91.0, 65.0, 80.0, 45.0, 88.0, 89.0]   \n",
       "3         [0.0, 0.0, 0.0, 0.0, 0.0, 0.0]   \n",
       "4   [69.0, 85.0, 88.0, 77.0, 78.0, 81.0]   \n",
       "5   [70.0, 77.0, 78.0, 82.0, 82.0, 61.0]   \n",
       "6   [68.0, 88.0, 80.0, 80.0, 72.0, 78.0]   \n",
       "7         [0.0, 0.0, 0.0, 0.0, 0.0, 0.0]   \n",
       "8   [82.0, 81.0, 84.0, 41.0, 63.0, 82.0]   \n",
       "9   [60.0, 71.0, 74.0, 81.0, 80.0, 68.0]   \n",
       "10  [78.0, 79.0, 84.0, 45.0, 66.0, 82.0]   \n",
       "11  [67.0, 78.0, 77.0, 74.0, 77.0, 79.0]   \n",
       "12  [68.0, 73.0, 85.0, 41.0, 53.0, 94.0]   \n",
       "13  [68.0, 77.0, 78.0, 80.0, 77.0, 81.0]   \n",
       "14  [64.0, 76.0, 79.0, 78.0, 84.0, 92.0]   \n",
       "15  [43.0, 62.0, 68.0, 81.0, 81.0, 81.0]   \n",
       "16  [46.0, 52.0, 61.0, 83.0, 84.0, 74.0]   \n",
       "17  [76.0, 82.0, 91.0, 36.0, 65.0, 81.0]   \n",
       "18  [79.0, 84.0, 83.0, 55.0, 65.0, 74.0]   \n",
       "19  [71.0, 82.0, 84.0, 76.0, 70.0, 78.0]   \n",
       "20  [80.0, 64.0, 74.0, 35.0, 80.0, 65.0]   \n",
       "21  [67.0, 80.0, 84.0, 73.0, 73.0, 73.0]   \n",
       "22  [70.0, 73.0, 86.0, 37.0, 59.0, 89.0]   \n",
       "23  [33.0, 61.0, 60.0, 79.0, 77.0, 66.0]   \n",
       "24  [76.0, 82.0, 83.0, 69.0, 73.0, 75.0]   \n",
       "25  [48.0, 67.0, 74.0, 82.0, 77.0, 81.0]   \n",
       "26  [64.0, 72.0, 75.0, 80.0, 84.0, 83.0]   \n",
       "27  [72.0, 79.0, 82.0, 66.0, 67.0, 64.0]   \n",
       "28  [52.0, 69.0, 78.0, 81.0, 75.0, 85.0]   \n",
       "29  [72.0, 81.0, 88.0, 69.0, 72.0, 71.0]   \n",
       "30        [0.0, 0.0, 0.0, 0.0, 0.0, 0.0]   \n",
       "\n",
       "                              skill_2021  \\\n",
       "0   [86.0, 78.0, 91.0, 39.0, 76.0, 96.0]   \n",
       "1   [72.0, 86.0, 84.0, 81.0, 79.0, 71.0]   \n",
       "2   [87.0, 63.0, 76.0, 43.0, 85.0, 85.0]   \n",
       "3         [0.0, 0.0, 0.0, 0.0, 0.0, 0.0]   \n",
       "4   [64.0, 84.0, 87.0, 76.0, 77.0, 80.0]   \n",
       "5   [68.0, 77.0, 77.0, 82.0, 79.0, 65.0]   \n",
       "6   [66.0, 87.0, 80.0, 80.0, 71.0, 80.0]   \n",
       "7         [0.0, 0.0, 0.0, 0.0, 0.0, 0.0]   \n",
       "8   [82.0, 80.0, 84.0, 41.0, 63.0, 82.0]   \n",
       "9   [44.0, 65.0, 69.0, 78.0, 77.0, 65.0]   \n",
       "10  [81.0, 79.0, 85.0, 45.0, 67.0, 84.0]   \n",
       "11  [65.0, 78.0, 77.0, 72.0, 76.0, 80.0]   \n",
       "12  [66.0, 74.0, 85.0, 43.0, 53.0, 94.0]   \n",
       "13  [68.0, 78.0, 78.0, 80.0, 77.0, 85.0]   \n",
       "14  [64.0, 76.0, 79.0, 78.0, 82.0, 92.0]   \n",
       "15  [40.0, 62.0, 68.0, 80.0, 82.0, 78.0]   \n",
       "16  [35.0, 43.0, 48.0, 74.0, 76.0, 62.0]   \n",
       "17  [74.0, 81.0, 91.0, 37.0, 64.0, 83.0]   \n",
       "18  [77.0, 79.0, 80.0, 48.0, 61.0, 74.0]   \n",
       "19  [68.0, 80.0, 81.0, 75.0, 72.0, 73.0]   \n",
       "20  [78.0, 64.0, 73.0, 35.0, 80.0, 66.0]   \n",
       "21  [65.0, 74.0, 79.0, 70.0, 67.0, 71.0]   \n",
       "22  [70.0, 72.0, 85.0, 37.0, 59.0, 89.0]   \n",
       "23  [33.0, 58.0, 59.0, 79.0, 77.0, 67.0]   \n",
       "24  [77.0, 82.0, 85.0, 65.0, 74.0, 77.0]   \n",
       "25  [47.0, 68.0, 71.0, 80.0, 76.0, 77.0]   \n",
       "26  [64.0, 75.0, 77.0, 81.0, 85.0, 83.0]   \n",
       "27  [69.0, 77.0, 81.0, 64.0, 67.0, 67.0]   \n",
       "28  [51.0, 68.0, 80.0, 81.0, 74.0, 86.0]   \n",
       "29  [66.0, 80.0, 87.0, 69.0, 72.0, 74.0]   \n",
       "30        [0.0, 0.0, 0.0, 0.0, 0.0, 0.0]   \n",
       "\n",
       "                              skill_2020  \\\n",
       "0   [84.0, 78.0, 90.0, 39.0, 75.0, 96.0]   \n",
       "1   [69.0, 86.0, 84.0, 79.0, 78.0, 72.0]   \n",
       "2   [73.0, 57.0, 72.0, 36.0, 79.0, 86.0]   \n",
       "3         [0.0, 0.0, 0.0, 0.0, 0.0, 0.0]   \n",
       "4   [64.0, 84.0, 87.0, 76.0, 77.0, 78.0]   \n",
       "5   [68.0, 77.0, 77.0, 82.0, 80.0, 67.0]   \n",
       "6   [62.0, 82.0, 78.0, 79.0, 70.0, 80.0]   \n",
       "7         [0.0, 0.0, 0.0, 0.0, 0.0, 0.0]   \n",
       "8   [82.0, 79.0, 83.0, 39.0, 63.0, 80.0]   \n",
       "9   [37.0, 64.0, 68.0, 77.0, 77.0, 62.0]   \n",
       "10  [78.0, 79.0, 84.0, 44.0, 65.0, 84.0]   \n",
       "11  [66.0, 76.0, 76.0, 72.0, 76.0, 79.0]   \n",
       "12  [62.0, 68.0, 78.0, 42.0, 51.0, 87.0]   \n",
       "13  [65.0, 73.0, 78.0, 73.0, 73.0, 83.0]   \n",
       "14  [64.0, 73.0, 79.0, 75.0, 81.0, 89.0]   \n",
       "15  [36.0, 59.0, 61.0, 75.0, 80.0, 76.0]   \n",
       "16  [35.0, 43.0, 48.0, 74.0, 77.0, 64.0]   \n",
       "17  [72.0, 77.0, 90.0, 36.0, 60.0, 88.0]   \n",
       "18  [68.0, 75.0, 77.0, 46.0, 53.0, 71.0]   \n",
       "19  [64.0, 79.0, 81.0, 72.0, 78.0, 85.0]   \n",
       "20  [83.0, 63.0, 76.0, 35.0, 82.0, 67.0]   \n",
       "21  [70.0, 73.0, 74.0, 68.0, 66.0, 72.0]   \n",
       "22  [68.0, 70.0, 84.0, 36.0, 58.0, 90.0]   \n",
       "23  [33.0, 58.0, 59.0, 75.0, 74.0, 66.0]   \n",
       "24  [78.0, 82.0, 85.0, 65.0, 72.0, 77.0]   \n",
       "25  [45.0, 68.0, 71.0, 82.0, 79.0, 78.0]   \n",
       "26  [63.0, 75.0, 77.0, 79.0, 82.0, 82.0]   \n",
       "27  [66.0, 75.0, 79.0, 64.0, 67.0, 70.0]   \n",
       "28  [50.0, 65.0, 78.0, 81.0, 72.0, 87.0]   \n",
       "29  [65.0, 78.0, 87.0, 70.0, 78.0, 79.0]   \n",
       "30        [0.0, 0.0, 0.0, 0.0, 0.0, 0.0]   \n",
       "\n",
       "                              skill_2019  \\\n",
       "0   [81.0, 79.0, 89.0, 39.0, 72.0, 96.0]   \n",
       "1   [68.0, 83.0, 82.0, 77.0, 73.0, 73.0]   \n",
       "2   [64.0, 52.0, 66.0, 32.0, 78.0, 79.0]   \n",
       "3         [0.0, 0.0, 0.0, 0.0, 0.0, 0.0]   \n",
       "4   [56.0, 79.0, 85.0, 66.0, 65.0, 73.0]   \n",
       "5   [69.0, 75.0, 78.0, 76.0, 75.0, 68.0]   \n",
       "6   [60.0, 75.0, 72.0, 74.0, 69.0, 80.0]   \n",
       "7         [0.0, 0.0, 0.0, 0.0, 0.0, 0.0]   \n",
       "8   [75.0, 78.0, 82.0, 38.0, 58.0, 73.0]   \n",
       "9   [32.0, 57.0, 59.0, 71.0, 71.0, 61.0]   \n",
       "10  [64.0, 76.0, 80.0, 38.0, 60.0, 77.0]   \n",
       "11  [52.0, 69.0, 68.0, 61.0, 68.0, 68.0]   \n",
       "12  [61.0, 62.0, 74.0, 36.0, 42.0, 78.0]   \n",
       "13  [63.0, 70.0, 74.0, 71.0, 73.0, 75.0]   \n",
       "14  [63.0, 73.0, 79.0, 73.0, 78.0, 87.0]   \n",
       "15  [36.0, 59.0, 61.0, 74.0, 80.0, 79.0]   \n",
       "16  [35.0, 42.0, 47.0, 70.0, 78.0, 63.0]   \n",
       "17  [58.0, 63.0, 84.0, 32.0, 52.0, 85.0]   \n",
       "18  [67.0, 74.0, 77.0, 44.0, 51.0, 73.0]   \n",
       "19  [63.0, 75.0, 76.0, 65.0, 74.0, 85.0]   \n",
       "20  [79.0, 61.0, 71.0, 29.0, 76.0, 62.0]   \n",
       "21  [67.0, 69.0, 73.0, 62.0, 54.0, 70.0]   \n",
       "22  [69.0, 71.0, 85.0, 36.0, 58.0, 91.0]   \n",
       "23  [33.0, 57.0, 60.0, 73.0, 72.0, 69.0]   \n",
       "24  [74.0, 79.0, 81.0, 64.0, 70.0, 74.0]   \n",
       "25  [42.0, 65.0, 70.0, 79.0, 79.0, 80.0]   \n",
       "26  [56.0, 74.0, 74.0, 78.0, 82.0, 78.0]   \n",
       "27  [63.0, 70.0, 75.0, 60.0, 61.0, 70.0]   \n",
       "28  [47.0, 60.0, 68.0, 72.0, 66.0, 84.0]   \n",
       "29  [66.0, 76.0, 85.0, 70.0, 78.0, 80.0]   \n",
       "30        [0.0, 0.0, 0.0, 0.0, 0.0, 0.0]   \n",
       "\n",
       "                              skill_2018  \\\n",
       "0   [80.0, 74.0, 85.0, 47.0, 74.0, 90.0]   \n",
       "1   [67.0, 82.0, 80.0, 77.0, 73.0, 70.0]   \n",
       "2   [58.0, 47.0, 60.0, 21.0, 70.0, 70.0]   \n",
       "3         [0.0, 0.0, 0.0, 0.0, 0.0, 0.0]   \n",
       "4   [51.0, 73.0, 79.0, 58.0, 60.0, 76.0]   \n",
       "5   [59.0, 65.0, 69.0, 69.0, 67.0, 62.0]   \n",
       "6   [58.0, 70.0, 67.0, 64.0, 66.0, 81.0]   \n",
       "7         [0.0, 0.0, 0.0, 0.0, 0.0, 0.0]   \n",
       "8   [73.0, 76.0, 80.0, 33.0, 57.0, 73.0]   \n",
       "9   [30.0, 47.0, 51.0, 61.0, 67.0, 63.0]   \n",
       "10  [59.0, 71.0, 75.0, 40.0, 57.0, 72.0]   \n",
       "11  [51.0, 68.0, 66.0, 60.0, 63.0, 68.0]   \n",
       "12  [53.0, 49.0, 64.0, 36.0, 37.0, 73.0]   \n",
       "13  [61.0, 65.0, 68.0, 65.0, 70.0, 76.0]   \n",
       "14  [52.0, 64.0, 71.0, 68.0, 76.0, 81.0]   \n",
       "15  [32.0, 53.0, 57.0, 69.0, 71.0, 79.0]   \n",
       "16  [34.0, 39.0, 40.0, 63.0, 71.0, 61.0]   \n",
       "17  [55.0, 55.0, 71.0, 30.0, 47.0, 76.0]   \n",
       "18  [58.0, 64.0, 71.0, 44.0, 47.0, 69.0]   \n",
       "19  [53.0, 66.0, 68.0, 62.0, 55.0, 79.0]   \n",
       "20  [72.0, 56.0, 64.0, 24.0, 73.0, 63.0]   \n",
       "21  [47.0, 63.0, 68.0, 47.0, 49.0, 69.0]   \n",
       "22  [68.0, 70.0, 84.0, 33.0, 56.0, 91.0]   \n",
       "23  [33.0, 56.0, 59.0, 78.0, 72.0, 71.0]   \n",
       "24  [62.0, 76.0, 77.0, 40.0, 63.0, 75.0]   \n",
       "25  [36.0, 48.0, 61.0, 73.0, 70.0, 56.0]   \n",
       "26  [40.0, 72.0, 72.0, 69.0, 79.0, 70.0]   \n",
       "27  [60.0, 63.0, 69.0, 40.0, 53.0, 67.0]   \n",
       "28  [48.0, 50.0, 60.0, 28.0, 46.0, 73.0]   \n",
       "29  [61.0, 72.0, 73.0, 70.0, 73.0, 74.0]   \n",
       "30        [0.0, 0.0, 0.0, 0.0, 0.0, 0.0]   \n",
       "\n",
       "                              skill_2017  \\\n",
       "0   [75.0, 72.0, 82.0, 47.0, 72.0, 88.0]   \n",
       "1   [67.0, 80.0, 78.0, 76.0, 71.0, 70.0]   \n",
       "2   [57.0, 44.0, 58.0, 18.0, 63.0, 69.0]   \n",
       "3         [0.0, 0.0, 0.0, 0.0, 0.0, 0.0]   \n",
       "4   [51.0, 70.0, 77.0, 58.0, 59.0, 69.0]   \n",
       "5   [50.0, 62.0, 56.0, 67.0, 62.0, 56.0]   \n",
       "6   [56.0, 67.0, 65.0, 62.0, 65.0, 83.0]   \n",
       "7         [0.0, 0.0, 0.0, 0.0, 0.0, 0.0]   \n",
       "8   [72.0, 74.0, 80.0, 33.0, 58.0, 73.0]   \n",
       "9   [29.0, 36.0, 41.0, 57.0, 63.0, 62.0]   \n",
       "10  [57.0, 68.0, 72.0, 40.0, 55.0, 72.0]   \n",
       "11                       [0, 0, 0, 0, 0]   \n",
       "12                       [0, 0, 0, 0, 0]   \n",
       "13  [59.0, 63.0, 67.0, 62.0, 68.0, 77.0]   \n",
       "14  [38.0, 53.0, 61.0, 63.0, 73.0, 72.0]   \n",
       "15  [32.0, 52.0, 55.0, 64.0, 70.0, 71.0]   \n",
       "16  [34.0, 39.0, 40.0, 63.0, 71.0, 62.0]   \n",
       "17                       [0, 0, 0, 0, 0]   \n",
       "18  [56.0, 56.0, 57.0, 31.0, 39.0, 69.0]   \n",
       "19  [53.0, 66.0, 68.0, 62.0, 55.0, 79.0]   \n",
       "20  [66.0, 47.0, 59.0, 22.0, 63.0, 56.0]   \n",
       "21  [47.0, 63.0, 68.0, 47.0, 48.0, 73.0]   \n",
       "22  [67.0, 67.0, 81.0, 31.0, 55.0, 89.0]   \n",
       "23  [33.0, 53.0, 58.0, 76.0, 72.0, 71.0]   \n",
       "24  [58.0, 76.0, 76.0, 40.0, 63.0, 77.0]   \n",
       "25  [36.0, 43.0, 53.0, 68.0, 66.0, 72.0]   \n",
       "26  [40.0, 72.0, 72.0, 69.0, 79.0, 70.0]   \n",
       "27  [39.0, 60.0, 52.0, 37.0, 40.0, 60.0]   \n",
       "28  [48.0, 50.0, 61.0, 28.0, 48.0, 77.0]   \n",
       "29  [54.0, 64.0, 66.0, 56.0, 55.0, 75.0]   \n",
       "30        [0.0, 0.0, 0.0, 0.0, 0.0, 0.0]   \n",
       "\n",
       "                              skill_2016  \\\n",
       "0   [62.0, 56.0, 70.0, 30.0, 54.0, 81.0]   \n",
       "1   [52.0, 71.0, 73.0, 59.0, 63.0, 62.0]   \n",
       "2                        [0, 0, 0, 0, 0]   \n",
       "3         [0.0, 0.0, 0.0, 0.0, 0.0, 0.0]   \n",
       "4   [51.0, 65.0, 65.0, 48.0, 52.0, 66.0]   \n",
       "5   [50.0, 62.0, 55.0, 63.0, 63.0, 62.0]   \n",
       "6   [46.0, 61.0, 59.0, 51.0, 59.0, 65.0]   \n",
       "7                        [0, 0, 0, 0, 0]   \n",
       "8   [44.0, 57.0, 56.0, 33.0, 53.0, 63.0]   \n",
       "9                        [0, 0, 0, 0, 0]   \n",
       "10                       [0, 0, 0, 0, 0]   \n",
       "11                       [0, 0, 0, 0, 0]   \n",
       "12                       [0, 0, 0, 0, 0]   \n",
       "13  [54.0, 59.0, 64.0, 43.0, 55.0, 77.0]   \n",
       "14  [27.0, 34.0, 49.0, 57.0, 65.0, 73.0]   \n",
       "15  [24.0, 31.0, 30.0, 55.0, 54.0, 49.0]   \n",
       "16  [34.0, 35.0, 36.0, 58.0, 63.0, 61.0]   \n",
       "17                       [0, 0, 0, 0, 0]   \n",
       "18                       [0, 0, 0, 0, 0]   \n",
       "19  [53.0, 61.0, 66.0, 60.0, 44.0, 78.0]   \n",
       "20  [66.0, 48.0, 61.0, 22.0, 63.0, 58.0]   \n",
       "21  [47.0, 50.0, 61.0, 32.0, 45.0, 73.0]   \n",
       "22  [53.0, 57.0, 73.0, 29.0, 43.0, 80.0]   \n",
       "23  [32.0, 50.0, 48.0, 68.0, 62.0, 65.0]   \n",
       "24  [45.0, 51.0, 57.0, 22.0, 44.0, 65.0]   \n",
       "25  [27.0, 28.0, 33.0, 53.0, 63.0, 54.0]   \n",
       "26  [34.0, 56.0, 60.0, 57.0, 75.0, 70.0]   \n",
       "27                       [0, 0, 0, 0, 0]   \n",
       "28  [56.0, 52.0, 62.0, 30.0, 48.0, 73.0]   \n",
       "29                       [0, 0, 0, 0, 0]   \n",
       "30        [0.0, 0.0, 0.0, 0.0, 0.0, 0.0]   \n",
       "\n",
       "                                             timeline  \\\n",
       "0   [{'club_name': 'Paris Saint Germain', 'start_d...   \n",
       "1   [{'club_name': 'FC Bayern München', 'start_dat...   \n",
       "2   [{'club_name': 'Manchester City', 'start_date'...   \n",
       "3   [{'club_name': 'Milan', 'start_date': '2022-01...   \n",
       "4   [{'club_name': 'FC Barcelona', 'start_date': '...   \n",
       "5   [{'club_name': 'Manchester City', 'start_date'...   \n",
       "6   [{'club_name': 'Liverpool', 'start_date': '201...   \n",
       "7   [{'club_name': 'Borussia Dortmund', 'start_dat...   \n",
       "8   [{'club_name': 'Real Sociedad', 'start_date': ...   \n",
       "9   [{'club_name': 'West Ham United', 'start_date'...   \n",
       "10  [{'club_name': 'Chelsea', 'start_date': '2021-...   \n",
       "11  [{'club_name': 'Milan', 'start_date': '2021-01...   \n",
       "12  [{'club_name': 'Bayer 04 Leverkusen', 'start_d...   \n",
       "13  [{'club_name': 'RB Leipzig', 'start_date': '20...   \n",
       "14  [{'club_name': 'Real Madrid', 'start_date': '2...   \n",
       "15  [{'club_name': 'FC Bayern München', 'start_dat...   \n",
       "16  [{'club_name': 'Tottenham Hotspur', 'start_dat...   \n",
       "17  [{'club_name': 'Manchester United', 'start_dat...   \n",
       "18  [{'club_name': 'Chelsea', 'start_date': '2017-...   \n",
       "19  [{'club_name': 'TSG Hoffenheim', 'start_date':...   \n",
       "20  [{'club_name': 'Real Betis', 'start_date': '20...   \n",
       "21  [{'club_name': 'Milan', 'start_date': '2020-01...   \n",
       "22  [{'club_name': 'Chelsea', 'start_date': '2020-...   \n",
       "23  [{'club_name': 'Real Sociedad', 'start_date': ...   \n",
       "24  [{'club_name': 'Villarreal', 'start_date': '20...   \n",
       "25  [{'club_name': 'Manchester City', 'start_date'...   \n",
       "26  [{'club_name': 'Chelsea', 'start_date': '2023-...   \n",
       "27  [{'club_name': 'Borussia Mönchengladbach', 'st...   \n",
       "28  [{'club_name': 'Manchester United', 'start_dat...   \n",
       "29  [{'club_name': 'Napoli', 'start_date': '2023-0...   \n",
       "30  [{'club_name': 'Fiorentina', 'start_date': '20...   \n",
       "\n",
       "                              skill_2015  \n",
       "0                        [0, 0, 0, 0, 0]  \n",
       "1   [51.0, 65.0, 69.0, 54.0, 63.0, 69.0]  \n",
       "2                        [0, 0, 0, 0, 0]  \n",
       "3         [0.0, 0.0, 0.0, 0.0, 0.0, 0.0]  \n",
       "4   [46.0, 62.0, 61.0, 46.0, 52.0, 65.0]  \n",
       "5                        [0, 0, 0, 0, 0]  \n",
       "6                        [0, 0, 0, 0, 0]  \n",
       "7                        [0, 0, 0, 0, 0]  \n",
       "8                        [0, 0, 0, 0, 0]  \n",
       "9                        [0, 0, 0, 0, 0]  \n",
       "10                       [0, 0, 0, 0, 0]  \n",
       "11                       [0, 0, 0, 0, 0]  \n",
       "12                       [0, 0, 0, 0, 0]  \n",
       "13  [44.0, 47.0, 55.0, 28.0, 47.0, 68.0]  \n",
       "14  [26.0, 33.0, 48.0, 54.0, 65.0, 73.0]  \n",
       "15                       [0, 0, 0, 0, 0]  \n",
       "16                       [0, 0, 0, 0, 0]  \n",
       "17                       [0, 0, 0, 0, 0]  \n",
       "18                       [0, 0, 0, 0, 0]  \n",
       "19  [50.0, 57.0, 58.0, 52.0, 47.0, 75.0]  \n",
       "20  [53.0, 38.0, 46.0, 26.0, 57.0, 52.0]  \n",
       "21  [46.0, 49.0, 60.0, 31.0, 45.0, 73.0]  \n",
       "22                       [0, 0, 0, 0, 0]  \n",
       "23  [31.0, 48.0, 46.0, 66.0, 63.0, 61.0]  \n",
       "24  [44.0, 50.0, 56.0, 24.0, 43.0, 65.0]  \n",
       "25                       [0, 0, 0, 0, 0]  \n",
       "26                       [0, 0, 0, 0, 0]  \n",
       "27                       [0, 0, 0, 0, 0]  \n",
       "28                       [0, 0, 0, 0, 0]  \n",
       "29                       [0, 0, 0, 0, 0]  \n",
       "30        [0.0, 0.0, 0.0, 0.0, 0.0, 0.0]  \n",
       "\n",
       "[31 rows x 22 columns]"
      ]
     },
     "execution_count": 56,
     "metadata": {},
     "output_type": "execute_result"
    }
   ],
   "source": [
    "json_df"
   ]
  },
  {
   "cell_type": "code",
   "execution_count": 57,
   "metadata": {},
   "outputs": [],
   "source": [
    "import json\n",
    "json_str = json_df.to_dict(orient='records')\n",
    "with open('FootViz/public/improved_players.json', 'w') as file:\n",
    "    json.dump(json_str, file)"
   ]
  },
  {
   "cell_type": "code",
   "execution_count": null,
   "metadata": {},
   "outputs": [],
   "source": []
  }
 ],
 "metadata": {
  "kernelspec": {
   "display_name": "base",
   "language": "python",
   "name": "python3"
  },
  "language_info": {
   "codemirror_mode": {
    "name": "ipython",
    "version": 3
   },
   "file_extension": ".py",
   "mimetype": "text/x-python",
   "name": "python",
   "nbconvert_exporter": "python",
   "pygments_lexer": "ipython3",
   "version": "3.11.7"
  }
 },
 "nbformat": 4,
 "nbformat_minor": 2
}
